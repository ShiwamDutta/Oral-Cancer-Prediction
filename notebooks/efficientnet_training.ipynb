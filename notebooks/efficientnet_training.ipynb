{
 "cells": [
  {
   "cell_type": "code",
   "execution_count": 1,
   "metadata": {
    "executionInfo": {
     "elapsed": 9301,
     "status": "ok",
     "timestamp": 1751602830372,
     "user": {
      "displayName": "Shiwam Dutta",
      "userId": "11111948761228755611"
     },
     "user_tz": -330
    },
    "id": "eiE9zQ3Vnyjb"
   },
   "outputs": [],
   "source": [
    "import os\n",
    "from math import ceil\n",
    "import numpy as np\n",
    "import tensorflow as tf\n",
    "from tensorflow.keras import models, layers\n",
    "from tensorflow.keras.applications import EfficientNetB0\n",
    "from tensorflow.keras.preprocessing import image_dataset_from_directory\n",
    "from tensorflow.keras.callbacks import EarlyStopping\n",
    "from sklearn.metrics import classification_report"
   ]
  },
  {
   "cell_type": "code",
   "execution_count": null,
   "metadata": {
    "executionInfo": {
     "elapsed": 20,
     "status": "ok",
     "timestamp": 1751602830417,
     "user": {
      "displayName": "Shiwam Dutta",
      "userId": "11111948761228755611"
     },
     "user_tz": -330
    },
    "id": "AEK8xsf7ohQi"
   },
   "outputs": [],
   "source": [
    "ROOT = \"Oral Cancer Prediction\"\n",
    "DATA_PATH = os.path.join(ROOT, \"assets\", \"dataset\")\n",
    "\n",
    "IMG_SIZE = (224, 224)\n",
    "\n",
    "BATCH_SIZE = 32"
   ]
  },
  {
   "cell_type": "code",
   "execution_count": null,
   "metadata": {
    "colab": {
     "base_uri": "https://localhost:8080/"
    },
    "executionInfo": {
     "elapsed": 3108,
     "status": "ok",
     "timestamp": 1751602833514,
     "user": {
      "displayName": "Shiwam Dutta",
      "userId": "11111948761228755611"
     },
     "user_tz": -330
    },
    "id": "kII2T4I-osV3",
    "outputId": "d6ebe9e3-25c4-47c1-d188-3fb001ff13bd"
   },
   "outputs": [
    {
     "name": "stdout",
     "output_type": "stream",
     "text": [
      "Found 719 files belonging to 2 classes.\n"
     ]
    }
   ],
   "source": [
    "ds = image_dataset_from_directory(\n",
    "    DATA_PATH, image_size=IMG_SIZE, batch_size=BATCH_SIZE, shuffle=True, seed=123\n",
    ")"
   ]
  },
  {
   "cell_type": "code",
   "execution_count": null,
   "metadata": {
    "colab": {
     "base_uri": "https://localhost:8080/"
    },
    "executionInfo": {
     "elapsed": 33,
     "status": "ok",
     "timestamp": 1751602833596,
     "user": {
      "displayName": "Shiwam Dutta",
      "userId": "11111948761228755611"
     },
     "user_tz": -330
    },
    "id": "BimKqvEKouqx",
    "outputId": "834714c1-a852-464a-cda4-2e15e02a5363"
   },
   "outputs": [
    {
     "name": "stdout",
     "output_type": "stream",
     "text": [
      "['cancer', 'normal']\n",
      "{0: 188, 1: 531}\n"
     ]
    }
   ],
   "source": [
    "CLASS_NAMES = ds.class_names\n",
    "print(CLASS_NAMES)\n",
    "\n",
    "class_counts = {\n",
    "    0: os.listdir(os.path.join(DATA_PATH, CLASS_NAMES[0])).__len__(),\n",
    "    1: os.listdir(os.path.join(DATA_PATH, CLASS_NAMES[1])).__len__(),\n",
    "}\n",
    "print(class_counts)"
   ]
  },
  {
   "cell_type": "markdown",
   "metadata": {
    "id": "5lFJp1mZo79p"
   },
   "source": [
    "# Bulding the model\n"
   ]
  },
  {
   "cell_type": "code",
   "execution_count": null,
   "metadata": {
    "executionInfo": {
     "elapsed": 73,
     "status": "ok",
     "timestamp": 1751602833684,
     "user": {
      "displayName": "Shiwam Dutta",
      "userId": "11111948761228755611"
     },
     "user_tz": -330
    },
    "id": "zhDRnWlBo56g"
   },
   "outputs": [],
   "source": [
    "def report(model_name):\n",
    "    # Evaluate model on training, validation, and testing datasets\n",
    "    train_eval = model_name.evaluate(train_ds)\n",
    "    val_eval = model_name.evaluate(val_ds)\n",
    "    test_eval = model_name.evaluate(test_ds)\n",
    "\n",
    "    print(\n",
    "        f\"[train] acc: {train_eval[1]:.4f} - auc: {train_eval[2]:.4f} - loss: {train_eval[0]:.4f}\"\n",
    "    )\n",
    "    print(\n",
    "        f\"[val]   acc: {val_eval[1]:.4f} - auc: {val_eval[2]:.4f} - loss: {val_eval[0]:.4f}\"\n",
    "    )\n",
    "    print(\n",
    "        f\"[test]  acc: {test_eval[1]:.4f} - auc: {test_eval[2]:.4f} - loss: {test_eval[0]:.4f}\\n\"\n",
    "    )\n",
    "\n",
    "    # Get True and Predicted results\n",
    "    y_true = np.concatenate([y.numpy() for x, y in val_ds], axis=0)\n",
    "    y_pred_probs = model_name.predict(val_ds)\n",
    "    y_pred = np.argmax(y_pred_probs, axis=1)\n",
    "\n",
    "    # Generate Classification report\n",
    "    print(classification_report(y_true, y_pred, target_names=CLASS_NAMES, digits=4))"
   ]
  },
  {
   "cell_type": "code",
   "execution_count": null,
   "metadata": {
    "executionInfo": {
     "elapsed": 44,
     "status": "ok",
     "timestamp": 1751602833748,
     "user": {
      "displayName": "Shiwam Dutta",
      "userId": "11111948761228755611"
     },
     "user_tz": -330
    },
    "id": "OeAKqT4oox6b"
   },
   "outputs": [],
   "source": [
    "def train(\n",
    "    model,\n",
    "    train_ds,\n",
    "    val_ds,\n",
    "    opti=\"adam\",\n",
    "    log_monitor=\"val_auc\",\n",
    "    md=\"max\",\n",
    "    patience=5,\n",
    "    batch_size=BATCH_SIZE,\n",
    "    epochs=100,\n",
    "):\n",
    "    tf.keras.backend.clear_session()\n",
    "    # Compile\n",
    "    model.compile(\n",
    "        optimizer=opti,\n",
    "        loss=\"binary_crossentropy\",\n",
    "        metrics=[\"accuracy\", tf.keras.metrics.AUC()],\n",
    "    )\n",
    "\n",
    "    early_stop = tf.keras.callbacks.EarlyStopping(\n",
    "        monitor=log_monitor, patience=patience, mode=md, restore_best_weights=True\n",
    "    )\n",
    "\n",
    "    # Train\n",
    "    history = model.fit(\n",
    "        train_ds,\n",
    "        validation_data=val_ds,\n",
    "        batch_size=batch_size,\n",
    "        epochs=epochs,\n",
    "        callbacks=[early_stop],\n",
    "    )"
   ]
  },
  {
   "cell_type": "markdown",
   "metadata": {
    "id": "5g8Hb_OgpAlQ"
   },
   "source": [
    "## Agumenting dataset\n"
   ]
  },
  {
   "cell_type": "code",
   "execution_count": null,
   "metadata": {
    "executionInfo": {
     "elapsed": 77,
     "status": "ok",
     "timestamp": 1751602833793,
     "user": {
      "displayName": "Shiwam Dutta",
      "userId": "11111948761228755611"
     },
     "user_tz": -330
    },
    "id": "7O7h6cUEpD_m"
   },
   "outputs": [],
   "source": [
    "def dataset_partitions(\n",
    "    ds, train_split=0.8, val_split=0.1, shuffle=True, shuffle_size=1000\n",
    "):\n",
    "    if shuffle:\n",
    "        ds.shuffle(shuffle_size)\n",
    "\n",
    "    ds_size = int(ds.reduce(0, lambda x, _: x + 1).numpy())\n",
    "    train_size = int(ds_size * train_split)\n",
    "    val_size = ceil(ds_size * val_split)\n",
    "\n",
    "    train_ds = ds.take(train_size)\n",
    "    val_ds = ds.skip(train_size).take(val_size)\n",
    "    test_ds = ds.skip(train_size).skip(val_size)\n",
    "\n",
    "    print(f\"Number of batches  : {ds_size}\")\n",
    "    print(f\"Training batches   : {train_size}\")\n",
    "    print(f\"Validating batches : {val_size}\")\n",
    "    print(f\"Testing batches    : {ds_size - train_size - val_size}\")\n",
    "\n",
    "    return train_ds, val_ds, test_ds"
   ]
  },
  {
   "cell_type": "code",
   "execution_count": 8,
   "metadata": {
    "colab": {
     "base_uri": "https://localhost:8080/"
    },
    "executionInfo": {
     "elapsed": 119575,
     "status": "ok",
     "timestamp": 1751602953311,
     "user": {
      "displayName": "Shiwam Dutta",
      "userId": "11111948761228755611"
     },
     "user_tz": -330
    },
    "id": "MLgJ9yOgpO34",
    "outputId": "a421b5d1-5dc4-41a6-cfc2-0a4435a28385"
   },
   "outputs": [
    {
     "name": "stdout",
     "output_type": "stream",
     "text": [
      "Number of batches  : 23\n",
      "Training batches   : 18\n",
      "Validating batches : 3\n",
      "Testing batches    : 2\n"
     ]
    }
   ],
   "source": [
    "train_ds, val_ds, test_ds = dataset_partitions(ds)\n",
    "\n",
    "train_ds = train_ds.cache().prefetch(buffer_size=tf.data.AUTOTUNE)\n",
    "val_ds = val_ds.cache().prefetch(buffer_size=tf.data.AUTOTUNE)\n",
    "test_ds = test_ds.cache().prefetch(buffer_size=tf.data.AUTOTUNE)"
   ]
  },
  {
   "cell_type": "code",
   "execution_count": null,
   "metadata": {
    "executionInfo": {
     "elapsed": 32,
     "status": "ok",
     "timestamp": 1751602953317,
     "user": {
      "displayName": "Shiwam Dutta",
      "userId": "11111948761228755611"
     },
     "user_tz": -330
    },
    "id": "WS11PG-YpSad"
   },
   "outputs": [],
   "source": [
    "data_augmentation = tf.keras.Sequential(\n",
    "    [\n",
    "        layers.RandomFlip(\"horizontal\"),\n",
    "        layers.RandomRotation(0.2),\n",
    "        layers.RandomZoom(0.1),\n",
    "    ]\n",
    ")"
   ]
  },
  {
   "cell_type": "markdown",
   "metadata": {
    "id": "blDDxPBIpXKK"
   },
   "source": [
    "## Model design\n"
   ]
  },
  {
   "cell_type": "code",
   "execution_count": null,
   "metadata": {
    "colab": {
     "base_uri": "https://localhost:8080/",
     "height": 324
    },
    "executionInfo": {
     "elapsed": 2336,
     "status": "ok",
     "timestamp": 1751602955634,
     "user": {
      "displayName": "Shiwam Dutta",
      "userId": "11111948761228755611"
     },
     "user_tz": -330
    },
    "id": "UVeopi1lpZbI",
    "outputId": "81fe3bd9-9e1a-4b59-b87e-255130605999"
   },
   "outputs": [
    {
     "name": "stdout",
     "output_type": "stream",
     "text": [
      "Downloading data from https://storage.googleapis.com/keras-applications/efficientnetb0_notop.h5\n",
      "\u001b[1m16705208/16705208\u001b[0m \u001b[32m━━━━━━━━━━━━━━━━━━━━\u001b[0m\u001b[37m\u001b[0m \u001b[1m0s\u001b[0m 0us/step\n"
     ]
    },
    {
     "data": {
      "text/html": [
       "<pre style=\"white-space:pre;overflow-x:auto;line-height:normal;font-family:Menlo,'DejaVu Sans Mono',consolas,'Courier New',monospace\"><span style=\"font-weight: bold\">Model: \"functional_1\"</span>\n",
       "</pre>\n"
      ],
      "text/plain": [
       "\u001b[1mModel: \"functional_1\"\u001b[0m\n"
      ]
     },
     "metadata": {},
     "output_type": "display_data"
    },
    {
     "data": {
      "text/html": [
       "<pre style=\"white-space:pre;overflow-x:auto;line-height:normal;font-family:Menlo,'DejaVu Sans Mono',consolas,'Courier New',monospace\">┏━━━━━━━━━━━━━━━━━━━━━━━━━━━━━━━━━┳━━━━━━━━━━━━━━━━━━━━━━━━┳━━━━━━━━━━━━━━━┓\n",
       "┃<span style=\"font-weight: bold\"> Layer (type)                    </span>┃<span style=\"font-weight: bold\"> Output Shape           </span>┃<span style=\"font-weight: bold\">       Param # </span>┃\n",
       "┡━━━━━━━━━━━━━━━━━━━━━━━━━━━━━━━━━╇━━━━━━━━━━━━━━━━━━━━━━━━╇━━━━━━━━━━━━━━━┩\n",
       "│ input_layer_1 (<span style=\"color: #0087ff; text-decoration-color: #0087ff\">InputLayer</span>)      │ (<span style=\"color: #00d7ff; text-decoration-color: #00d7ff\">None</span>, <span style=\"color: #00af00; text-decoration-color: #00af00\">224</span>, <span style=\"color: #00af00; text-decoration-color: #00af00\">224</span>, <span style=\"color: #00af00; text-decoration-color: #00af00\">3</span>)    │             <span style=\"color: #00af00; text-decoration-color: #00af00\">0</span> │\n",
       "├─────────────────────────────────┼────────────────────────┼───────────────┤\n",
       "│ efficientnetb0 (<span style=\"color: #0087ff; text-decoration-color: #0087ff\">Functional</span>)     │ (<span style=\"color: #00d7ff; text-decoration-color: #00d7ff\">None</span>, <span style=\"color: #00af00; text-decoration-color: #00af00\">7</span>, <span style=\"color: #00af00; text-decoration-color: #00af00\">7</span>, <span style=\"color: #00af00; text-decoration-color: #00af00\">1280</span>)     │     <span style=\"color: #00af00; text-decoration-color: #00af00\">4,049,571</span> │\n",
       "├─────────────────────────────────┼────────────────────────┼───────────────┤\n",
       "│ global_average_pooling2d        │ (<span style=\"color: #00d7ff; text-decoration-color: #00d7ff\">None</span>, <span style=\"color: #00af00; text-decoration-color: #00af00\">1280</span>)           │             <span style=\"color: #00af00; text-decoration-color: #00af00\">0</span> │\n",
       "│ (<span style=\"color: #0087ff; text-decoration-color: #0087ff\">GlobalAveragePooling2D</span>)        │                        │               │\n",
       "├─────────────────────────────────┼────────────────────────┼───────────────┤\n",
       "│ dense (<span style=\"color: #0087ff; text-decoration-color: #0087ff\">Dense</span>)                   │ (<span style=\"color: #00d7ff; text-decoration-color: #00d7ff\">None</span>, <span style=\"color: #00af00; text-decoration-color: #00af00\">1</span>)              │         <span style=\"color: #00af00; text-decoration-color: #00af00\">1,281</span> │\n",
       "└─────────────────────────────────┴────────────────────────┴───────────────┘\n",
       "</pre>\n"
      ],
      "text/plain": [
       "┏━━━━━━━━━━━━━━━━━━━━━━━━━━━━━━━━━┳━━━━━━━━━━━━━━━━━━━━━━━━┳━━━━━━━━━━━━━━━┓\n",
       "┃\u001b[1m \u001b[0m\u001b[1mLayer (type)                   \u001b[0m\u001b[1m \u001b[0m┃\u001b[1m \u001b[0m\u001b[1mOutput Shape          \u001b[0m\u001b[1m \u001b[0m┃\u001b[1m \u001b[0m\u001b[1m      Param #\u001b[0m\u001b[1m \u001b[0m┃\n",
       "┡━━━━━━━━━━━━━━━━━━━━━━━━━━━━━━━━━╇━━━━━━━━━━━━━━━━━━━━━━━━╇━━━━━━━━━━━━━━━┩\n",
       "│ input_layer_1 (\u001b[38;5;33mInputLayer\u001b[0m)      │ (\u001b[38;5;45mNone\u001b[0m, \u001b[38;5;34m224\u001b[0m, \u001b[38;5;34m224\u001b[0m, \u001b[38;5;34m3\u001b[0m)    │             \u001b[38;5;34m0\u001b[0m │\n",
       "├─────────────────────────────────┼────────────────────────┼───────────────┤\n",
       "│ efficientnetb0 (\u001b[38;5;33mFunctional\u001b[0m)     │ (\u001b[38;5;45mNone\u001b[0m, \u001b[38;5;34m7\u001b[0m, \u001b[38;5;34m7\u001b[0m, \u001b[38;5;34m1280\u001b[0m)     │     \u001b[38;5;34m4,049,571\u001b[0m │\n",
       "├─────────────────────────────────┼────────────────────────┼───────────────┤\n",
       "│ global_average_pooling2d        │ (\u001b[38;5;45mNone\u001b[0m, \u001b[38;5;34m1280\u001b[0m)           │             \u001b[38;5;34m0\u001b[0m │\n",
       "│ (\u001b[38;5;33mGlobalAveragePooling2D\u001b[0m)        │                        │               │\n",
       "├─────────────────────────────────┼────────────────────────┼───────────────┤\n",
       "│ dense (\u001b[38;5;33mDense\u001b[0m)                   │ (\u001b[38;5;45mNone\u001b[0m, \u001b[38;5;34m1\u001b[0m)              │         \u001b[38;5;34m1,281\u001b[0m │\n",
       "└─────────────────────────────────┴────────────────────────┴───────────────┘\n"
      ]
     },
     "metadata": {},
     "output_type": "display_data"
    },
    {
     "data": {
      "text/html": [
       "<pre style=\"white-space:pre;overflow-x:auto;line-height:normal;font-family:Menlo,'DejaVu Sans Mono',consolas,'Courier New',monospace\"><span style=\"font-weight: bold\"> Total params: </span><span style=\"color: #00af00; text-decoration-color: #00af00\">4,050,852</span> (15.45 MB)\n",
       "</pre>\n"
      ],
      "text/plain": [
       "\u001b[1m Total params: \u001b[0m\u001b[38;5;34m4,050,852\u001b[0m (15.45 MB)\n"
      ]
     },
     "metadata": {},
     "output_type": "display_data"
    },
    {
     "data": {
      "text/html": [
       "<pre style=\"white-space:pre;overflow-x:auto;line-height:normal;font-family:Menlo,'DejaVu Sans Mono',consolas,'Courier New',monospace\"><span style=\"font-weight: bold\"> Trainable params: </span><span style=\"color: #00af00; text-decoration-color: #00af00\">1,281</span> (5.00 KB)\n",
       "</pre>\n"
      ],
      "text/plain": [
       "\u001b[1m Trainable params: \u001b[0m\u001b[38;5;34m1,281\u001b[0m (5.00 KB)\n"
      ]
     },
     "metadata": {},
     "output_type": "display_data"
    },
    {
     "data": {
      "text/html": [
       "<pre style=\"white-space:pre;overflow-x:auto;line-height:normal;font-family:Menlo,'DejaVu Sans Mono',consolas,'Courier New',monospace\"><span style=\"font-weight: bold\"> Non-trainable params: </span><span style=\"color: #00af00; text-decoration-color: #00af00\">4,049,571</span> (15.45 MB)\n",
       "</pre>\n"
      ],
      "text/plain": [
       "\u001b[1m Non-trainable params: \u001b[0m\u001b[38;5;34m4,049,571\u001b[0m (15.45 MB)\n"
      ]
     },
     "metadata": {},
     "output_type": "display_data"
    }
   ],
   "source": [
    "effnetB0_base_model = EfficientNetB0(weights=\"imagenet\", include_top=False)\n",
    "effnetB0_base_model.trainable = False\n",
    "\n",
    "inputs = tf.keras.Input(shape=(*IMG_SIZE, 3))\n",
    "x = data_augmentation(inputs)\n",
    "x = layers.Rescaling(1.0 / 255)(x)\n",
    "x = effnetB0_base_model(inputs, training=False)\n",
    "x = layers.GlobalAveragePooling2D()(x)\n",
    "outputs = layers.Dense(1, activation=\"sigmoid\")(x)\n",
    "model_effnetB0 = tf.keras.Model(inputs, outputs)\n",
    "\n",
    "model_effnetB0.summary()"
   ]
  },
  {
   "cell_type": "code",
   "execution_count": 12,
   "metadata": {
    "colab": {
     "base_uri": "https://localhost:8080/"
    },
    "executionInfo": {
     "elapsed": 2858826,
     "status": "ok",
     "timestamp": 1751605860815,
     "user": {
      "displayName": "Shiwam Dutta",
      "userId": "11111948761228755611"
     },
     "user_tz": -330
    },
    "id": "2C5Nyno5peK6",
    "outputId": "009517b6-39d5-42a4-9f1c-3c2bb2cbe13f"
   },
   "outputs": [
    {
     "name": "stdout",
     "output_type": "stream",
     "text": [
      "Epoch 1/50\n",
      "\u001b[1m18/18\u001b[0m \u001b[32m━━━━━━━━━━━━━━━━━━━━\u001b[0m\u001b[37m\u001b[0m \u001b[1m106s\u001b[0m 5s/step - accuracy: 0.6013 - auc: 0.5588 - loss: 0.6432 - val_accuracy: 0.7500 - val_auc: 0.7205 - val_loss: 0.5113\n",
      "Epoch 2/50\n",
      "\u001b[1m18/18\u001b[0m \u001b[32m━━━━━━━━━━━━━━━━━━━━\u001b[0m\u001b[37m\u001b[0m \u001b[1m57s\u001b[0m 3s/step - accuracy: 0.7725 - auc: 0.7825 - loss: 0.4892 - val_accuracy: 0.8229 - val_auc: 0.8756 - val_loss: 0.4126\n",
      "Epoch 3/50\n",
      "\u001b[1m18/18\u001b[0m \u001b[32m━━━━━━━━━━━━━━━━━━━━\u001b[0m\u001b[37m\u001b[0m \u001b[1m80s\u001b[0m 3s/step - accuracy: 0.8409 - auc: 0.8699 - loss: 0.4163 - val_accuracy: 0.8229 - val_auc: 0.8979 - val_loss: 0.3713\n",
      "Epoch 4/50\n",
      "\u001b[1m18/18\u001b[0m \u001b[32m━━━━━━━━━━━━━━━━━━━━\u001b[0m\u001b[37m\u001b[0m \u001b[1m59s\u001b[0m 3s/step - accuracy: 0.8392 - auc: 0.8746 - loss: 0.3921 - val_accuracy: 0.8125 - val_auc: 0.9117 - val_loss: 0.3413\n",
      "Epoch 5/50\n",
      "\u001b[1m18/18\u001b[0m \u001b[32m━━━━━━━━━━━━━━━━━━━━\u001b[0m\u001b[37m\u001b[0m \u001b[1m55s\u001b[0m 3s/step - accuracy: 0.8530 - auc: 0.8981 - loss: 0.3669 - val_accuracy: 0.8542 - val_auc: 0.9251 - val_loss: 0.3195\n",
      "Epoch 6/50\n",
      "\u001b[1m18/18\u001b[0m \u001b[32m━━━━━━━━━━━━━━━━━━━━\u001b[0m\u001b[37m\u001b[0m \u001b[1m57s\u001b[0m 3s/step - accuracy: 0.8579 - auc: 0.9159 - loss: 0.3423 - val_accuracy: 0.8750 - val_auc: 0.9303 - val_loss: 0.3038\n",
      "Epoch 7/50\n",
      "\u001b[1m18/18\u001b[0m \u001b[32m━━━━━━━━━━━━━━━━━━━━\u001b[0m\u001b[37m\u001b[0m \u001b[1m68s\u001b[0m 4s/step - accuracy: 0.8575 - auc: 0.9149 - loss: 0.3375 - val_accuracy: 0.8750 - val_auc: 0.9343 - val_loss: 0.2902\n",
      "Epoch 8/50\n",
      "\u001b[1m18/18\u001b[0m \u001b[32m━━━━━━━━━━━━━━━━━━━━\u001b[0m\u001b[37m\u001b[0m \u001b[1m56s\u001b[0m 3s/step - accuracy: 0.8680 - auc: 0.9277 - loss: 0.3173 - val_accuracy: 0.8750 - val_auc: 0.9424 - val_loss: 0.2776\n",
      "Epoch 9/50\n",
      "\u001b[1m18/18\u001b[0m \u001b[32m━━━━━━━━━━━━━━━━━━━━\u001b[0m\u001b[37m\u001b[0m \u001b[1m57s\u001b[0m 3s/step - accuracy: 0.8732 - auc: 0.9283 - loss: 0.3131 - val_accuracy: 0.8750 - val_auc: 0.9453 - val_loss: 0.2678\n",
      "Epoch 10/50\n",
      "\u001b[1m18/18\u001b[0m \u001b[32m━━━━━━━━━━━━━━━━━━━━\u001b[0m\u001b[37m\u001b[0m \u001b[1m82s\u001b[0m 3s/step - accuracy: 0.8798 - auc: 0.9496 - loss: 0.2858 - val_accuracy: 0.8750 - val_auc: 0.9505 - val_loss: 0.2578\n",
      "Epoch 11/50\n",
      "\u001b[1m18/18\u001b[0m \u001b[32m━━━━━━━━━━━━━━━━━━━━\u001b[0m\u001b[37m\u001b[0m \u001b[1m66s\u001b[0m 4s/step - accuracy: 0.8899 - auc: 0.9441 - loss: 0.2845 - val_accuracy: 0.8958 - val_auc: 0.9554 - val_loss: 0.2501\n",
      "Epoch 12/50\n",
      "\u001b[1m18/18\u001b[0m \u001b[32m━━━━━━━━━━━━━━━━━━━━\u001b[0m\u001b[37m\u001b[0m \u001b[1m59s\u001b[0m 3s/step - accuracy: 0.8977 - auc: 0.9546 - loss: 0.2731 - val_accuracy: 0.8958 - val_auc: 0.9598 - val_loss: 0.2429\n",
      "Epoch 13/50\n",
      "\u001b[1m18/18\u001b[0m \u001b[32m━━━━━━━━━━━━━━━━━━━━\u001b[0m\u001b[37m\u001b[0m \u001b[1m89s\u001b[0m 4s/step - accuracy: 0.9018 - auc: 0.9579 - loss: 0.2634 - val_accuracy: 0.8958 - val_auc: 0.9630 - val_loss: 0.2377\n",
      "Epoch 14/50\n",
      "\u001b[1m18/18\u001b[0m \u001b[32m━━━━━━━━━━━━━━━━━━━━\u001b[0m\u001b[37m\u001b[0m \u001b[1m57s\u001b[0m 3s/step - accuracy: 0.8959 - auc: 0.9571 - loss: 0.2608 - val_accuracy: 0.8958 - val_auc: 0.9647 - val_loss: 0.2301\n",
      "Epoch 15/50\n",
      "\u001b[1m18/18\u001b[0m \u001b[32m━━━━━━━━━━━━━━━━━━━━\u001b[0m\u001b[37m\u001b[0m \u001b[1m58s\u001b[0m 3s/step - accuracy: 0.9234 - auc: 0.9649 - loss: 0.2453 - val_accuracy: 0.8958 - val_auc: 0.9670 - val_loss: 0.2260\n",
      "Epoch 16/50\n",
      "\u001b[1m18/18\u001b[0m \u001b[32m━━━━━━━━━━━━━━━━━━━━\u001b[0m\u001b[37m\u001b[0m \u001b[1m57s\u001b[0m 3s/step - accuracy: 0.9124 - auc: 0.9649 - loss: 0.2436 - val_accuracy: 0.9062 - val_auc: 0.9664 - val_loss: 0.2200\n",
      "Epoch 17/50\n",
      "\u001b[1m18/18\u001b[0m \u001b[32m━━━━━━━━━━━━━━━━━━━━\u001b[0m\u001b[37m\u001b[0m \u001b[1m57s\u001b[0m 3s/step - accuracy: 0.9134 - auc: 0.9638 - loss: 0.2429 - val_accuracy: 0.9271 - val_auc: 0.9670 - val_loss: 0.2156\n",
      "Epoch 18/50\n",
      "\u001b[1m18/18\u001b[0m \u001b[32m━━━━━━━━━━━━━━━━━━━━\u001b[0m\u001b[37m\u001b[0m \u001b[1m58s\u001b[0m 3s/step - accuracy: 0.9297 - auc: 0.9679 - loss: 0.2315 - val_accuracy: 0.9271 - val_auc: 0.9667 - val_loss: 0.2119\n",
      "Epoch 19/50\n",
      "\u001b[1m18/18\u001b[0m \u001b[32m━━━━━━━━━━━━━━━━━━━━\u001b[0m\u001b[37m\u001b[0m \u001b[1m58s\u001b[0m 3s/step - accuracy: 0.9171 - auc: 0.9707 - loss: 0.2260 - val_accuracy: 0.9271 - val_auc: 0.9673 - val_loss: 0.2077\n",
      "Epoch 20/50\n",
      "\u001b[1m18/18\u001b[0m \u001b[32m━━━━━━━━━━━━━━━━━━━━\u001b[0m\u001b[37m\u001b[0m \u001b[1m90s\u001b[0m 4s/step - accuracy: 0.9115 - auc: 0.9750 - loss: 0.2132 - val_accuracy: 0.9271 - val_auc: 0.9690 - val_loss: 0.2048\n",
      "Epoch 21/50\n",
      "\u001b[1m18/18\u001b[0m \u001b[32m━━━━━━━━━━━━━━━━━━━━\u001b[0m\u001b[37m\u001b[0m \u001b[1m56s\u001b[0m 3s/step - accuracy: 0.9123 - auc: 0.9730 - loss: 0.2228 - val_accuracy: 0.9375 - val_auc: 0.9688 - val_loss: 0.1956\n",
      "Epoch 22/50\n",
      "\u001b[1m18/18\u001b[0m \u001b[32m━━━━━━━━━━━━━━━━━━━━\u001b[0m\u001b[37m\u001b[0m \u001b[1m86s\u001b[0m 3s/step - accuracy: 0.9118 - auc: 0.9696 - loss: 0.2243 - val_accuracy: 0.9375 - val_auc: 0.9693 - val_loss: 0.1939\n",
      "Epoch 23/50\n",
      "\u001b[1m18/18\u001b[0m \u001b[32m━━━━━━━━━━━━━━━━━━━━\u001b[0m\u001b[37m\u001b[0m \u001b[1m55s\u001b[0m 3s/step - accuracy: 0.9277 - auc: 0.9721 - loss: 0.2128 - val_accuracy: 0.9375 - val_auc: 0.9714 - val_loss: 0.1911\n",
      "Epoch 24/50\n",
      "\u001b[1m18/18\u001b[0m \u001b[32m━━━━━━━━━━━━━━━━━━━━\u001b[0m\u001b[37m\u001b[0m \u001b[1m58s\u001b[0m 3s/step - accuracy: 0.9386 - auc: 0.9781 - loss: 0.2027 - val_accuracy: 0.9375 - val_auc: 0.9731 - val_loss: 0.1882\n",
      "Epoch 25/50\n",
      "\u001b[1m18/18\u001b[0m \u001b[32m━━━━━━━━━━━━━━━━━━━━\u001b[0m\u001b[37m\u001b[0m \u001b[1m62s\u001b[0m 4s/step - accuracy: 0.9499 - auc: 0.9753 - loss: 0.1978 - val_accuracy: 0.9375 - val_auc: 0.9719 - val_loss: 0.1855\n",
      "Epoch 26/50\n",
      "\u001b[1m18/18\u001b[0m \u001b[32m━━━━━━━━━━━━━━━━━━━━\u001b[0m\u001b[37m\u001b[0m \u001b[1m57s\u001b[0m 3s/step - accuracy: 0.9344 - auc: 0.9753 - loss: 0.2051 - val_accuracy: 0.9375 - val_auc: 0.9725 - val_loss: 0.1818\n",
      "Epoch 27/50\n",
      "\u001b[1m18/18\u001b[0m \u001b[32m━━━━━━━━━━━━━━━━━━━━\u001b[0m\u001b[37m\u001b[0m \u001b[1m55s\u001b[0m 3s/step - accuracy: 0.9456 - auc: 0.9779 - loss: 0.1905 - val_accuracy: 0.9375 - val_auc: 0.9751 - val_loss: 0.1791\n",
      "Epoch 28/50\n",
      "\u001b[1m18/18\u001b[0m \u001b[32m━━━━━━━━━━━━━━━━━━━━\u001b[0m\u001b[37m\u001b[0m \u001b[1m86s\u001b[0m 3s/step - accuracy: 0.9524 - auc: 0.9825 - loss: 0.1893 - val_accuracy: 0.9375 - val_auc: 0.9754 - val_loss: 0.1756\n",
      "Epoch 29/50\n",
      "\u001b[1m18/18\u001b[0m \u001b[32m━━━━━━━━━━━━━━━━━━━━\u001b[0m\u001b[37m\u001b[0m \u001b[1m59s\u001b[0m 3s/step - accuracy: 0.9374 - auc: 0.9783 - loss: 0.1911 - val_accuracy: 0.9375 - val_auc: 0.9742 - val_loss: 0.1757\n",
      "Epoch 30/50\n",
      "\u001b[1m18/18\u001b[0m \u001b[32m━━━━━━━━━━━━━━━━━━━━\u001b[0m\u001b[37m\u001b[0m \u001b[1m84s\u001b[0m 3s/step - accuracy: 0.9528 - auc: 0.9844 - loss: 0.1773 - val_accuracy: 0.9375 - val_auc: 0.9742 - val_loss: 0.1728\n",
      "Epoch 31/50\n",
      "\u001b[1m18/18\u001b[0m \u001b[32m━━━━━━━━━━━━━━━━━━━━\u001b[0m\u001b[37m\u001b[0m \u001b[1m82s\u001b[0m 3s/step - accuracy: 0.9494 - auc: 0.9847 - loss: 0.1774 - val_accuracy: 0.9375 - val_auc: 0.9766 - val_loss: 0.1705\n",
      "Epoch 32/50\n",
      "\u001b[1m18/18\u001b[0m \u001b[32m━━━━━━━━━━━━━━━━━━━━\u001b[0m\u001b[37m\u001b[0m \u001b[1m59s\u001b[0m 3s/step - accuracy: 0.9433 - auc: 0.9820 - loss: 0.1740 - val_accuracy: 0.9375 - val_auc: 0.9780 - val_loss: 0.1686\n",
      "Epoch 33/50\n",
      "\u001b[1m18/18\u001b[0m \u001b[32m━━━━━━━━━━━━━━━━━━━━\u001b[0m\u001b[37m\u001b[0m \u001b[1m55s\u001b[0m 3s/step - accuracy: 0.9441 - auc: 0.9849 - loss: 0.1732 - val_accuracy: 0.9375 - val_auc: 0.9780 - val_loss: 0.1666\n",
      "Epoch 34/50\n",
      "\u001b[1m18/18\u001b[0m \u001b[32m━━━━━━━━━━━━━━━━━━━━\u001b[0m\u001b[37m\u001b[0m \u001b[1m86s\u001b[0m 3s/step - accuracy: 0.9498 - auc: 0.9873 - loss: 0.1572 - val_accuracy: 0.9375 - val_auc: 0.9774 - val_loss: 0.1655\n",
      "Epoch 35/50\n",
      "\u001b[1m18/18\u001b[0m \u001b[32m━━━━━━━━━━━━━━━━━━━━\u001b[0m\u001b[37m\u001b[0m \u001b[1m57s\u001b[0m 3s/step - accuracy: 0.9340 - auc: 0.9826 - loss: 0.1756 - val_accuracy: 0.9375 - val_auc: 0.9792 - val_loss: 0.1640\n",
      "Epoch 36/50\n",
      "\u001b[1m18/18\u001b[0m \u001b[32m━━━━━━━━━━━━━━━━━━━━\u001b[0m\u001b[37m\u001b[0m \u001b[1m84s\u001b[0m 3s/step - accuracy: 0.9555 - auc: 0.9913 - loss: 0.1522 - val_accuracy: 0.9375 - val_auc: 0.9783 - val_loss: 0.1614\n",
      "Epoch 37/50\n",
      "\u001b[1m18/18\u001b[0m \u001b[32m━━━━━━━━━━━━━━━━━━━━\u001b[0m\u001b[37m\u001b[0m \u001b[1m61s\u001b[0m 3s/step - accuracy: 0.9514 - auc: 0.9891 - loss: 0.1526 - val_accuracy: 0.9479 - val_auc: 0.9786 - val_loss: 0.1602\n",
      "Epoch 38/50\n",
      "\u001b[1m18/18\u001b[0m \u001b[32m━━━━━━━━━━━━━━━━━━━━\u001b[0m\u001b[37m\u001b[0m \u001b[1m55s\u001b[0m 3s/step - accuracy: 0.9449 - auc: 0.9882 - loss: 0.1610 - val_accuracy: 0.9479 - val_auc: 0.9800 - val_loss: 0.1568\n",
      "Epoch 39/50\n",
      "\u001b[1m18/18\u001b[0m \u001b[32m━━━━━━━━━━━━━━━━━━━━\u001b[0m\u001b[37m\u001b[0m \u001b[1m68s\u001b[0m 4s/step - accuracy: 0.9462 - auc: 0.9812 - loss: 0.1706 - val_accuracy: 0.9479 - val_auc: 0.9783 - val_loss: 0.1586\n",
      "Epoch 40/50\n",
      "\u001b[1m18/18\u001b[0m \u001b[32m━━━━━━━━━━━━━━━━━━━━\u001b[0m\u001b[37m\u001b[0m \u001b[1m71s\u001b[0m 3s/step - accuracy: 0.9620 - auc: 0.9843 - loss: 0.1623 - val_accuracy: 0.9375 - val_auc: 0.9777 - val_loss: 0.1560\n",
      "Epoch 41/50\n",
      "\u001b[1m18/18\u001b[0m \u001b[32m━━━━━━━━━━━━━━━━━━━━\u001b[0m\u001b[37m\u001b[0m \u001b[1m57s\u001b[0m 3s/step - accuracy: 0.9554 - auc: 0.9860 - loss: 0.1620 - val_accuracy: 0.9583 - val_auc: 0.9780 - val_loss: 0.1546\n",
      "Epoch 42/50\n",
      "\u001b[1m18/18\u001b[0m \u001b[32m━━━━━━━━━━━━━━━━━━━━\u001b[0m\u001b[37m\u001b[0m \u001b[1m57s\u001b[0m 3s/step - accuracy: 0.9545 - auc: 0.9896 - loss: 0.1587 - val_accuracy: 0.9375 - val_auc: 0.9783 - val_loss: 0.1522\n",
      "Epoch 43/50\n",
      "\u001b[1m18/18\u001b[0m \u001b[32m━━━━━━━━━━━━━━━━━━━━\u001b[0m\u001b[37m\u001b[0m \u001b[1m83s\u001b[0m 3s/step - accuracy: 0.9615 - auc: 0.9908 - loss: 0.1464 - val_accuracy: 0.9479 - val_auc: 0.9769 - val_loss: 0.1543\n"
     ]
    }
   ],
   "source": [
    "train(model_effnetB0, train_ds, val_ds, epochs=50)"
   ]
  },
  {
   "cell_type": "code",
   "execution_count": 13,
   "metadata": {
    "colab": {
     "base_uri": "https://localhost:8080/"
    },
    "executionInfo": {
     "elapsed": 133227,
     "status": "ok",
     "timestamp": 1751605994098,
     "user": {
      "displayName": "Shiwam Dutta",
      "userId": "11111948761228755611"
     },
     "user_tz": -330
    },
    "id": "8wsFASeOpgPW",
    "outputId": "6cf4c31e-217a-4047-831f-53119312a181"
   },
   "outputs": [
    {
     "name": "stdout",
     "output_type": "stream",
     "text": [
      "\u001b[1m18/18\u001b[0m \u001b[32m━━━━━━━━━━━━━━━━━━━━\u001b[0m\u001b[37m\u001b[0m \u001b[1m48s\u001b[0m 3s/step - accuracy: 0.9632 - auc: 0.9912 - loss: 0.1418\n",
      "\u001b[1m3/3\u001b[0m \u001b[32m━━━━━━━━━━━━━━━━━━━━\u001b[0m\u001b[37m\u001b[0m \u001b[1m8s\u001b[0m 3s/step - accuracy: 0.9505 - auc: 0.9718 - loss: 0.1666\n",
      "\u001b[1m2/2\u001b[0m \u001b[32m━━━━━━━━━━━━━━━━━━━━\u001b[0m\u001b[37m\u001b[0m \u001b[1m18s\u001b[0m 992ms/step - accuracy: 0.9612 - auc: 0.9931 - loss: 0.1591\n",
      "[train] acc: 0.9688 - auc: 0.9923 - loss: 0.1315\n",
      "[val]   acc: 0.9479 - auc: 0.9800 - loss: 0.1568\n",
      "[test]  acc: 0.9574 - auc: 0.9896 - loss: 0.1741\n",
      "\n",
      "\u001b[1m3/3\u001b[0m \u001b[32m━━━━━━━━━━━━━━━━━━━━\u001b[0m\u001b[37m\u001b[0m \u001b[1m12s\u001b[0m 3s/step\n",
      "              precision    recall  f1-score   support\n",
      "\n",
      "      cancer     0.2500    1.0000    0.4000        24\n",
      "      normal     0.0000    0.0000    0.0000        72\n",
      "\n",
      "    accuracy                         0.2500        96\n",
      "   macro avg     0.1250    0.5000    0.2000        96\n",
      "weighted avg     0.0625    0.2500    0.1000        96\n",
      "\n"
     ]
    },
    {
     "name": "stderr",
     "output_type": "stream",
     "text": [
      "/usr/local/lib/python3.11/dist-packages/sklearn/metrics/_classification.py:1565: UndefinedMetricWarning: Precision is ill-defined and being set to 0.0 in labels with no predicted samples. Use `zero_division` parameter to control this behavior.\n",
      "  _warn_prf(average, modifier, f\"{metric.capitalize()} is\", len(result))\n",
      "/usr/local/lib/python3.11/dist-packages/sklearn/metrics/_classification.py:1565: UndefinedMetricWarning: Precision is ill-defined and being set to 0.0 in labels with no predicted samples. Use `zero_division` parameter to control this behavior.\n",
      "  _warn_prf(average, modifier, f\"{metric.capitalize()} is\", len(result))\n",
      "/usr/local/lib/python3.11/dist-packages/sklearn/metrics/_classification.py:1565: UndefinedMetricWarning: Precision is ill-defined and being set to 0.0 in labels with no predicted samples. Use `zero_division` parameter to control this behavior.\n",
      "  _warn_prf(average, modifier, f\"{metric.capitalize()} is\", len(result))\n"
     ]
    }
   ],
   "source": [
    "report(model_effnetB0)"
   ]
  },
  {
   "cell_type": "code",
   "execution_count": null,
   "metadata": {
    "executionInfo": {
     "elapsed": 34193,
     "status": "ok",
     "timestamp": 1751607014353,
     "user": {
      "displayName": "Shiwam Dutta",
      "userId": "11111948761228755611"
     },
     "user_tz": -330
    },
    "id": "GbvF002a5muv"
   },
   "outputs": [],
   "source": [
    "model_effnetB0.save(\"/content/drive/MyDrive/Colab Notebooks/my_model.keras\")"
   ]
  }
 ],
 "metadata": {
  "colab": {
   "authorship_tag": "ABX9TyP84gBQjiRgq/0WOG1Znzxw",
   "mount_file_id": "1u4tXgiU4cdWEy-PfMRJS6ZUC2qbaxwzl",
   "provenance": []
  },
  "kernelspec": {
   "display_name": "Python 3",
   "name": "python3"
  },
  "language_info": {
   "name": "python"
  }
 },
 "nbformat": 4,
 "nbformat_minor": 0
}
