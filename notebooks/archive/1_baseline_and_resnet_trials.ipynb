{
 "cells": [
  {
   "cell_type": "code",
   "execution_count": null,
   "metadata": {
    "id": "_WRjDU4RQSPU"
   },
   "outputs": [],
   "source": [
    "import os\n",
    "import shutil\n",
    "import numpy as np\n",
    "from sklearn.utils.class_weight import compute_class_weight\n",
    "from sklearn.utils import resample\n",
    "from sklearn.metrics import classification_report\n",
    "import tensorflow as tf\n",
    "from tensorflow.keras import layers, models\n",
    "from tensorflow.keras.applications import ResNet50, EfficientNetB0\n",
    "from tensorflow.keras.utils import image_dataset_from_directory"
   ]
  },
  {
   "cell_type": "code",
   "execution_count": null,
   "metadata": {
    "id": "rDh8BZxtQgMF"
   },
   "outputs": [],
   "source": [
    "# Parameters\n",
    "IMG_SIZE = (224, 224)\n",
    "BATCH_SIZE = 32\n",
    "EPOCHS = 10\n",
    "\n",
    "DATA_ROOT = \"Oral Cancer Prediction\"\n",
    "DATA_PATH = os.path.join(DATA_ROOT, \"assets\", \"dataset\")\n",
    "BROKEN_PATH = os.path.join(DATA_ROOT, \"assets\", \"broken\")\n",
    "CLASS_NAMES = [\"cancer\", \"normal\"]"
   ]
  },
  {
   "cell_type": "code",
   "execution_count": null,
   "metadata": {
    "id": "pSsFSKNW_v4h"
   },
   "outputs": [],
   "source": [
    "def screen_non_jpg():\n",
    "    for class_name in CLASS_NAMES:\n",
    "        class_path = os.path.join(DATA_PATH, class_name)\n",
    "\n",
    "        for img_name in os.listdir(class_path):\n",
    "            img_path = os.path.join(class_path, img_name)\n",
    "            try:\n",
    "                img = tf.io.read_file(img_path)\n",
    "                # This will crash if the image is non-decodable by tf\n",
    "                img = tf.io.decode_jpeg(img)\n",
    "            except Exception as e:\n",
    "                print(f\"[BROKEN] {img_path}: {e}\")\n",
    "                os.makedirs(BROKEN_PATH, exist_ok=True)\n",
    "                shutil.move(img_path, os.path.join(BROKEN_PATH, img_name))\n",
    "\n",
    "\n",
    "# Clean corrupt images\n",
    "screen_non_jpg()"
   ]
  },
  {
   "cell_type": "code",
   "execution_count": null,
   "metadata": {
    "colab": {
     "base_uri": "https://localhost:8080/"
    },
    "executionInfo": {
     "elapsed": 216,
     "status": "ok",
     "timestamp": 1750181728624,
     "user": {
      "displayName": "Shiwam Dutta",
      "userId": "11111948761228755611"
     },
     "user_tz": -330
    },
    "id": "Gj0FyYFJTrTY",
    "outputId": "a2001afc-b02b-469e-e3f8-182d3c98b747"
   },
   "outputs": [
    {
     "name": "stdout",
     "output_type": "stream",
     "text": [
      "Found 719 files belonging to 2 classes.\n",
      "Using 576 files for training.\n",
      "Found 719 files belonging to 2 classes.\n",
      "Using 143 files for validation.\n"
     ]
    }
   ],
   "source": [
    "# Load training and validation data\n",
    "train_ds = image_dataset_from_directory(\n",
    "    DATA_PATH,\n",
    "    validation_split=0.2,\n",
    "    subset=\"training\",\n",
    "    seed=123,\n",
    "    image_size=IMG_SIZE,\n",
    "    batch_size=BATCH_SIZE,\n",
    "    shuffle=True,\n",
    ")\n",
    "\n",
    "val_ds = image_dataset_from_directory(\n",
    "    DATA_PATH,\n",
    "    validation_split=0.2,\n",
    "    subset=\"validation\",\n",
    "    seed=123,\n",
    "    image_size=IMG_SIZE,\n",
    "    batch_size=BATCH_SIZE,\n",
    "    shuffle=True,\n",
    ")"
   ]
  },
  {
   "cell_type": "code",
   "execution_count": null,
   "metadata": {
    "colab": {
     "base_uri": "https://localhost:8080/"
    },
    "executionInfo": {
     "elapsed": 30,
     "status": "ok",
     "timestamp": 1750181728669,
     "user": {
      "displayName": "Shiwam Dutta",
      "userId": "11111948761228755611"
     },
     "user_tz": -330
    },
    "id": "2cU0Wyq8_v4X",
    "outputId": "70aca86a-828a-47a2-f5b4-c94d62bc6fc6"
   },
   "outputs": [
    {
     "name": "stdout",
     "output_type": "stream",
     "text": [
      "['cancer', 'normal']\n",
      "['cancer', 'normal']\n"
     ]
    }
   ],
   "source": [
    "print(train_ds.class_names)\n",
    "print(val_ds.class_names)"
   ]
  },
  {
   "cell_type": "code",
   "execution_count": null,
   "metadata": {
    "colab": {
     "base_uri": "https://localhost:8080/"
    },
    "executionInfo": {
     "elapsed": 21,
     "status": "ok",
     "timestamp": 1750181728687,
     "user": {
      "displayName": "Shiwam Dutta",
      "userId": "11111948761228755611"
     },
     "user_tz": -330
    },
    "id": "BuDnu9WCbn5U",
    "outputId": "b4f1699d-d29b-485d-a531-e8ac50474842"
   },
   "outputs": [
    {
     "name": "stdout",
     "output_type": "stream",
     "text": [
      "class_counts={'cancer': 188, 'normal': 531}\n"
     ]
    }
   ],
   "source": [
    "# Counting number of images in each class\n",
    "class_counts = {}\n",
    "for class_name in CLASS_NAMES:\n",
    "    class_path = os.path.join(DATA_PATH, class_name)\n",
    "    class_counts[class_name] = len(os.listdir(class_path))\n",
    "print(f\"{class_counts=}\")"
   ]
  },
  {
   "cell_type": "code",
   "execution_count": null,
   "metadata": {
    "id": "EC0HxeIXT-6C"
   },
   "outputs": [],
   "source": [
    "# Prefetch for performance\n",
    "AUTOTUNE = tf.data.AUTOTUNE\n",
    "train_ds = train_ds.cache().prefetch(buffer_size=AUTOTUNE)\n",
    "val_ds = val_ds.cache().prefetch(buffer_size=AUTOTUNE)\n",
    "\n",
    "# Data augmentation\n",
    "data_augmentation = models.Sequential(\n",
    "    [\n",
    "        layers.RandomFlip(\"horizontal\"),\n",
    "        layers.RandomRotation(0.1),\n",
    "        layers.RandomZoom(0.1),\n",
    "    ]\n",
    ")"
   ]
  },
  {
   "cell_type": "code",
   "execution_count": null,
   "metadata": {
    "id": "PNNdoHUVUE1-"
   },
   "outputs": [],
   "source": [
    "# Functional model\n",
    "inputs = layers.Input(shape=(224, 224, 3))\n",
    "x = data_augmentation(inputs)\n",
    "x = layers.Rescaling(1.0 / 255)(x)\n",
    "\n",
    "# Load pretrained base\n",
    "base_model = ResNet50(weights=\"imagenet\", include_top=False)\n",
    "base_model.trainable = False\n",
    "x = base_model(x, training=False)"
   ]
  },
  {
   "cell_type": "code",
   "execution_count": null,
   "metadata": {
    "id": "IuMXXR_KUPyj"
   },
   "outputs": [],
   "source": [
    "x = layers.GlobalAveragePooling2D()(x)\n",
    "x = layers.Dense(128, activation=\"relu\")(x)\n",
    "x = layers.Dropout(0.3)(x)\n",
    "outputs = layers.Dense(1, activation=\"sigmoid\")(x)\n",
    "\n",
    "model = models.Model(inputs, outputs)"
   ]
  },
  {
   "cell_type": "code",
   "execution_count": null,
   "metadata": {
    "colab": {
     "base_uri": "https://localhost:8080/"
    },
    "executionInfo": {
     "elapsed": 1370648,
     "status": "ok",
     "timestamp": 1750183101246,
     "user": {
      "displayName": "Shiwam Dutta",
      "userId": "11111948761228755611"
     },
     "user_tz": -330
    },
    "id": "H06QdANkemPv",
    "outputId": "ebedbe8b-c0b2-4937-c134-f7382f04e751"
   },
   "outputs": [
    {
     "name": "stdout",
     "output_type": "stream",
     "text": [
      "Epoch 1/10\n",
      "\u001b[1m18/18\u001b[0m \u001b[32m━━━━━━━━━━━━━━━━━━━━\u001b[0m\u001b[37m\u001b[0m \u001b[1m161s\u001b[0m 8s/step - accuracy: 0.6559 - auc: 0.4998 - loss: 0.6877 - val_accuracy: 0.7133 - val_auc: 0.3955 - val_loss: 0.6266\n",
      "Epoch 2/10\n",
      "\u001b[1m18/18\u001b[0m \u001b[32m━━━━━━━━━━━━━━━━━━━━\u001b[0m\u001b[37m\u001b[0m \u001b[1m171s\u001b[0m 7s/step - accuracy: 0.7469 - auc: 0.4715 - loss: 0.5983 - val_accuracy: 0.7133 - val_auc: 0.5890 - val_loss: 0.5981\n",
      "Epoch 3/10\n",
      "\u001b[1m18/18\u001b[0m \u001b[32m━━━━━━━━━━━━━━━━━━━━\u001b[0m\u001b[37m\u001b[0m \u001b[1m142s\u001b[0m 7s/step - accuracy: 0.7423 - auc: 0.4818 - loss: 0.5898 - val_accuracy: 0.7133 - val_auc: 0.6692 - val_loss: 0.5923\n",
      "Epoch 4/10\n",
      "\u001b[1m18/18\u001b[0m \u001b[32m━━━━━━━━━━━━━━━━━━━━\u001b[0m\u001b[37m\u001b[0m \u001b[1m127s\u001b[0m 7s/step - accuracy: 0.7495 - auc: 0.5476 - loss: 0.5725 - val_accuracy: 0.7133 - val_auc: 0.6828 - val_loss: 0.5907\n",
      "Epoch 5/10\n",
      "\u001b[1m18/18\u001b[0m \u001b[32m━━━━━━━━━━━━━━━━━━━━\u001b[0m\u001b[37m\u001b[0m \u001b[1m140s\u001b[0m 8s/step - accuracy: 0.7518 - auc: 0.5354 - loss: 0.5801 - val_accuracy: 0.7133 - val_auc: 0.6894 - val_loss: 0.5944\n",
      "Epoch 6/10\n",
      "\u001b[1m18/18\u001b[0m \u001b[32m━━━━━━━━━━━━━━━━━━━━\u001b[0m\u001b[37m\u001b[0m \u001b[1m122s\u001b[0m 7s/step - accuracy: 0.7504 - auc: 0.5386 - loss: 0.5678 - val_accuracy: 0.7133 - val_auc: 0.7035 - val_loss: 0.6032\n",
      "Epoch 7/10\n",
      "\u001b[1m18/18\u001b[0m \u001b[32m━━━━━━━━━━━━━━━━━━━━\u001b[0m\u001b[37m\u001b[0m \u001b[1m142s\u001b[0m 8s/step - accuracy: 0.7504 - auc: 0.5023 - loss: 0.5737 - val_accuracy: 0.7133 - val_auc: 0.7070 - val_loss: 0.6023\n",
      "Epoch 8/10\n",
      "\u001b[1m18/18\u001b[0m \u001b[32m━━━━━━━━━━━━━━━━━━━━\u001b[0m\u001b[37m\u001b[0m \u001b[1m121s\u001b[0m 7s/step - accuracy: 0.7504 - auc: 0.5648 - loss: 0.5595 - val_accuracy: 0.7133 - val_auc: 0.7146 - val_loss: 0.5995\n",
      "Epoch 9/10\n",
      "\u001b[1m18/18\u001b[0m \u001b[32m━━━━━━━━━━━━━━━━━━━━\u001b[0m\u001b[37m\u001b[0m \u001b[1m121s\u001b[0m 7s/step - accuracy: 0.7504 - auc: 0.5349 - loss: 0.5651 - val_accuracy: 0.7133 - val_auc: 0.7183 - val_loss: 0.5959\n",
      "Epoch 10/10\n",
      "\u001b[1m18/18\u001b[0m \u001b[32m━━━━━━━━━━━━━━━━━━━━\u001b[0m\u001b[37m\u001b[0m \u001b[1m123s\u001b[0m 7s/step - accuracy: 0.7504 - auc: 0.5827 - loss: 0.5552 - val_accuracy: 0.7133 - val_auc: 0.7174 - val_loss: 0.5904\n"
     ]
    }
   ],
   "source": [
    "# Compile\n",
    "model.compile(\n",
    "    optimizer=\"adam\",\n",
    "    loss=\"binary_crossentropy\",\n",
    "    metrics=[\"accuracy\", tf.keras.metrics.AUC()],\n",
    ")\n",
    "\n",
    "# Train\n",
    "history = model.fit(train_ds, validation_data=val_ds, epochs=EPOCHS)"
   ]
  },
  {
   "cell_type": "code",
   "execution_count": null,
   "metadata": {
    "colab": {
     "base_uri": "https://localhost:8080/"
    },
    "executionInfo": {
     "elapsed": 182854,
     "status": "ok",
     "timestamp": 1750183284055,
     "user": {
      "displayName": "Shiwam Dutta",
      "userId": "11111948761228755611"
     },
     "user_tz": -330
    },
    "id": "_QWO3NgHdHHQ",
    "outputId": "e6a98e97-6890-4791-8b55-3b0ddf831b4c"
   },
   "outputs": [
    {
     "name": "stdout",
     "output_type": "stream",
     "text": [
      "\u001b[1m18/18\u001b[0m \u001b[32m━━━━━━━━━━━━━━━━━━━━\u001b[0m\u001b[37m\u001b[0m \u001b[1m94s\u001b[0m 5s/step - accuracy: 0.7504 - auc: 0.6527 - loss: 0.5538\n",
      "\u001b[1m5/5\u001b[0m \u001b[32m━━━━━━━━━━━━━━━━━━━━\u001b[0m\u001b[37m\u001b[0m \u001b[1m22s\u001b[0m 4s/step - accuracy: 0.7096 - auc: 0.6713 - loss: 0.5975\n",
      "train_acc: 0.7448 - loss: 0.5601 - auc: 0.6563\n",
      "  val_acc: 0.7133 - loss: 0.5904 - auc: 0.7174\n"
     ]
    }
   ],
   "source": [
    "train_loss, train_acc, train_auc = model.evaluate(train_ds)\n",
    "val_loss, val_acc, val_auc = model.evaluate(val_ds)\n",
    "\n",
    "print(f\"train_acc: {train_acc:.4f} - loss: {train_loss:.4f} - auc: {train_auc:.4f}\")\n",
    "print(f\"  val_acc: {val_acc:.4f} - loss: {val_loss:.4f} - auc: {val_auc:.4f}\")"
   ]
  },
  {
   "cell_type": "code",
   "execution_count": null,
   "metadata": {
    "colab": {
     "base_uri": "https://localhost:8080/"
    },
    "executionInfo": {
     "elapsed": 27772,
     "status": "ok",
     "timestamp": 1750183311833,
     "user": {
      "displayName": "Shiwam Dutta",
      "userId": "11111948761228755611"
     },
     "user_tz": -330
    },
    "id": "M_h9jeyh1mr_",
    "outputId": "fc82b134-1a61-4bf5-f3eb-c1eddbb5d42d"
   },
   "outputs": [
    {
     "name": "stdout",
     "output_type": "stream",
     "text": [
      "\u001b[1m5/5\u001b[0m \u001b[32m━━━━━━━━━━━━━━━━━━━━\u001b[0m\u001b[37m\u001b[0m \u001b[1m28s\u001b[0m 5s/step\n",
      "              precision    recall  f1-score   support\n",
      "\n",
      "      cancer     0.2867    1.0000    0.4457        41\n",
      "      normal     0.0000    0.0000    0.0000       102\n",
      "\n",
      "    accuracy                         0.2867       143\n",
      "   macro avg     0.1434    0.5000    0.2228       143\n",
      "weighted avg     0.0822    0.2867    0.1278       143\n",
      "\n"
     ]
    },
    {
     "name": "stderr",
     "output_type": "stream",
     "text": [
      "/usr/local/lib/python3.11/dist-packages/sklearn/metrics/_classification.py:1565: UndefinedMetricWarning: Precision is ill-defined and being set to 0.0 in labels with no predicted samples. Use `zero_division` parameter to control this behavior.\n",
      "  _warn_prf(average, modifier, f\"{metric.capitalize()} is\", len(result))\n",
      "/usr/local/lib/python3.11/dist-packages/sklearn/metrics/_classification.py:1565: UndefinedMetricWarning: Precision is ill-defined and being set to 0.0 in labels with no predicted samples. Use `zero_division` parameter to control this behavior.\n",
      "  _warn_prf(average, modifier, f\"{metric.capitalize()} is\", len(result))\n",
      "/usr/local/lib/python3.11/dist-packages/sklearn/metrics/_classification.py:1565: UndefinedMetricWarning: Precision is ill-defined and being set to 0.0 in labels with no predicted samples. Use `zero_division` parameter to control this behavior.\n",
      "  _warn_prf(average, modifier, f\"{metric.capitalize()} is\", len(result))\n"
     ]
    }
   ],
   "source": [
    "# Get True and Predicted results\n",
    "y_true = np.concatenate([y.numpy() for x, y in val_ds], axis=0)\n",
    "y_pred_probs = model.predict(val_ds)\n",
    "y_pred = np.argmax(y_pred_probs, axis=1)\n",
    "\n",
    "# Generate Classification report\n",
    "print(classification_report(y_true, y_pred, target_names=CLASS_NAMES, digits=4))"
   ]
  },
  {
   "cell_type": "markdown",
   "metadata": {
    "id": "1fsaIJYafcpo"
   },
   "source": [
    "---\n",
    "\n",
    "## 2nd Iteration\n",
    "\n",
    "attempting to lower the losses by adding weights to class according to their file count.\n"
   ]
  },
  {
   "cell_type": "code",
   "execution_count": null,
   "metadata": {
    "colab": {
     "base_uri": "https://localhost:8080/"
    },
    "executionInfo": {
     "elapsed": 29,
     "status": "ok",
     "timestamp": 1750183311874,
     "user": {
      "displayName": "Shiwam Dutta",
      "userId": "11111948761228755611"
     },
     "user_tz": -330
    },
    "id": "ajsPsbrLQ1yf",
    "outputId": "23d3d071-b5db-4c95-e809-535c57f313f5"
   },
   "outputs": [
    {
     "name": "stdout",
     "output_type": "stream",
     "text": [
      "{'cancer': 0, 'normal': 1}\n",
      "{0: np.float64(1.9122340425531914), 1: np.float64(0.6770244821092278)}\n"
     ]
    }
   ],
   "source": [
    "class_indices = {name: idx for idx, name in enumerate(CLASS_NAMES)}\n",
    "print(class_indices)\n",
    "# Convert to numpy for sklearn\n",
    "y = []\n",
    "for class_name, count in class_counts.items():\n",
    "    y.extend([class_indices[class_name]] * count)\n",
    "\n",
    "class_weights = compute_class_weight(class_weight=\"balanced\", classes=np.unique(y), y=y)\n",
    "class_weight_dict = {i: w for i, w in enumerate(class_weights)}\n",
    "\n",
    "print(class_weight_dict)"
   ]
  },
  {
   "cell_type": "code",
   "execution_count": null,
   "metadata": {
    "colab": {
     "base_uri": "https://localhost:8080/"
    },
    "executionInfo": {
     "elapsed": 1683876,
     "status": "ok",
     "timestamp": 1750184995756,
     "user": {
      "displayName": "Shiwam Dutta",
      "userId": "11111948761228755611"
     },
     "user_tz": -330
    },
    "id": "TH4DDFkLfa9o",
    "outputId": "88320cc0-f823-4efe-9532-531f7147a879"
   },
   "outputs": [
    {
     "name": "stdout",
     "output_type": "stream",
     "text": [
      "Epoch 1/10\n",
      "\u001b[1m18/18\u001b[0m \u001b[32m━━━━━━━━━━━━━━━━━━━━\u001b[0m\u001b[37m\u001b[0m \u001b[1m127s\u001b[0m 7s/step - accuracy: 0.6107 - auc: 0.5152 - loss: 0.7385 - val_accuracy: 0.2867 - val_auc: 0.7270 - val_loss: 0.7248\n",
      "Epoch 2/10\n",
      "\u001b[1m18/18\u001b[0m \u001b[32m━━━━━━━━━━━━━━━━━━━━\u001b[0m\u001b[37m\u001b[0m \u001b[1m183s\u001b[0m 9s/step - accuracy: 0.4173 - auc: 0.4971 - loss: 0.6868 - val_accuracy: 0.7133 - val_auc: 0.7377 - val_loss: 0.6605\n",
      "Epoch 3/10\n",
      "\u001b[1m18/18\u001b[0m \u001b[32m━━━━━━━━━━━━━━━━━━━━\u001b[0m\u001b[37m\u001b[0m \u001b[1m204s\u001b[0m 9s/step - accuracy: 0.5682 - auc: 0.5139 - loss: 0.6837 - val_accuracy: 0.6783 - val_auc: 0.7104 - val_loss: 0.6877\n",
      "Epoch 4/10\n",
      "\u001b[1m18/18\u001b[0m \u001b[32m━━━━━━━━━━━━━━━━━━━━\u001b[0m\u001b[37m\u001b[0m \u001b[1m139s\u001b[0m 8s/step - accuracy: 0.5395 - auc: 0.5499 - loss: 0.6805 - val_accuracy: 0.7203 - val_auc: 0.7230 - val_loss: 0.6669\n",
      "Epoch 5/10\n",
      "\u001b[1m18/18\u001b[0m \u001b[32m━━━━━━━━━━━━━━━━━━━━\u001b[0m\u001b[37m\u001b[0m \u001b[1m142s\u001b[0m 8s/step - accuracy: 0.7382 - auc: 0.6091 - loss: 0.6754 - val_accuracy: 0.7133 - val_auc: 0.7286 - val_loss: 0.6616\n",
      "Epoch 6/10\n",
      "\u001b[1m18/18\u001b[0m \u001b[32m━━━━━━━━━━━━━━━━━━━━\u001b[0m\u001b[37m\u001b[0m \u001b[1m146s\u001b[0m 8s/step - accuracy: 0.6226 - auc: 0.5099 - loss: 0.6827 - val_accuracy: 0.6853 - val_auc: 0.7123 - val_loss: 0.6863\n",
      "Epoch 7/10\n",
      "\u001b[1m18/18\u001b[0m \u001b[32m━━━━━━━━━━━━━━━━━━━━\u001b[0m\u001b[37m\u001b[0m \u001b[1m186s\u001b[0m 7s/step - accuracy: 0.5687 - auc: 0.5862 - loss: 0.6757 - val_accuracy: 0.6853 - val_auc: 0.7445 - val_loss: 0.6782\n",
      "Epoch 8/10\n",
      "\u001b[1m18/18\u001b[0m \u001b[32m━━━━━━━━━━━━━━━━━━━━\u001b[0m\u001b[37m\u001b[0m \u001b[1m184s\u001b[0m 10s/step - accuracy: 0.5691 - auc: 0.5624 - loss: 0.6793 - val_accuracy: 0.7203 - val_auc: 0.7364 - val_loss: 0.6690\n",
      "Epoch 9/10\n",
      "\u001b[1m18/18\u001b[0m \u001b[32m━━━━━━━━━━━━━━━━━━━━\u001b[0m\u001b[37m\u001b[0m \u001b[1m200s\u001b[0m 10s/step - accuracy: 0.6298 - auc: 0.6089 - loss: 0.6750 - val_accuracy: 0.7133 - val_auc: 0.7245 - val_loss: 0.6748\n",
      "Epoch 10/10\n",
      "\u001b[1m18/18\u001b[0m \u001b[32m━━━━━━━━━━━━━━━━━━━━\u001b[0m\u001b[37m\u001b[0m \u001b[1m154s\u001b[0m 7s/step - accuracy: 0.5670 - auc: 0.5483 - loss: 0.6793 - val_accuracy: 0.7413 - val_auc: 0.7243 - val_loss: 0.6749\n"
     ]
    }
   ],
   "source": [
    "# Train\n",
    "history = model.fit(\n",
    "    train_ds, validation_data=val_ds, epochs=EPOCHS, class_weight=class_weight_dict\n",
    ")"
   ]
  },
  {
   "cell_type": "code",
   "execution_count": null,
   "metadata": {
    "colab": {
     "base_uri": "https://localhost:8080/"
    },
    "executionInfo": {
     "elapsed": 165628,
     "status": "ok",
     "timestamp": 1750185161417,
     "user": {
      "displayName": "Shiwam Dutta",
      "userId": "11111948761228755611"
     },
     "user_tz": -330
    },
    "id": "vlgxM0a8hDt6",
    "outputId": "2e2489c9-899c-4bd8-be4d-2e358e550b3e"
   },
   "outputs": [
    {
     "name": "stdout",
     "output_type": "stream",
     "text": [
      "\u001b[1m18/18\u001b[0m \u001b[32m━━━━━━━━━━━━━━━━━━━━\u001b[0m\u001b[37m\u001b[0m \u001b[1m95s\u001b[0m 5s/step - accuracy: 0.7328 - auc: 0.6556 - loss: 0.6730\n",
      "\u001b[1m5/5\u001b[0m \u001b[32m━━━━━━━━━━━━━━━━━━━━\u001b[0m\u001b[37m\u001b[0m \u001b[1m24s\u001b[0m 4s/step - accuracy: 0.6915 - auc: 0.6784 - loss: 0.6781\n",
      "train_acc: 0.7378 - loss: 0.6734 - auc: 0.6600\n",
      "  val_acc: 0.7413 - loss: 0.6749 - auc: 0.7243\n"
     ]
    }
   ],
   "source": [
    "train_loss, train_acc, train_auc = model.evaluate(train_ds)\n",
    "val_loss, val_acc, val_auc = model.evaluate(val_ds)\n",
    "\n",
    "print(f\"train_acc: {train_acc:.4f} - loss: {train_loss:.4f} - auc: {train_auc:.4f}\")\n",
    "print(f\"  val_acc: {val_acc:.4f} - loss: {val_loss:.4f} - auc: {val_auc:.4f}\")"
   ]
  },
  {
   "cell_type": "code",
   "execution_count": null,
   "metadata": {
    "colab": {
     "base_uri": "https://localhost:8080/"
    },
    "executionInfo": {
     "elapsed": 40909,
     "status": "ok",
     "timestamp": 1750185202365,
     "user": {
      "displayName": "Shiwam Dutta",
      "userId": "11111948761228755611"
     },
     "user_tz": -330
    },
    "id": "Hu_LSMvoBMLn",
    "outputId": "34c18901-7a4e-46b3-96d1-510012748a9a"
   },
   "outputs": [
    {
     "name": "stdout",
     "output_type": "stream",
     "text": [
      "\u001b[1m5/5\u001b[0m \u001b[32m━━━━━━━━━━━━━━━━━━━━\u001b[0m\u001b[37m\u001b[0m \u001b[1m22s\u001b[0m 4s/step\n",
      "              precision    recall  f1-score   support\n",
      "\n",
      "      cancer     0.2867    1.0000    0.4457        41\n",
      "      normal     0.0000    0.0000    0.0000       102\n",
      "\n",
      "    accuracy                         0.2867       143\n",
      "   macro avg     0.1434    0.5000    0.2228       143\n",
      "weighted avg     0.0822    0.2867    0.1278       143\n",
      "\n"
     ]
    },
    {
     "name": "stderr",
     "output_type": "stream",
     "text": [
      "/usr/local/lib/python3.11/dist-packages/sklearn/metrics/_classification.py:1565: UndefinedMetricWarning: Precision is ill-defined and being set to 0.0 in labels with no predicted samples. Use `zero_division` parameter to control this behavior.\n",
      "  _warn_prf(average, modifier, f\"{metric.capitalize()} is\", len(result))\n",
      "/usr/local/lib/python3.11/dist-packages/sklearn/metrics/_classification.py:1565: UndefinedMetricWarning: Precision is ill-defined and being set to 0.0 in labels with no predicted samples. Use `zero_division` parameter to control this behavior.\n",
      "  _warn_prf(average, modifier, f\"{metric.capitalize()} is\", len(result))\n",
      "/usr/local/lib/python3.11/dist-packages/sklearn/metrics/_classification.py:1565: UndefinedMetricWarning: Precision is ill-defined and being set to 0.0 in labels with no predicted samples. Use `zero_division` parameter to control this behavior.\n",
      "  _warn_prf(average, modifier, f\"{metric.capitalize()} is\", len(result))\n"
     ]
    }
   ],
   "source": [
    "# Get True and Predicted results\n",
    "y_true = np.concatenate([y.numpy() for x, y in val_ds], axis=0)\n",
    "y_pred_probs = model.predict(val_ds)\n",
    "y_pred = np.argmax(y_pred_probs, axis=1)\n",
    "\n",
    "# Generate Classification report\n",
    "print(classification_report(y_true, y_pred, target_names=CLASS_NAMES, digits=4))"
   ]
  },
  {
   "cell_type": "markdown",
   "metadata": {
    "id": "FIPjDnO6hEll"
   },
   "source": [
    "---\n",
    "\n",
    "## 3rd Iteration\n",
    "\n",
    "Attempt to lower the losses by not freezing base model.\n"
   ]
  },
  {
   "cell_type": "code",
   "execution_count": null,
   "metadata": {
    "colab": {
     "base_uri": "https://localhost:8080/"
    },
    "executionInfo": {
     "elapsed": 4809085,
     "status": "ok",
     "timestamp": 1750190011464,
     "user": {
      "displayName": "Shiwam Dutta",
      "userId": "11111948761228755611"
     },
     "user_tz": -330
    },
    "id": "2EFBKUfwdzOV",
    "outputId": "0c60ce66-f3d0-470f-bd72-516813a9edcd"
   },
   "outputs": [
    {
     "name": "stdout",
     "output_type": "stream",
     "text": [
      "Epoch 1/10\n",
      "\u001b[1m18/18\u001b[0m \u001b[32m━━━━━━━━━━━━━━━━━━━━\u001b[0m\u001b[37m\u001b[0m \u001b[1m557s\u001b[0m 28s/step - accuracy: 0.4748 - auc_1: 0.5471 - loss: 0.6872 - val_accuracy: 0.7133 - val_auc_1: 0.7096 - val_loss: 0.6672\n",
      "Epoch 2/10\n",
      "\u001b[1m18/18\u001b[0m \u001b[32m━━━━━━━━━━━━━━━━━━━━\u001b[0m\u001b[37m\u001b[0m \u001b[1m442s\u001b[0m 25s/step - accuracy: 0.6015 - auc_1: 0.7114 - loss: 0.6128 - val_accuracy: 0.7133 - val_auc_1: 0.6777 - val_loss: 0.6732\n",
      "Epoch 3/10\n",
      "\u001b[1m18/18\u001b[0m \u001b[32m━━━━━━━━━━━━━━━━━━━━\u001b[0m\u001b[37m\u001b[0m \u001b[1m526s\u001b[0m 26s/step - accuracy: 0.7623 - auc_1: 0.8418 - loss: 0.5356 - val_accuracy: 0.7133 - val_auc_1: 0.6572 - val_loss: 0.6297\n",
      "Epoch 4/10\n",
      "\u001b[1m18/18\u001b[0m \u001b[32m━━━━━━━━━━━━━━━━━━━━\u001b[0m\u001b[37m\u001b[0m \u001b[1m485s\u001b[0m 25s/step - accuracy: 0.7824 - auc_1: 0.8832 - loss: 0.4863 - val_accuracy: 0.7133 - val_auc_1: 0.6570 - val_loss: 0.6009\n",
      "Epoch 5/10\n",
      "\u001b[1m18/18\u001b[0m \u001b[32m━━━━━━━━━━━━━━━━━━━━\u001b[0m\u001b[37m\u001b[0m \u001b[1m523s\u001b[0m 26s/step - accuracy: 0.8019 - auc_1: 0.9237 - loss: 0.4365 - val_accuracy: 0.7133 - val_auc_1: 0.6674 - val_loss: 0.5928\n",
      "Epoch 6/10\n",
      "\u001b[1m18/18\u001b[0m \u001b[32m━━━━━━━━━━━━━━━━━━━━\u001b[0m\u001b[37m\u001b[0m \u001b[1m449s\u001b[0m 25s/step - accuracy: 0.8421 - auc_1: 0.9399 - loss: 0.3898 - val_accuracy: 0.7133 - val_auc_1: 0.6344 - val_loss: 0.5951\n",
      "Epoch 7/10\n",
      "\u001b[1m18/18\u001b[0m \u001b[32m━━━━━━━━━━━━━━━━━━━━\u001b[0m\u001b[37m\u001b[0m \u001b[1m513s\u001b[0m 26s/step - accuracy: 0.8968 - auc_1: 0.9610 - loss: 0.3436 - val_accuracy: 0.7133 - val_auc_1: 0.6630 - val_loss: 0.6065\n",
      "Epoch 8/10\n",
      "\u001b[1m18/18\u001b[0m \u001b[32m━━━━━━━━━━━━━━━━━━━━\u001b[0m\u001b[37m\u001b[0m \u001b[1m436s\u001b[0m 24s/step - accuracy: 0.8931 - auc_1: 0.9720 - loss: 0.3035 - val_accuracy: 0.7133 - val_auc_1: 0.6402 - val_loss: 0.6395\n",
      "Epoch 9/10\n",
      "\u001b[1m18/18\u001b[0m \u001b[32m━━━━━━━━━━━━━━━━━━━━\u001b[0m\u001b[37m\u001b[0m \u001b[1m441s\u001b[0m 24s/step - accuracy: 0.9230 - auc_1: 0.9704 - loss: 0.2786 - val_accuracy: 0.7133 - val_auc_1: 0.6508 - val_loss: 0.6680\n",
      "Epoch 10/10\n",
      "\u001b[1m18/18\u001b[0m \u001b[32m━━━━━━━━━━━━━━━━━━━━\u001b[0m\u001b[37m\u001b[0m \u001b[1m436s\u001b[0m 24s/step - accuracy: 0.9201 - auc_1: 0.9708 - loss: 0.2616 - val_accuracy: 0.7133 - val_auc_1: 0.6521 - val_loss: 0.7163\n"
     ]
    }
   ],
   "source": [
    "# After first training run:\n",
    "base_model.trainable = True\n",
    "\n",
    "# Re-compile with lower learning rate\n",
    "model.compile(\n",
    "    optimizer=tf.keras.optimizers.Adam(1e-5),\n",
    "    loss=\"binary_crossentropy\",\n",
    "    metrics=[\"accuracy\", tf.keras.metrics.AUC()],\n",
    ")\n",
    "\n",
    "# Continue training\n",
    "history_finetune = model.fit(\n",
    "    train_ds, validation_data=val_ds, epochs=EPOCHS, class_weight=class_weight_dict\n",
    ")"
   ]
  },
  {
   "cell_type": "code",
   "execution_count": null,
   "metadata": {
    "colab": {
     "base_uri": "https://localhost:8080/"
    },
    "executionInfo": {
     "elapsed": 115352,
     "status": "ok",
     "timestamp": 1750190126780,
     "user": {
      "displayName": "Shiwam Dutta",
      "userId": "11111948761228755611"
     },
     "user_tz": -330
    },
    "id": "c9IAIixjd7T6",
    "outputId": "0608e2a6-71ff-46e3-f9b4-96f056e216ed"
   },
   "outputs": [
    {
     "name": "stdout",
     "output_type": "stream",
     "text": [
      "\u001b[1m18/18\u001b[0m \u001b[32m━━━━━━━━━━━━━━━━━━━━\u001b[0m\u001b[37m\u001b[0m \u001b[1m92s\u001b[0m 5s/step - accuracy: 0.7504 - auc_1: 0.5681 - loss: 0.6511\n",
      "\u001b[1m5/5\u001b[0m \u001b[32m━━━━━━━━━━━━━━━━━━━━\u001b[0m\u001b[37m\u001b[0m \u001b[1m23s\u001b[0m 5s/step - accuracy: 0.7096 - auc_1: 0.6151 - loss: 0.7276\n",
      "train_acc: 0.7448 - loss: 0.6599 - auc: 0.6050\n",
      "  val_acc: 0.7133 - loss: 0.7163 - auc: 0.6521\n"
     ]
    }
   ],
   "source": [
    "train_loss, train_acc, train_auc = model.evaluate(train_ds)\n",
    "val_loss, val_acc, val_auc = model.evaluate(val_ds)\n",
    "\n",
    "print(f\"train_acc: {train_acc:.4f} - loss: {train_loss:.4f} - auc: {train_auc:.4f}\")\n",
    "print(f\"  val_acc: {val_acc:.4f} - loss: {val_loss:.4f} - auc: {val_auc:.4f}\")"
   ]
  },
  {
   "cell_type": "code",
   "execution_count": null,
   "metadata": {
    "colab": {
     "base_uri": "https://localhost:8080/"
    },
    "executionInfo": {
     "elapsed": 26889,
     "status": "ok",
     "timestamp": 1750190153642,
     "user": {
      "displayName": "Shiwam Dutta",
      "userId": "11111948761228755611"
     },
     "user_tz": -330
    },
    "id": "bq0WdBgXaLTV",
    "outputId": "5a5b4098-84f6-4e38-bfdd-700cf462b9ee"
   },
   "outputs": [
    {
     "name": "stdout",
     "output_type": "stream",
     "text": [
      "\u001b[1m5/5\u001b[0m \u001b[32m━━━━━━━━━━━━━━━━━━━━\u001b[0m\u001b[37m\u001b[0m \u001b[1m27s\u001b[0m 5s/step\n",
      "              precision    recall  f1-score   support\n",
      "\n",
      "      cancer     0.2867    1.0000    0.4457        41\n",
      "      normal     0.0000    0.0000    0.0000       102\n",
      "\n",
      "    accuracy                         0.2867       143\n",
      "   macro avg     0.1434    0.5000    0.2228       143\n",
      "weighted avg     0.0822    0.2867    0.1278       143\n",
      "\n"
     ]
    },
    {
     "name": "stderr",
     "output_type": "stream",
     "text": [
      "/usr/local/lib/python3.11/dist-packages/sklearn/metrics/_classification.py:1565: UndefinedMetricWarning: Precision is ill-defined and being set to 0.0 in labels with no predicted samples. Use `zero_division` parameter to control this behavior.\n",
      "  _warn_prf(average, modifier, f\"{metric.capitalize()} is\", len(result))\n",
      "/usr/local/lib/python3.11/dist-packages/sklearn/metrics/_classification.py:1565: UndefinedMetricWarning: Precision is ill-defined and being set to 0.0 in labels with no predicted samples. Use `zero_division` parameter to control this behavior.\n",
      "  _warn_prf(average, modifier, f\"{metric.capitalize()} is\", len(result))\n",
      "/usr/local/lib/python3.11/dist-packages/sklearn/metrics/_classification.py:1565: UndefinedMetricWarning: Precision is ill-defined and being set to 0.0 in labels with no predicted samples. Use `zero_division` parameter to control this behavior.\n",
      "  _warn_prf(average, modifier, f\"{metric.capitalize()} is\", len(result))\n"
     ]
    }
   ],
   "source": [
    "# Get True and Predicted results\n",
    "y_true = np.concatenate([y.numpy() for x, y in val_ds], axis=0)\n",
    "y_pred_probs = model.predict(val_ds)\n",
    "y_pred = np.argmax(y_pred_probs, axis=1)\n",
    "\n",
    "# Generate Classification report\n",
    "print(classification_report(y_true, y_pred, target_names=CLASS_NAMES, digits=4))"
   ]
  },
  {
   "cell_type": "markdown",
   "metadata": {
    "id": "J2UC_sp5J142"
   },
   "source": [
    "# EfficientNetB0\n"
   ]
  },
  {
   "cell_type": "code",
   "execution_count": null,
   "metadata": {
    "id": "oDIBCBRm_J9Z"
   },
   "outputs": [],
   "source": [
    "# Function model\n",
    "inputs = tf.keras.Input(shape=(*IMG_SIZE, 3))\n",
    "x = data_augmentation(inputs)\n",
    "x = layers.Rescaling(1.0 / 255)(x)"
   ]
  },
  {
   "cell_type": "code",
   "execution_count": null,
   "metadata": {
    "id": "3_wCUpO3_LYK"
   },
   "outputs": [],
   "source": [
    "# Load pretrained model\n",
    "base_model = EfficientNetB0(\n",
    "    weights=\"imagenet\", include_top=False, input_shape=(*IMG_SIZE, 3)\n",
    ")\n",
    "base_model.trainable = False  # Freeze initial training\n",
    "\n",
    "x = base_model(inputs, training=False)\n",
    "x = layers.GlobalAveragePooling2D()(x)\n",
    "x = layers.Dropout(0.3)(x)\n",
    "outputs = layers.Dense(1, activation=\"sigmoid\")(x)  # Binary classification\n",
    "model = tf.keras.Model(inputs, outputs)"
   ]
  },
  {
   "cell_type": "code",
   "execution_count": null,
   "metadata": {
    "colab": {
     "base_uri": "https://localhost:8080/"
    },
    "executionInfo": {
     "elapsed": 605946,
     "status": "ok",
     "timestamp": 1750190761790,
     "user": {
      "displayName": "Shiwam Dutta",
      "userId": "11111948761228755611"
     },
     "user_tz": -330
    },
    "id": "LfCbjTfJGqU-",
    "outputId": "d96c80ad-f803-4f78-f52f-daac3106deca"
   },
   "outputs": [
    {
     "name": "stdout",
     "output_type": "stream",
     "text": [
      "Epoch 1/10\n",
      "\u001b[1m18/18\u001b[0m \u001b[32m━━━━━━━━━━━━━━━━━━━━\u001b[0m\u001b[37m\u001b[0m \u001b[1m65s\u001b[0m 3s/step - accuracy: 0.6288 - auc_2: 0.5885 - loss: 0.6550 - val_accuracy: 0.5524 - val_auc_2: 0.3775 - val_loss: 0.6948\n",
      "Epoch 2/10\n",
      "\u001b[1m18/18\u001b[0m \u001b[32m━━━━━━━━━━━━━━━━━━━━\u001b[0m\u001b[37m\u001b[0m \u001b[1m46s\u001b[0m 3s/step - accuracy: 0.6567 - auc_2: 0.4951 - loss: 0.6476 - val_accuracy: 0.6573 - val_auc_2: 0.4048 - val_loss: 0.6676\n",
      "Epoch 3/10\n",
      "\u001b[1m18/18\u001b[0m \u001b[32m━━━━━━━━━━━━━━━━━━━━\u001b[0m\u001b[37m\u001b[0m \u001b[1m82s\u001b[0m 3s/step - accuracy: 0.6904 - auc_2: 0.5280 - loss: 0.6156 - val_accuracy: 0.6923 - val_auc_2: 0.4295 - val_loss: 0.6499\n",
      "Epoch 4/10\n",
      "\u001b[1m18/18\u001b[0m \u001b[32m━━━━━━━━━━━━━━━━━━━━\u001b[0m\u001b[37m\u001b[0m \u001b[1m48s\u001b[0m 3s/step - accuracy: 0.7229 - auc_2: 0.5488 - loss: 0.5881 - val_accuracy: 0.6923 - val_auc_2: 0.4592 - val_loss: 0.6363\n",
      "Epoch 5/10\n",
      "\u001b[1m18/18\u001b[0m \u001b[32m━━━━━━━━━━━━━━━━━━━━\u001b[0m\u001b[37m\u001b[0m \u001b[1m46s\u001b[0m 3s/step - accuracy: 0.7343 - auc_2: 0.5809 - loss: 0.5747 - val_accuracy: 0.6923 - val_auc_2: 0.4903 - val_loss: 0.6239\n",
      "Epoch 6/10\n",
      "\u001b[1m18/18\u001b[0m \u001b[32m━━━━━━━━━━━━━━━━━━━━\u001b[0m\u001b[37m\u001b[0m \u001b[1m46s\u001b[0m 3s/step - accuracy: 0.7468 - auc_2: 0.6132 - loss: 0.5600 - val_accuracy: 0.6923 - val_auc_2: 0.5232 - val_loss: 0.6125\n",
      "Epoch 7/10\n",
      "\u001b[1m18/18\u001b[0m \u001b[32m━━━━━━━━━━━━━━━━━━━━\u001b[0m\u001b[37m\u001b[0m \u001b[1m46s\u001b[0m 3s/step - accuracy: 0.7879 - auc_2: 0.6526 - loss: 0.5336 - val_accuracy: 0.7063 - val_auc_2: 0.5587 - val_loss: 0.6020\n",
      "Epoch 8/10\n",
      "\u001b[1m18/18\u001b[0m \u001b[32m━━━━━━━━━━━━━━━━━━━━\u001b[0m\u001b[37m\u001b[0m \u001b[1m48s\u001b[0m 3s/step - accuracy: 0.7635 - auc_2: 0.6680 - loss: 0.5307 - val_accuracy: 0.7063 - val_auc_2: 0.5929 - val_loss: 0.5913\n",
      "Epoch 9/10\n",
      "\u001b[1m18/18\u001b[0m \u001b[32m━━━━━━━━━━━━━━━━━━━━\u001b[0m\u001b[37m\u001b[0m \u001b[1m55s\u001b[0m 3s/step - accuracy: 0.7703 - auc_2: 0.7200 - loss: 0.5078 - val_accuracy: 0.7063 - val_auc_2: 0.6202 - val_loss: 0.5817\n",
      "Epoch 10/10\n",
      "\u001b[1m18/18\u001b[0m \u001b[32m━━━━━━━━━━━━━━━━━━━━\u001b[0m\u001b[37m\u001b[0m \u001b[1m73s\u001b[0m 3s/step - accuracy: 0.7812 - auc_2: 0.7191 - loss: 0.5060 - val_accuracy: 0.7063 - val_auc_2: 0.6453 - val_loss: 0.5729\n"
     ]
    }
   ],
   "source": [
    "# Compile\n",
    "model.compile(\n",
    "    optimizer=tf.keras.optimizers.Adam(learning_rate=1e-4),\n",
    "    loss=\"binary_crossentropy\",\n",
    "    metrics=[\"accuracy\", tf.keras.metrics.AUC()],\n",
    ")\n",
    "\n",
    "# Trian\n",
    "history = model.fit(train_ds, validation_data=val_ds, epochs=EPOCHS)"
   ]
  },
  {
   "cell_type": "code",
   "execution_count": null,
   "metadata": {
    "colab": {
     "base_uri": "https://localhost:8080/"
    },
    "executionInfo": {
     "elapsed": 31916,
     "status": "ok",
     "timestamp": 1750190792541,
     "user": {
      "displayName": "Shiwam Dutta",
      "userId": "11111948761228755611"
     },
     "user_tz": -330
    },
    "id": "pFTv6SFNGsYc",
    "outputId": "c0d166b0-617e-4443-c3df-64d3df8d6a19"
   },
   "outputs": [
    {
     "name": "stdout",
     "output_type": "stream",
     "text": [
      "\u001b[1m18/18\u001b[0m \u001b[32m━━━━━━━━━━━━━━━━━━━━\u001b[0m\u001b[37m\u001b[0m \u001b[1m36s\u001b[0m 2s/step - accuracy: 0.7803 - auc_2: 0.7699 - loss: 0.4862\n",
      "\u001b[1m5/5\u001b[0m \u001b[32m━━━━━━━━━━━━━━━━━━━━\u001b[0m\u001b[37m\u001b[0m \u001b[1m10s\u001b[0m 2s/step - accuracy: 0.7042 - auc_2: 0.6372 - loss: 0.5776\n",
      "train_acc: 0.7743 - loss: 0.4951 - auc: 0.7670\n",
      "  val_acc: 0.7063 - loss: 0.5729 - auc: 0.6453\n"
     ]
    }
   ],
   "source": [
    "train_loss, train_acc, train_auc = model.evaluate(train_ds)\n",
    "val_loss, val_acc, val_auc = model.evaluate(val_ds)\n",
    "\n",
    "print(f\"train_acc: {train_acc:.4f} - loss: {train_loss:.4f} - auc: {train_auc:.4f}\")\n",
    "print(f\"  val_acc: {val_acc:.4f} - loss: {val_loss:.4f} - auc: {val_auc:.4f}\")"
   ]
  },
  {
   "cell_type": "code",
   "execution_count": null,
   "metadata": {
    "colab": {
     "base_uri": "https://localhost:8080/"
    },
    "executionInfo": {
     "elapsed": 14318,
     "status": "ok",
     "timestamp": 1750190806914,
     "user": {
      "displayName": "Shiwam Dutta",
      "userId": "11111948761228755611"
     },
     "user_tz": -330
    },
    "id": "m05loIkfG4Ep",
    "outputId": "31d0a1d8-f9e7-4167-e6ad-d8fbd426d28d"
   },
   "outputs": [
    {
     "name": "stdout",
     "output_type": "stream",
     "text": [
      "\u001b[1m4/5\u001b[0m \u001b[32m━━━━━━━━━━━━━━━━\u001b[0m\u001b[37m━━━━\u001b[0m \u001b[1m2s\u001b[0m 2s/step"
     ]
    },
    {
     "name": "stderr",
     "output_type": "stream",
     "text": [
      "WARNING:tensorflow:5 out of the last 16 calls to <function TensorFlowTrainer.make_predict_function.<locals>.one_step_on_data_distributed at 0x7b4e3d43c400> triggered tf.function retracing. Tracing is expensive and the excessive number of tracings could be due to (1) creating @tf.function repeatedly in a loop, (2) passing tensors with different shapes, (3) passing Python objects instead of tensors. For (1), please define your @tf.function outside of the loop. For (2), @tf.function has reduce_retracing=True option that can avoid unnecessary retracing. For (3), please refer to https://www.tensorflow.org/guide/function#controlling_retracing and https://www.tensorflow.org/api_docs/python/tf/function for  more details.\n"
     ]
    },
    {
     "name": "stdout",
     "output_type": "stream",
     "text": [
      "\u001b[1m5/5\u001b[0m \u001b[32m━━━━━━━━━━━━━━━━━━━━\u001b[0m\u001b[37m\u001b[0m \u001b[1m14s\u001b[0m 3s/step\n",
      "              precision    recall  f1-score   support\n",
      "\n",
      "      cancer     0.2867    1.0000    0.4457        41\n",
      "      normal     0.0000    0.0000    0.0000       102\n",
      "\n",
      "    accuracy                         0.2867       143\n",
      "   macro avg     0.1434    0.5000    0.2228       143\n",
      "weighted avg     0.0822    0.2867    0.1278       143\n",
      "\n"
     ]
    },
    {
     "name": "stderr",
     "output_type": "stream",
     "text": [
      "/usr/local/lib/python3.11/dist-packages/sklearn/metrics/_classification.py:1565: UndefinedMetricWarning: Precision is ill-defined and being set to 0.0 in labels with no predicted samples. Use `zero_division` parameter to control this behavior.\n",
      "  _warn_prf(average, modifier, f\"{metric.capitalize()} is\", len(result))\n",
      "/usr/local/lib/python3.11/dist-packages/sklearn/metrics/_classification.py:1565: UndefinedMetricWarning: Precision is ill-defined and being set to 0.0 in labels with no predicted samples. Use `zero_division` parameter to control this behavior.\n",
      "  _warn_prf(average, modifier, f\"{metric.capitalize()} is\", len(result))\n",
      "/usr/local/lib/python3.11/dist-packages/sklearn/metrics/_classification.py:1565: UndefinedMetricWarning: Precision is ill-defined and being set to 0.0 in labels with no predicted samples. Use `zero_division` parameter to control this behavior.\n",
      "  _warn_prf(average, modifier, f\"{metric.capitalize()} is\", len(result))\n"
     ]
    }
   ],
   "source": [
    "# Get True and Predicted results\n",
    "y_true = np.concatenate([y.numpy() for x, y in val_ds], axis=0)\n",
    "y_pred_probs = model.predict(val_ds)\n",
    "y_pred = np.argmax(y_pred_probs, axis=1)\n",
    "\n",
    "# Generate Classification report\n",
    "print(classification_report(y_true, y_pred, target_names=CLASS_NAMES, digits=4))"
   ]
  },
  {
   "cell_type": "markdown",
   "metadata": {
    "id": "HyZEVBaGafgs"
   },
   "source": [
    "## 2nd Try with EfficientNetB0\n",
    "\n",
    "using weighted class\n"
   ]
  },
  {
   "cell_type": "code",
   "execution_count": null,
   "metadata": {
    "colab": {
     "base_uri": "https://localhost:8080/"
    },
    "executionInfo": {
     "elapsed": 280,
     "status": "ok",
     "timestamp": 1750190807480,
     "user": {
      "displayName": "Shiwam Dutta",
      "userId": "11111948761228755611"
     },
     "user_tz": -330
    },
    "id": "uIa7kqQJazn7",
    "outputId": "66bbfc17-b7fb-40d8-c9fd-ee75447bd4fd"
   },
   "outputs": [
    {
     "name": "stdout",
     "output_type": "stream",
     "text": [
      "class_indices={'cancer': 0, 'normal': 1}\n",
      "{0: np.float64(1.9122340425531914), 1: np.float64(0.6770244821092278)}\n"
     ]
    }
   ],
   "source": [
    "class_indices = {name: idx for idx, name in enumerate(CLASS_NAMES)}\n",
    "print(f\"{class_indices=}\")\n",
    "\n",
    "# Convert to numpy for sklearn\n",
    "y = []\n",
    "for class_name, count in class_counts.items():\n",
    "    y.extend([class_indices[class_name]] * count)\n",
    "\n",
    "class_weights = compute_class_weight(class_weight=\"balanced\", classes=np.unique(y), y=y)\n",
    "class_weight_dict = {i: w for i, w in enumerate(class_weights)}\n",
    "\n",
    "print(class_weight_dict)"
   ]
  },
  {
   "cell_type": "code",
   "execution_count": null,
   "metadata": {
    "colab": {
     "base_uri": "https://localhost:8080/"
    },
    "executionInfo": {
     "elapsed": 761799,
     "status": "ok",
     "timestamp": 1750191569317,
     "user": {
      "displayName": "Shiwam Dutta",
      "userId": "11111948761228755611"
     },
     "user_tz": -330
    },
    "id": "hEh_lbhYKjOX",
    "outputId": "90e3730e-6901-4fdb-c5fd-eb148ced86f5"
   },
   "outputs": [
    {
     "name": "stdout",
     "output_type": "stream",
     "text": [
      "Epoch 1/10\n",
      "\u001b[1m18/18\u001b[0m \u001b[32m━━━━━━━━━━━━━━━━━━━━\u001b[0m\u001b[37m\u001b[0m \u001b[1m64s\u001b[0m 3s/step - accuracy: 0.7939 - auc_3: 0.7254 - loss: 0.6636 - val_accuracy: 0.7343 - val_auc_3: 0.6685 - val_loss: 0.5634\n",
      "Epoch 2/10\n",
      "\u001b[1m18/18\u001b[0m \u001b[32m━━━━━━━━━━━━━━━━━━━━\u001b[0m\u001b[37m\u001b[0m \u001b[1m76s\u001b[0m 3s/step - accuracy: 0.7713 - auc_3: 0.7550 - loss: 0.6248 - val_accuracy: 0.7203 - val_auc_3: 0.6918 - val_loss: 0.5638\n",
      "Epoch 3/10\n",
      "\u001b[1m18/18\u001b[0m \u001b[32m━━━━━━━━━━━━━━━━━━━━\u001b[0m\u001b[37m\u001b[0m \u001b[1m82s\u001b[0m 3s/step - accuracy: 0.8200 - auc_3: 0.8140 - loss: 0.5628 - val_accuracy: 0.7133 - val_auc_3: 0.7111 - val_loss: 0.5682\n",
      "Epoch 4/10\n",
      "\u001b[1m18/18\u001b[0m \u001b[32m━━━━━━━━━━━━━━━━━━━━\u001b[0m\u001b[37m\u001b[0m \u001b[1m45s\u001b[0m 3s/step - accuracy: 0.7418 - auc_3: 0.8033 - loss: 0.5541 - val_accuracy: 0.6993 - val_auc_3: 0.7263 - val_loss: 0.5707\n",
      "Epoch 5/10\n",
      "\u001b[1m18/18\u001b[0m \u001b[32m━━━━━━━━━━━━━━━━━━━━\u001b[0m\u001b[37m\u001b[0m \u001b[1m48s\u001b[0m 3s/step - accuracy: 0.7678 - auc_3: 0.8033 - loss: 0.5511 - val_accuracy: 0.6783 - val_auc_3: 0.7400 - val_loss: 0.5728\n",
      "Epoch 6/10\n",
      "\u001b[1m18/18\u001b[0m \u001b[32m━━━━━━━━━━━━━━━━━━━━\u001b[0m\u001b[37m\u001b[0m \u001b[1m82s\u001b[0m 3s/step - accuracy: 0.7511 - auc_3: 0.8204 - loss: 0.5389 - val_accuracy: 0.6783 - val_auc_3: 0.7524 - val_loss: 0.5708\n",
      "Epoch 7/10\n",
      "\u001b[1m18/18\u001b[0m \u001b[32m━━━━━━━━━━━━━━━━━━━━\u001b[0m\u001b[37m\u001b[0m \u001b[1m82s\u001b[0m 3s/step - accuracy: 0.7585 - auc_3: 0.7959 - loss: 0.5541 - val_accuracy: 0.6783 - val_auc_3: 0.7609 - val_loss: 0.5676\n",
      "Epoch 8/10\n",
      "\u001b[1m18/18\u001b[0m \u001b[32m━━━━━━━━━━━━━━━━━━━━\u001b[0m\u001b[37m\u001b[0m \u001b[1m82s\u001b[0m 3s/step - accuracy: 0.7461 - auc_3: 0.8080 - loss: 0.5473 - val_accuracy: 0.6923 - val_auc_3: 0.7697 - val_loss: 0.5629\n",
      "Epoch 9/10\n",
      "\u001b[1m18/18\u001b[0m \u001b[32m━━━━━━━━━━━━━━━━━━━━\u001b[0m\u001b[37m\u001b[0m \u001b[1m82s\u001b[0m 3s/step - accuracy: 0.7502 - auc_3: 0.7968 - loss: 0.5537 - val_accuracy: 0.6923 - val_auc_3: 0.7771 - val_loss: 0.5574\n",
      "Epoch 10/10\n",
      "\u001b[1m18/18\u001b[0m \u001b[32m━━━━━━━━━━━━━━━━━━━━\u001b[0m\u001b[37m\u001b[0m \u001b[1m82s\u001b[0m 3s/step - accuracy: 0.7499 - auc_3: 0.8046 - loss: 0.5468 - val_accuracy: 0.7133 - val_auc_3: 0.7849 - val_loss: 0.5534\n"
     ]
    }
   ],
   "source": [
    "# Compile\n",
    "model.compile(\n",
    "    optimizer=tf.keras.optimizers.Adam(learning_rate=1e-4),\n",
    "    loss=\"binary_crossentropy\",\n",
    "    metrics=[\"accuracy\", tf.keras.metrics.AUC()],\n",
    ")\n",
    "\n",
    "# Trian\n",
    "history = model.fit(\n",
    "    train_ds, validation_data=val_ds, epochs=EPOCHS, class_weight=class_weight_dict\n",
    ")"
   ]
  },
  {
   "cell_type": "code",
   "execution_count": null,
   "metadata": {
    "colab": {
     "base_uri": "https://localhost:8080/"
    },
    "executionInfo": {
     "elapsed": 44619,
     "status": "ok",
     "timestamp": 1750191612638,
     "user": {
      "displayName": "Shiwam Dutta",
      "userId": "11111948761228755611"
     },
     "user_tz": -330
    },
    "id": "8Mm8mFlmMqi-",
    "outputId": "a159acaa-a91b-4e20-a3c6-1fd5f26b211b"
   },
   "outputs": [
    {
     "name": "stdout",
     "output_type": "stream",
     "text": [
      "\u001b[1m18/18\u001b[0m \u001b[32m━━━━━━━━━━━━━━━━━━━━\u001b[0m\u001b[37m\u001b[0m \u001b[1m37s\u001b[0m 2s/step - accuracy: 0.7809 - auc_3: 0.8627 - loss: 0.5036\n",
      "\u001b[1m5/5\u001b[0m \u001b[32m━━━━━━━━━━━━━━━━━━━━\u001b[0m\u001b[37m\u001b[0m \u001b[1m9s\u001b[0m 2s/step - accuracy: 0.6974 - auc_3: 0.7683 - loss: 0.5613\n",
      "train_acc: 0.7795 - loss: 0.5020 - auc: 0.8655\n",
      "  val_acc: 0.7133 - loss: 0.5534 - auc: 0.7849\n"
     ]
    }
   ],
   "source": [
    "train_loss, train_acc, train_auc = model.evaluate(train_ds)\n",
    "val_loss, val_acc, val_auc = model.evaluate(val_ds)\n",
    "\n",
    "print(f\"train_acc: {train_acc:.4f} - loss: {train_loss:.4f} - auc: {train_auc:.4f}\")\n",
    "print(f\"  val_acc: {val_acc:.4f} - loss: {val_loss:.4f} - auc: {val_auc:.4f}\")"
   ]
  },
  {
   "cell_type": "code",
   "execution_count": null,
   "metadata": {
    "colab": {
     "base_uri": "https://localhost:8080/"
    },
    "executionInfo": {
     "elapsed": 19127,
     "status": "ok",
     "timestamp": 1750191631812,
     "user": {
      "displayName": "Shiwam Dutta",
      "userId": "11111948761228755611"
     },
     "user_tz": -330
    },
    "id": "Q5RmXLx7AItZ",
    "outputId": "15b39d9f-a708-463e-93a0-a39ea5944779"
   },
   "outputs": [
    {
     "name": "stderr",
     "output_type": "stream",
     "text": [
      "WARNING:tensorflow:5 out of the last 11 calls to <function TensorFlowTrainer.make_predict_function.<locals>.one_step_on_data_distributed at 0x7b4e3d29d760> triggered tf.function retracing. Tracing is expensive and the excessive number of tracings could be due to (1) creating @tf.function repeatedly in a loop, (2) passing tensors with different shapes, (3) passing Python objects instead of tensors. For (1), please define your @tf.function outside of the loop. For (2), @tf.function has reduce_retracing=True option that can avoid unnecessary retracing. For (3), please refer to https://www.tensorflow.org/guide/function#controlling_retracing and https://www.tensorflow.org/api_docs/python/tf/function for  more details.\n"
     ]
    },
    {
     "name": "stdout",
     "output_type": "stream",
     "text": [
      "\u001b[1m5/5\u001b[0m \u001b[32m━━━━━━━━━━━━━━━━━━━━\u001b[0m\u001b[37m\u001b[0m \u001b[1m14s\u001b[0m 2s/step\n",
      "              precision    recall  f1-score   support\n",
      "\n",
      "      cancer     0.2867    1.0000    0.4457        41\n",
      "      normal     0.0000    0.0000    0.0000       102\n",
      "\n",
      "    accuracy                         0.2867       143\n",
      "   macro avg     0.1434    0.5000    0.2228       143\n",
      "weighted avg     0.0822    0.2867    0.1278       143\n",
      "\n"
     ]
    },
    {
     "name": "stderr",
     "output_type": "stream",
     "text": [
      "/usr/local/lib/python3.11/dist-packages/sklearn/metrics/_classification.py:1565: UndefinedMetricWarning: Precision is ill-defined and being set to 0.0 in labels with no predicted samples. Use `zero_division` parameter to control this behavior.\n",
      "  _warn_prf(average, modifier, f\"{metric.capitalize()} is\", len(result))\n",
      "/usr/local/lib/python3.11/dist-packages/sklearn/metrics/_classification.py:1565: UndefinedMetricWarning: Precision is ill-defined and being set to 0.0 in labels with no predicted samples. Use `zero_division` parameter to control this behavior.\n",
      "  _warn_prf(average, modifier, f\"{metric.capitalize()} is\", len(result))\n",
      "/usr/local/lib/python3.11/dist-packages/sklearn/metrics/_classification.py:1565: UndefinedMetricWarning: Precision is ill-defined and being set to 0.0 in labels with no predicted samples. Use `zero_division` parameter to control this behavior.\n",
      "  _warn_prf(average, modifier, f\"{metric.capitalize()} is\", len(result))\n"
     ]
    }
   ],
   "source": [
    "# Get True and Predicted results\n",
    "y_true = np.concatenate([y.numpy() for x, y in val_ds], axis=0)\n",
    "y_pred_probs = model.predict(val_ds)\n",
    "y_pred = np.argmax(y_pred_probs, axis=1)\n",
    "\n",
    "# Generate Classification report\n",
    "print(classification_report(y_true, y_pred, target_names=CLASS_NAMES, digits=4))"
   ]
  },
  {
   "cell_type": "markdown",
   "metadata": {
    "id": "sAycus-4EHar"
   },
   "source": [
    "# Using method from Kaggle\n",
    "\n",
    "used ResNet50 & confution_matrix to deal with imbalance in data\n"
   ]
  },
  {
   "cell_type": "code",
   "execution_count": null,
   "metadata": {
    "colab": {
     "base_uri": "https://localhost:8080/"
    },
    "executionInfo": {
     "elapsed": 472,
     "status": "ok",
     "timestamp": 1750192033108,
     "user": {
      "displayName": "Shiwam Dutta",
      "userId": "11111948761228755611"
     },
     "user_tz": -330
    },
    "id": "8Vxit1kCEXtL",
    "outputId": "b7437501-4af1-4998-b729-4c603732ae86"
   },
   "outputs": [
    {
     "name": "stdout",
     "output_type": "stream",
     "text": [
      "Found 719 files belonging to 2 classes.\n",
      "Using 576 files for training.\n",
      "Found 719 files belonging to 2 classes.\n",
      "Using 143 files for validation.\n"
     ]
    }
   ],
   "source": [
    "# Load training and validation data\n",
    "train_ds = image_dataset_from_directory(\n",
    "    DATA_PATH,\n",
    "    validation_split=0.2,\n",
    "    subset=\"training\",\n",
    "    seed=123,\n",
    "    image_size=IMG_SIZE,\n",
    "    batch_size=BATCH_SIZE,\n",
    ")\n",
    "\n",
    "val_ds = image_dataset_from_directory(\n",
    "    DATA_PATH,\n",
    "    validation_split=0.2,\n",
    "    subset=\"validation\",\n",
    "    seed=123,\n",
    "    image_size=IMG_SIZE,\n",
    "    batch_size=BATCH_SIZE,\n",
    ")"
   ]
  },
  {
   "cell_type": "code",
   "execution_count": null,
   "metadata": {
    "colab": {
     "base_uri": "https://localhost:8080/"
    },
    "executionInfo": {
     "elapsed": 27,
     "status": "ok",
     "timestamp": 1750192219976,
     "user": {
      "displayName": "Shiwam Dutta",
      "userId": "11111948761228755611"
     },
     "user_tz": -330
    },
    "id": "npEAwsV3FoFA",
    "outputId": "38afd7ca-0c93-474f-daf4-198bcc4dc06e"
   },
   "outputs": [
    {
     "name": "stdout",
     "output_type": "stream",
     "text": [
      "class_counts={'cancer': 188, 'normal': 531}\n"
     ]
    }
   ],
   "source": [
    "# Counting number of images in each class\n",
    "class_counts = {}\n",
    "for class_name in CLASS_NAMES:\n",
    "    class_path = os.path.join(DATA_PATH, class_name)\n",
    "    class_counts[class_name] = len(os.listdir(class_path))\n",
    "print(f\"{class_counts=}\")"
   ]
  },
  {
   "cell_type": "code",
   "execution_count": null,
   "metadata": {
    "colab": {
     "base_uri": "https://localhost:8080/"
    },
    "executionInfo": {
     "elapsed": 51,
     "status": "ok",
     "timestamp": 1750192223184,
     "user": {
      "displayName": "Shiwam Dutta",
      "userId": "11111948761228755611"
     },
     "user_tz": -330
    },
    "id": "9LDSsaHPImqy",
    "outputId": "ab35b6ed-7856-4311-9aff-714fab1ffd99"
   },
   "outputs": [
    {
     "name": "stdout",
     "output_type": "stream",
     "text": [
      "{'cancer': 0, 'normal': 1}\n"
     ]
    }
   ],
   "source": [
    "# Labling image file paths\n",
    "class_indices = {name: idx for idx, name in enumerate(CLASS_NAMES)}\n",
    "print(class_indices)\n",
    "\n",
    "img_paths = list()\n",
    "labels = list()\n",
    "\n",
    "for class_name in CLASS_NAMES:\n",
    "    class_path = os.path.join(DATA_PATH, class_name)\n",
    "    for img_name in os.listdir(class_path):\n",
    "        img_path = os.path.join(class_path, img_name)\n",
    "        img_paths.append(img_path)\n",
    "        labels.append(class_indices[class_name])\n",
    "\n",
    "# Converting to NumPy arrays\n",
    "img_paths = np.array(img_paths)\n",
    "labels = np.array(labels)"
   ]
  },
  {
   "cell_type": "code",
   "execution_count": null,
   "metadata": {
    "id": "_Ci8vE0zJShU"
   },
   "outputs": [],
   "source": [
    "minor_class = \"cancer\" if class_counts[\"cancer\"] < class_counts[\"normal\"] else \"normal\"\n",
    "major_class = \"normal\" if minor_class == \"cancer\" else \"cancer\"\n",
    "\n",
    "minor_idx = np.where(labels == class_indices[minor_class])[0]\n",
    "major_idx = np.where(labels == class_indices[major_class])[0]"
   ]
  },
  {
   "cell_type": "code",
   "execution_count": null,
   "metadata": {
    "id": "x4owRv_RME6I"
   },
   "outputs": [],
   "source": [
    "# Oversample minority class\n",
    "minor_oversampled = resample(\n",
    "    minor_idx, replace=True, n_samples=len(major_idx), random_state=42\n",
    ")\n",
    "resampled_idx = np.hstack([major_idx, minor_oversampled])\n",
    "np.random.shuffle(resampled_idx)\n",
    "\n",
    "# New paths & labels shuffled\n",
    "resampled_paths = img_paths[resampled_idx]\n",
    "resampled_labels = labels[resampled_idx]"
   ]
  },
  {
   "cell_type": "code",
   "execution_count": null,
   "metadata": {
    "id": "zeRvlo3LSIwE"
   },
   "outputs": [],
   "source": [
    "# Making new tf dataset\n",
    "def load_and_preprocess_image(path, label):\n",
    "    image = tf.io.read_file(path)\n",
    "    image = tf.image.decode_jpeg(image, channels=3)\n",
    "    image = tf.image.resize(image, IMG_SIZE)\n",
    "    return image, label\n",
    "\n",
    "\n",
    "ds = tf.data.Dataset.from_tensor_slices((resampled_paths, resampled_labels))\n",
    "ds = ds.map(lambda x, y: load_and_preprocess_image(x, y))\n",
    "ds = ds.batch(BATCH_SIZE).prefetch(tf.data.AUTOTUNE)"
   ]
  },
  {
   "cell_type": "code",
   "execution_count": null,
   "metadata": {
    "id": "hUhIl2DiSo9e"
   },
   "outputs": [],
   "source": [
    "# Data augmentation\n",
    "data_augmentation = models.Sequential(\n",
    "    [\n",
    "        layers.RandomFlip(\"horizontal\"),\n",
    "        layers.RandomRotation(0.1),\n",
    "        layers.RandomZoom(0.1),\n",
    "        layers.Rescaling(1.0 / 255),\n",
    "    ]\n",
    ")"
   ]
  },
  {
   "cell_type": "code",
   "execution_count": null,
   "metadata": {
    "id": "XaniCgx6TtS8"
   },
   "outputs": [],
   "source": [
    "# Functional model\n",
    "inputs = layers.Input(shape=(*IMG_SIZE, 3))\n",
    "x = data_augmentation(inputs)\n",
    "\n",
    "# Load pretrained base\n",
    "base_model = ResNet50(weights=\"imagenet\", include_top=False)\n",
    "base_model.trainable = False\n",
    "x = base_model(x, training=False)\n",
    "\n",
    "x = layers.GlobalAveragePooling2D()(x)\n",
    "x = layers.Dense(128, activation=\"relu\")(x)\n",
    "x = layers.Dropout(0.3)(x)\n",
    "outputs = layers.Dense(1, activation=\"sigmoid\")(x)\n",
    "\n",
    "model = models.Model(inputs, outputs)"
   ]
  },
  {
   "cell_type": "code",
   "execution_count": null,
   "metadata": {
    "colab": {
     "background_save": true,
     "base_uri": "https://localhost:8080/"
    },
    "id": "7m5Q9YBPUslC",
    "outputId": "07b28f1c-321d-4933-894a-fe9acb765957"
   },
   "outputs": [
    {
     "name": "stdout",
     "output_type": "stream",
     "text": [
      "Epoch 1/10\n",
      "\u001b[1m34/34\u001b[0m \u001b[32m━━━━━━━━━━━━━━━━━━━━\u001b[0m\u001b[37m\u001b[0m \u001b[1m260s\u001b[0m 7s/step - accuracy: 0.4995 - auc_4: 0.4936 - loss: 0.8206 - val_accuracy: 0.3986 - val_auc_4: 0.6584 - val_loss: 0.7005\n",
      "Epoch 2/10\n",
      "\u001b[1m34/34\u001b[0m \u001b[32m━━━━━━━━━━━━━━━━━━━━\u001b[0m\u001b[37m\u001b[0m \u001b[1m249s\u001b[0m 7s/step - accuracy: 0.5015 - auc_4: 0.5194 - loss: 0.7171 - val_accuracy: 0.2867 - val_auc_4: 0.6746 - val_loss: 0.7230\n",
      "Epoch 3/10\n",
      "\u001b[1m34/34\u001b[0m \u001b[32m━━━━━━━━━━━━━━━━━━━━\u001b[0m\u001b[37m\u001b[0m \u001b[1m263s\u001b[0m 7s/step - accuracy: 0.5101 - auc_4: 0.4915 - loss: 0.7240 - val_accuracy: 0.4406 - val_auc_4: 0.6854 - val_loss: 0.6991\n",
      "Epoch 4/10\n",
      "\u001b[1m34/34\u001b[0m \u001b[32m━━━━━━━━━━━━━━━━━━━━\u001b[0m\u001b[37m\u001b[0m \u001b[1m262s\u001b[0m 7s/step - accuracy: 0.5287 - auc_4: 0.5349 - loss: 0.7041 - val_accuracy: 0.4266 - val_auc_4: 0.6933 - val_loss: 0.7008\n",
      "Epoch 5/10\n",
      "\u001b[1m34/34\u001b[0m \u001b[32m━━━━━━━━━━━━━━━━━━━━\u001b[0m\u001b[37m\u001b[0m \u001b[1m262s\u001b[0m 7s/step - accuracy: 0.4860 - auc_4: 0.4805 - loss: 0.7198 - val_accuracy: 0.4685 - val_auc_4: 0.6905 - val_loss: 0.6988\n",
      "Epoch 6/10\n",
      "\u001b[1m34/34\u001b[0m \u001b[32m━━━━━━━━━━━━━━━━━━━━\u001b[0m\u001b[37m\u001b[0m \u001b[1m246s\u001b[0m 6s/step - accuracy: 0.5339 - auc_4: 0.5469 - loss: 0.6967 - val_accuracy: 0.4685 - val_auc_4: 0.6949 - val_loss: 0.7003\n",
      "Epoch 7/10\n",
      "\u001b[1m34/34\u001b[0m \u001b[32m━━━━━━━━━━━━━━━━━━━━\u001b[0m\u001b[37m\u001b[0m \u001b[1m278s\u001b[0m 7s/step - accuracy: 0.5418 - auc_4: 0.5442 - loss: 0.6959 - val_accuracy: 0.5385 - val_auc_4: 0.7015 - val_loss: 0.6937\n",
      "Epoch 8/10\n",
      "\u001b[1m34/34\u001b[0m \u001b[32m━━━━━━━━━━━━━━━━━━━━\u001b[0m\u001b[37m\u001b[0m \u001b[1m262s\u001b[0m 7s/step - accuracy: 0.5177 - auc_4: 0.5277 - loss: 0.6972 - val_accuracy: 0.6224 - val_auc_4: 0.7093 - val_loss: 0.6851\n",
      "Epoch 9/10\n",
      "\u001b[1m34/34\u001b[0m \u001b[32m━━━━━━━━━━━━━━━━━━━━\u001b[0m\u001b[37m\u001b[0m \u001b[1m263s\u001b[0m 7s/step - accuracy: 0.5010 - auc_4: 0.5152 - loss: 0.6983 - val_accuracy: 0.6014 - val_auc_4: 0.7096 - val_loss: 0.6877\n",
      "Epoch 10/10\n",
      "\u001b[1m34/34\u001b[0m \u001b[32m━━━━━━━━━━━━━━━━━━━━\u001b[0m\u001b[37m\u001b[0m \u001b[1m259s\u001b[0m 7s/step - accuracy: 0.5738 - auc_4: 0.5818 - loss: 0.6842 - val_accuracy: 0.5035 - val_auc_4: 0.7089 - val_loss: 0.6982\n"
     ]
    }
   ],
   "source": [
    "# Compile\n",
    "model.compile(\n",
    "    optimizer=tf.keras.optimizers.Adam(learning_rate=1e-4),\n",
    "    loss=\"binary_crossentropy\",\n",
    "    metrics=[\"accuracy\", tf.keras.metrics.AUC()],\n",
    ")\n",
    "\n",
    "# Train\n",
    "history = model.fit(ds, validation_data=val_ds, epochs=EPOCHS)"
   ]
  },
  {
   "cell_type": "code",
   "execution_count": null,
   "metadata": {
    "colab": {
     "background_save": true
    },
    "id": "1RhkLlcpmM1H",
    "outputId": "0ac7d9f8-8c71-4bc0-ca72-b4c4f4fa8f54"
   },
   "outputs": [
    {
     "name": "stdout",
     "output_type": "stream",
     "text": [
      "\u001b[1m18/18\u001b[0m \u001b[32m━━━━━━━━━━━━━━━━━━━━\u001b[0m\u001b[37m\u001b[0m \u001b[1m103s\u001b[0m 6s/step - accuracy: 0.4837 - auc_4: 0.6318 - loss: 0.7033\n",
      "\u001b[1m5/5\u001b[0m \u001b[32m━━━━━━━━━━━━━━━━━━━━\u001b[0m\u001b[37m\u001b[0m \u001b[1m25s\u001b[0m 5s/step - accuracy: 0.4951 - auc_4: 0.6569 - loss: 0.7076\n",
      "train_acc: 0.4826 - loss: 0.7005 - auc: 0.6404\n",
      "  val_acc: 0.5035 - loss: 0.6982 - auc: 0.7089\n"
     ]
    }
   ],
   "source": [
    "# Evaluate model\n",
    "train_loss, train_acc, train_auc = model.evaluate(train_ds)\n",
    "val_loss, val_acc, val_auc = model.evaluate(val_ds)\n",
    "\n",
    "print(f\"train_acc: {train_acc:.4f} - loss: {train_loss:.4f} - auc: {train_auc:.4f}\")\n",
    "print(f\"  val_acc: {val_acc:.4f} - loss: {val_loss:.4f} - auc: {val_auc:.4f}\")"
   ]
  },
  {
   "cell_type": "code",
   "execution_count": null,
   "metadata": {
    "colab": {
     "background_save": true
    },
    "id": "azUp770DmW0q",
    "outputId": "48106172-deaf-4b94-c950-863ff55ab0ad"
   },
   "outputs": [
    {
     "name": "stdout",
     "output_type": "stream",
     "text": [
      "\u001b[1m5/5\u001b[0m \u001b[32m━━━━━━━━━━━━━━━━━━━━\u001b[0m\u001b[37m\u001b[0m \u001b[1m29s\u001b[0m 5s/step\n",
      "              precision    recall  f1-score   support\n",
      "\n",
      "      cancer     0.2867    1.0000    0.4457        41\n",
      "      normal     0.0000    0.0000    0.0000       102\n",
      "\n",
      "    accuracy                         0.2867       143\n",
      "   macro avg     0.1434    0.5000    0.2228       143\n",
      "weighted avg     0.0822    0.2867    0.1278       143\n",
      "\n"
     ]
    },
    {
     "name": "stderr",
     "output_type": "stream",
     "text": [
      "/usr/local/lib/python3.11/dist-packages/sklearn/metrics/_classification.py:1565: UndefinedMetricWarning: Precision is ill-defined and being set to 0.0 in labels with no predicted samples. Use `zero_division` parameter to control this behavior.\n",
      "  _warn_prf(average, modifier, f\"{metric.capitalize()} is\", len(result))\n",
      "/usr/local/lib/python3.11/dist-packages/sklearn/metrics/_classification.py:1565: UndefinedMetricWarning: Precision is ill-defined and being set to 0.0 in labels with no predicted samples. Use `zero_division` parameter to control this behavior.\n",
      "  _warn_prf(average, modifier, f\"{metric.capitalize()} is\", len(result))\n",
      "/usr/local/lib/python3.11/dist-packages/sklearn/metrics/_classification.py:1565: UndefinedMetricWarning: Precision is ill-defined and being set to 0.0 in labels with no predicted samples. Use `zero_division` parameter to control this behavior.\n",
      "  _warn_prf(average, modifier, f\"{metric.capitalize()} is\", len(result))\n"
     ]
    }
   ],
   "source": [
    "# Get True and Predicted results\n",
    "y_true = np.concatenate([y.numpy() for x, y in val_ds], axis=0)\n",
    "y_pred_probs = model.predict(val_ds)\n",
    "y_pred = np.argmax(y_pred_probs, axis=1)\n",
    "\n",
    "# Generate Classification report\n",
    "print(classification_report(y_true, y_pred, target_names=CLASS_NAMES, digits=4))"
   ]
  }
 ],
 "metadata": {
  "accelerator": "GPU",
  "colab": {
   "authorship_tag": "ABX9TyNGaqWizzUSbo9aeiyAqd1k",
   "gpuType": "T4",
   "mount_file_id": "1Msvl4cGxO2edwIyMdWH1GY6jZyexf1Ft",
   "provenance": []
  },
  "kernelspec": {
   "display_name": "Python 3",
   "name": "python3"
  },
  "language_info": {
   "name": "python"
  }
 },
 "nbformat": 4,
 "nbformat_minor": 0
}
