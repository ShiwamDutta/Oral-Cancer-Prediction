{
 "cells": [
  {
   "cell_type": "code",
   "execution_count": null,
   "metadata": {
    "executionInfo": {
     "elapsed": 3323,
     "status": "ok",
     "timestamp": 1750755330595,
     "user": {
      "displayName": "Shiwam Dutta",
      "userId": "11111948761228755611"
     },
     "user_tz": -330
    },
    "id": "e-FJjp1iGbxN"
   },
   "outputs": [],
   "source": [
    "import os\n",
    "from math import ceil\n",
    "import tensorflow as tf\n",
    "from keras import models, layers\n",
    "from keras.applications import ResNet50\n",
    "from keras.preprocessing import image_dataset_from_directory\n",
    "from sklearn.metrics import classification_report\n",
    "import numpy as np\n",
    "import matplotlib.pyplot as plt"
   ]
  },
  {
   "cell_type": "code",
   "execution_count": null,
   "metadata": {
    "executionInfo": {
     "elapsed": 9,
     "status": "ok",
     "timestamp": 1750755331092,
     "user": {
      "displayName": "Shiwam Dutta",
      "userId": "11111948761228755611"
     },
     "user_tz": -330
    },
    "id": "ank5kOuyF5mR"
   },
   "outputs": [],
   "source": [
    "ROOT = \"Oral Cancer Prediction\"\n",
    "DATA_PATH = os.path.join(ROOT, \"assets\", \"dataset\")\n",
    "\n",
    "IMG_SIZE = (224, 224)\n",
    "\n",
    "BATCH_SIZE = 32"
   ]
  },
  {
   "cell_type": "code",
   "execution_count": null,
   "metadata": {
    "colab": {
     "base_uri": "https://localhost:8080/"
    },
    "executionInfo": {
     "elapsed": 3098,
     "status": "ok",
     "timestamp": 1750755334182,
     "user": {
      "displayName": "Shiwam Dutta",
      "userId": "11111948761228755611"
     },
     "user_tz": -330
    },
    "id": "9jfXJbhPUrZy",
    "outputId": "97bc2869-d937-4f6c-b8ce-d5b767596e68"
   },
   "outputs": [],
   "source": [
    "ds = image_dataset_from_directory(\n",
    "    DATA_PATH, image_size=IMG_SIZE, batch_size=BATCH_SIZE, shuffle=True, seed=123\n",
    ")"
   ]
  },
  {
   "cell_type": "code",
   "execution_count": null,
   "metadata": {
    "colab": {
     "base_uri": "https://localhost:8080/"
    },
    "executionInfo": {
     "elapsed": 20,
     "status": "ok",
     "timestamp": 1750755334183,
     "user": {
      "displayName": "Shiwam Dutta",
      "userId": "11111948761228755611"
     },
     "user_tz": -330
    },
    "id": "tHgGCJl0Z6LU",
    "outputId": "3f8671df-9f62-4aa4-caeb-951940e7aed2"
   },
   "outputs": [],
   "source": [
    "CLASS_NAMES = ds.class_names\n",
    "print(CLASS_NAMES)\n",
    "\n",
    "class_counts = {\n",
    "    0: os.listdir(os.path.join(DATA_PATH, CLASS_NAMES[0])).__len__(),\n",
    "    1: os.listdir(os.path.join(DATA_PATH, CLASS_NAMES[1])).__len__(),\n",
    "}\n",
    "print(class_counts)"
   ]
  },
  {
   "cell_type": "code",
   "execution_count": null,
   "metadata": {
    "colab": {
     "base_uri": "https://localhost:8080/"
    },
    "executionInfo": {
     "elapsed": 7219,
     "status": "ok",
     "timestamp": 1750755341386,
     "user": {
      "displayName": "Shiwam Dutta",
      "userId": "11111948761228755611"
     },
     "user_tz": -330
    },
    "id": "cnT1iN0jbD43",
    "outputId": "f5a64b73-6d29-4963-d7da-2463da28df69"
   },
   "outputs": [],
   "source": [
    "for img_batch, label_batch in ds.take(1):\n",
    "    print(img_batch.shape)\n",
    "    print(img_batch[0].shape)"
   ]
  },
  {
   "cell_type": "markdown",
   "metadata": {
    "id": "qODyaZqBeWMV"
   },
   "source": [
    "Batches of 32 images of size (224, 224) in 3 color channels.\n"
   ]
  },
  {
   "cell_type": "markdown",
   "metadata": {
    "id": "dyYIGTUaijy6"
   },
   "source": [
    "## Split dataset\n"
   ]
  },
  {
   "cell_type": "code",
   "execution_count": null,
   "metadata": {
    "colab": {
     "base_uri": "https://localhost:8080/"
    },
    "executionInfo": {
     "elapsed": 51,
     "status": "ok",
     "timestamp": 1750755348268,
     "user": {
      "displayName": "Shiwam Dutta",
      "userId": "11111948761228755611"
     },
     "user_tz": -330
    },
    "id": "CEshhUQ8iTe5",
    "outputId": "12389300-b8da-4db5-b290-360f3a7f9ffc"
   },
   "outputs": [],
   "source": [
    "train_split = 0.8\n",
    "val_split = 0.1\n",
    "train_size = int(len(ds) * train_split)\n",
    "val_size = ceil(len(ds) * val_split)\n",
    "print(f\"Number of batches:   {len(ds)}\")\n",
    "print(f\"Training batches:    {train_size}\")\n",
    "print(f\"Validating batches:  {val_size}\")\n",
    "print(f\"Testing batches:     {len(ds) - train_size - val_size}\")"
   ]
  },
  {
   "cell_type": "code",
   "execution_count": null,
   "metadata": {
    "executionInfo": {
     "elapsed": 49,
     "status": "ok",
     "timestamp": 1750755348269,
     "user": {
      "displayName": "Shiwam Dutta",
      "userId": "11111948761228755611"
     },
     "user_tz": -330
    },
    "id": "GDE1SomMiXYl"
   },
   "outputs": [],
   "source": [
    "train_ds = ds.take(train_size)\n",
    "test_ds = ds.skip(train_size)\n",
    "val_ds = test_ds.take(val_size)\n",
    "test_ds = test_ds.skip(val_size)"
   ]
  },
  {
   "cell_type": "markdown",
   "metadata": {
    "id": "Qja-xU2YJiZV"
   },
   "source": [
    "Creating a function to do all these things with shuffling\n"
   ]
  },
  {
   "cell_type": "code",
   "execution_count": null,
   "metadata": {
    "executionInfo": {
     "elapsed": 48,
     "status": "ok",
     "timestamp": 1750755348270,
     "user": {
      "displayName": "Shiwam Dutta",
      "userId": "11111948761228755611"
     },
     "user_tz": -330
    },
    "id": "xnIirBtVJiCA"
   },
   "outputs": [],
   "source": [
    "def dataset_partitions(\n",
    "    ds, train_split=0.8, val_split=0.1, shuffle=True, shuffle_size=1000\n",
    "):\n",
    "    if shuffle:\n",
    "        ds.shuffle(shuffle_size)\n",
    "\n",
    "    ds_size = int(ds.reduce(0, lambda x, _: x + 1).numpy())\n",
    "    train_size = int(ds_size * train_split)\n",
    "    val_size = ceil(ds_size * val_split)\n",
    "\n",
    "    train_ds = ds.take(train_size)\n",
    "    val_ds = ds.skip(train_size).take(val_size)\n",
    "    test_ds = ds.skip(train_size).skip(val_size)\n",
    "\n",
    "    return train_ds, val_ds, test_ds"
   ]
  },
  {
   "cell_type": "code",
   "execution_count": null,
   "metadata": {
    "colab": {
     "base_uri": "https://localhost:8080/"
    },
    "executionInfo": {
     "elapsed": 48,
     "status": "ok",
     "timestamp": 1750755348270,
     "user": {
      "displayName": "Shiwam Dutta",
      "userId": "11111948761228755611"
     },
     "user_tz": -330
    },
    "id": "js9xYIkkLxou",
    "outputId": "eeb569c2-a0dc-4004-da55-81fb2d0967f0"
   },
   "outputs": [],
   "source": [
    "train_ds, val_ds, test_ds = dataset_partitions(ds)\n",
    "\n",
    "print(f\"Number of batches  : {len(ds)}\")\n",
    "print(f\"Training batches   : {len(train_ds)}\")\n",
    "print(f\"Validating batches : {len(val_ds)}\")\n",
    "print(f\"Testing batches    : {len(test_ds)}\")"
   ]
  },
  {
   "cell_type": "code",
   "execution_count": null,
   "metadata": {
    "executionInfo": {
     "elapsed": 45,
     "status": "ok",
     "timestamp": 1750755348270,
     "user": {
      "displayName": "Shiwam Dutta",
      "userId": "11111948761228755611"
     },
     "user_tz": -330
    },
    "id": "OxYVNH3jN9JT"
   },
   "outputs": [],
   "source": [
    "train_ds = train_ds.cache().prefetch(buffer_size=tf.data.AUTOTUNE)\n",
    "val_ds = val_ds.cache().prefetch(buffer_size=tf.data.AUTOTUNE)\n",
    "test_ds = test_ds.cache().prefetch(buffer_size=tf.data.AUTOTUNE)"
   ]
  },
  {
   "cell_type": "markdown",
   "metadata": {
    "id": "Slc0bWWHQA_p"
   },
   "source": [
    "# Bulding a model\n"
   ]
  },
  {
   "cell_type": "code",
   "execution_count": null,
   "metadata": {
    "executionInfo": {
     "elapsed": 46,
     "status": "ok",
     "timestamp": 1750755348271,
     "user": {
      "displayName": "Shiwam Dutta",
      "userId": "11111948761228755611"
     },
     "user_tz": -330
    },
    "id": "WGtJ39t1QEne"
   },
   "outputs": [],
   "source": [
    "data_augmentation = tf.keras.Sequential(\n",
    "    [\n",
    "        layers.RandomFlip(\"horizontal\"),\n",
    "        layers.RandomFlip(\"vertical\"),\n",
    "        layers.RandomRotation(0.1),\n",
    "        layers.RandomZoom(0.1),\n",
    "    ]\n",
    ")"
   ]
  },
  {
   "cell_type": "markdown",
   "metadata": {
    "id": "p_G2mTz5CioW"
   },
   "source": [
    "## Manual CNN model\n"
   ]
  },
  {
   "cell_type": "code",
   "execution_count": null,
   "metadata": {
    "colab": {
     "base_uri": "https://localhost:8080/"
    },
    "executionInfo": {
     "elapsed": 488,
     "status": "ok",
     "timestamp": 1750756816318,
     "user": {
      "displayName": "Shiwam Dutta",
      "userId": "11111948761228755611"
     },
     "user_tz": -330
    },
    "id": "ImsJedSmI3CO",
    "outputId": "0a988717-af98-4e6b-bd45-3b80f5f7fd79"
   },
   "outputs": [],
   "source": [
    "input_shape = (BATCH_SIZE, *IMG_SIZE, 3)\n",
    "n_classes = 2\n",
    "\n",
    "model = models.Sequential(\n",
    "    [\n",
    "        layers.Resizing(*IMG_SIZE),\n",
    "        layers.Rescaling(1.0 / 255),\n",
    "        data_augmentation,\n",
    "        layers.Conv2D(\n",
    "            32, kernel_size=(3, 3), activation=\"relu\", input_shape=input_shape\n",
    "        ),\n",
    "        layers.MaxPooling2D((2, 2)),\n",
    "        layers.Conv2D(64, kernel_size=(3, 3), activation=\"relu\"),\n",
    "        layers.MaxPooling2D((2, 2)),\n",
    "        layers.Conv2D(64, kernel_size=(3, 3), activation=\"relu\"),\n",
    "        layers.MaxPooling2D((2, 2)),\n",
    "        layers.Conv2D(64, (3, 3), activation=\"relu\"),\n",
    "        layers.MaxPooling2D((2, 2)),\n",
    "        layers.Conv2D(64, (3, 3), activation=\"relu\"),\n",
    "        layers.MaxPooling2D((2, 2)),\n",
    "        layers.Conv2D(64, (3, 3), activation=\"relu\"),\n",
    "        layers.MaxPooling2D((2, 2)),\n",
    "        layers.Flatten(),\n",
    "        layers.Dense(64, activation=\"relu\"),\n",
    "        layers.Dense(1, activation=\"sigmoid\"),\n",
    "    ]\n",
    ")\n",
    "\n",
    "model.build(input_shape=input_shape)"
   ]
  },
  {
   "cell_type": "code",
   "execution_count": null,
   "metadata": {
    "colab": {
     "base_uri": "https://localhost:8080/",
     "height": 734
    },
    "executionInfo": {
     "elapsed": 23,
     "status": "ok",
     "timestamp": 1750756818472,
     "user": {
      "displayName": "Shiwam Dutta",
      "userId": "11111948761228755611"
     },
     "user_tz": -330
    },
    "id": "62AaEHVcL7Xs",
    "outputId": "0e18a5b3-27f5-4b70-c14d-87ca42d7fc1e"
   },
   "outputs": [],
   "source": [
    "model.summary()"
   ]
  },
  {
   "cell_type": "code",
   "execution_count": null,
   "metadata": {
    "colab": {
     "base_uri": "https://localhost:8080/"
    },
    "executionInfo": {
     "elapsed": 379926,
     "status": "ok",
     "timestamp": 1750757200049,
     "user": {
      "displayName": "Shiwam Dutta",
      "userId": "11111948761228755611"
     },
     "user_tz": -330
    },
    "id": "c-mL6EOxMB_M",
    "outputId": "989fd542-9e86-485f-b0c6-eb9de86d8c23"
   },
   "outputs": [],
   "source": [
    "# Compile\n",
    "model.compile(\n",
    "    optimizer=\"adam\",\n",
    "    loss=\"binary_crossentropy\",\n",
    "    metrics=[\"accuracy\", tf.keras.metrics.AUC()],\n",
    ")\n",
    "\n",
    "# Train\n",
    "history = model.fit(train_ds, validation_data=val_ds, batch_size=BATCH_SIZE, epochs=10)"
   ]
  },
  {
   "cell_type": "code",
   "execution_count": null,
   "metadata": {
    "colab": {
     "base_uri": "https://localhost:8080/"
    },
    "executionInfo": {
     "elapsed": 1278,
     "status": "ok",
     "timestamp": 1750757201307,
     "user": {
      "displayName": "Shiwam Dutta",
      "userId": "11111948761228755611"
     },
     "user_tz": -330
    },
    "id": "H9-9Cp2wNuDq",
    "outputId": "549cdd0d-59ee-4f7f-84a5-b237d39363af"
   },
   "outputs": [],
   "source": [
    "# Get True and Predicted results\n",
    "y_true = np.concatenate([y.numpy() for x, y in val_ds], axis=0)\n",
    "y_pred_probs = model.predict(val_ds)\n",
    "y_pred = np.argmax(y_pred_probs, axis=1)\n",
    "\n",
    "# Generate Classification report\n",
    "print(classification_report(y_true, y_pred, target_names=CLASS_NAMES, digits=4))"
   ]
  },
  {
   "cell_type": "markdown",
   "metadata": {
    "id": "bzsjYGenL0Kx"
   },
   "source": [
    "## Transfer Learning using ResNet50\n"
   ]
  },
  {
   "cell_type": "code",
   "execution_count": null,
   "metadata": {
    "colab": {
     "base_uri": "https://localhost:8080/"
    },
    "executionInfo": {
     "elapsed": 1733,
     "status": "ok",
     "timestamp": 1750755349961,
     "user": {
      "displayName": "Shiwam Dutta",
      "userId": "11111948761228755611"
     },
     "user_tz": -330
    },
    "id": "vkE2gb0p3yxP",
    "outputId": "800e38f5-a49c-4e2d-9535-a037cd571f17"
   },
   "outputs": [],
   "source": [
    "base_model = ResNet50(weights=\"imagenet\", include_top=False)\n",
    "base_model.trainable = False"
   ]
  },
  {
   "cell_type": "code",
   "execution_count": null,
   "metadata": {
    "executionInfo": {
     "elapsed": 70,
     "status": "ok",
     "timestamp": 1750755349961,
     "user": {
      "displayName": "Shiwam Dutta",
      "userId": "11111948761228755611"
     },
     "user_tz": -330
    },
    "id": "FJPSnJdVQ2NJ"
   },
   "outputs": [],
   "source": [
    "inputs = layers.Input(shape=(*IMG_SIZE, 3))\n",
    "x = data_augmentation(inputs)\n",
    "x = layers.Rescaling(1.0 / 255)(x)\n",
    "x = base_model(x, training=False)\n",
    "x = layers.GlobalAveragePooling2D()(x)\n",
    "x = layers.Dense(512, activation=\"relu\")(x)\n",
    "x = layers.Dropout(0.2)(x)\n",
    "outputs = layers.Dense(1, activation=\"sigmoid\")(x)\n",
    "model = models.Model(inputs, outputs)"
   ]
  },
  {
   "cell_type": "code",
   "execution_count": null,
   "metadata": {
    "colab": {
     "base_uri": "https://localhost:8080/",
     "height": 417
    },
    "collapsed": true,
    "executionInfo": {
     "elapsed": 70,
     "status": "ok",
     "timestamp": 1750755349962,
     "user": {
      "displayName": "Shiwam Dutta",
      "userId": "11111948761228755611"
     },
     "user_tz": -330
    },
    "id": "i3aewXI85JDH",
    "outputId": "cbd2c08c-e2b3-42b4-c155-2407561bce2e"
   },
   "outputs": [],
   "source": [
    "model.summary()"
   ]
  },
  {
   "cell_type": "code",
   "execution_count": null,
   "metadata": {
    "colab": {
     "base_uri": "https://localhost:8080/",
     "height": 1000
    },
    "collapsed": true,
    "executionInfo": {
     "elapsed": 66,
     "status": "ok",
     "timestamp": 1750755349962,
     "user": {
      "displayName": "Shiwam Dutta",
      "userId": "11111948761228755611"
     },
     "user_tz": -330
    },
    "id": "g6vTnE4K_7h4",
    "outputId": "84a44c45-d18f-4f91-eef8-96ee5a143816"
   },
   "outputs": [],
   "source": [
    "tf.keras.utils.plot_model(model, show_shapes=True)"
   ]
  },
  {
   "cell_type": "code",
   "execution_count": null,
   "metadata": {
    "colab": {
     "base_uri": "https://localhost:8080/"
    },
    "executionInfo": {
     "elapsed": 839088,
     "status": "ok",
     "timestamp": 1750756188987,
     "user": {
      "displayName": "Shiwam Dutta",
      "userId": "11111948761228755611"
     },
     "user_tz": -330
    },
    "id": "-9E4wbJcBQa-",
    "outputId": "1024999e-4b86-4e54-e889-4f41457d64d2"
   },
   "outputs": [],
   "source": [
    "# Compile\n",
    "model.compile(\n",
    "    optimizer=\"adam\",\n",
    "    loss=\"binary_crossentropy\",\n",
    "    metrics=[\"accuracy\", tf.keras.metrics.AUC()],\n",
    ")\n",
    "\n",
    "# Train\n",
    "history = model.fit(train_ds, validation_data=val_ds, epochs=10)"
   ]
  },
  {
   "cell_type": "code",
   "execution_count": null,
   "metadata": {
    "colab": {
     "base_uri": "https://localhost:8080/"
    },
    "executionInfo": {
     "elapsed": 20428,
     "status": "ok",
     "timestamp": 1750756209408,
     "user": {
      "displayName": "Shiwam Dutta",
      "userId": "11111948761228755611"
     },
     "user_tz": -330
    },
    "id": "x7eX0esJTcoZ",
    "outputId": "b23fed71-feab-439d-dce4-f5a9111ee6d2"
   },
   "outputs": [],
   "source": [
    "# Get True and Predicted results\n",
    "y_true = np.concatenate([y.numpy() for x, y in val_ds], axis=0)\n",
    "y_pred_probs = model.predict(val_ds)\n",
    "y_pred = np.argmax(y_pred_probs, axis=1)\n",
    "\n",
    "# Generate Classification report\n",
    "print(classification_report(y_true, y_pred, target_names=CLASS_NAMES, digits=4))"
   ]
  },
  {
   "cell_type": "markdown",
   "metadata": {
    "id": "Mq9CAZGvCoNi"
   },
   "source": [
    "## Dealing with Imbalanced datset\n",
    "\n",
    "Methods:-\n",
    "\n",
    "1. using custom weights\n",
    "2. undersampling larger dataset\n",
    "3. duplicate oversampling smaller dataset\n",
    "4. SMOTE oversampling smaller dataset (mod = imblearn)\n",
    "5. ensemble technique\n",
    "6. focal loss\n"
   ]
  },
  {
   "cell_type": "markdown",
   "metadata": {},
   "source": [
    "### M1. Undersampling\n"
   ]
  },
  {
   "cell_type": "code",
   "execution_count": null,
   "metadata": {},
   "outputs": [],
   "source": [
    "min_class_count = min(class_counts.values())\n",
    "\n",
    "under_ds = (\n",
    "    ds.unbatch()\n",
    "    .filter(lambda x, y: y == 0)\n",
    "    .take(min_class_count)\n",
    "    .concatenate(ds.unbatch().filter(lambda x, y: y == 1).take(min_class_count))\n",
    "    .batch(BATCH_SIZE)\n",
    ")"
   ]
  },
  {
   "cell_type": "code",
   "execution_count": null,
   "metadata": {},
   "outputs": [],
   "source": [
    "print(\"No. of batches:\", end=\" \")\n",
    "int(under_ds.reduce(0, lambda x, _: x + 1).numpy())"
   ]
  },
  {
   "cell_type": "code",
   "execution_count": null,
   "metadata": {},
   "outputs": [],
   "source": [
    "from collections import Counter\n",
    "\n",
    "counter = Counter()\n",
    "for _, labels in under_ds.unbatch():\n",
    "    counter[int(labels.numpy())] += 1\n",
    "\n",
    "print(\"Balanced class counts:\", counter)"
   ]
  },
  {
   "cell_type": "code",
   "execution_count": null,
   "metadata": {},
   "outputs": [],
   "source": [
    "train_under_ds, val_under_ds, test_under_ds = dataset_partitions(under_ds)\n",
    "\n",
    "train_under_ds = train_under_ds.cache().prefetch(buffer_size=tf.data.AUTOTUNE)\n",
    "val_under_ds = val_under_ds.cache().prefetch(buffer_size=tf.data.AUTOTUNE)\n",
    "test_under_ds = test_under_ds.cache().prefetch(buffer_size=tf.data.AUTOTUNE)"
   ]
  },
  {
   "cell_type": "code",
   "execution_count": null,
   "metadata": {},
   "outputs": [],
   "source": [
    "base_model = ResNet50(weights=\"imagenet\", include_top=False)\n",
    "base_model.trainable = False\n",
    "\n",
    "inputs = layers.Input(shape=(*IMG_SIZE, 3))\n",
    "x = data_augmentation(inputs)\n",
    "x = layers.Rescaling(1.0 / 255)(x)\n",
    "x = base_model(x, training=False)\n",
    "x = layers.GlobalAveragePooling2D()(x)\n",
    "x = layers.Dense(512, activation=\"relu\")(x)\n",
    "x = layers.Dropout(0.2)(x)\n",
    "outputs = layers.Dense(1, activation=\"sigmoid\")(x)\n",
    "model_under = models.Model(inputs, outputs)\n",
    "\n",
    "model_under.summary()"
   ]
  },
  {
   "cell_type": "code",
   "execution_count": null,
   "metadata": {},
   "outputs": [
    {
     "name": "stdout",
     "output_type": "stream",
     "text": [
      "Epoch 1/10\n",
      "\u001b[1m7/7\u001b[0m \u001b[32m━━━━━━━━━━━━━━━━━━━━\u001b[0m\u001b[37m\u001b[0m \u001b[1m257s\u001b[0m 32s/step - accuracy: 0.8303 - auc_2: 0.0551 - loss: 0.9696 - val_accuracy: 0.0000e+00 - val_auc_2: 0.0000e+00 - val_loss: 3.4568\n",
      "Epoch 2/10\n",
      "\u001b[1m7/7\u001b[0m \u001b[32m━━━━━━━━━━━━━━━━━━━━\u001b[0m\u001b[37m\u001b[0m \u001b[1m188s\u001b[0m 27s/step - accuracy: 0.8922 - auc_2: 0.4803 - loss: 0.2242 - val_accuracy: 1.0000 - val_auc_2: 0.0000e+00 - val_loss: 0.2799\n",
      "Epoch 3/10\n",
      "\u001b[1m7/7\u001b[0m \u001b[32m━━━━━━━━━━━━━━━━━━━━\u001b[0m\u001b[37m\u001b[0m \u001b[1m144s\u001b[0m 21s/step - accuracy: 0.1357 - auc_2: 0.0328 - loss: 1.3943 - val_accuracy: 1.0000 - val_auc_2: 0.0000e+00 - val_loss: 0.5957\n",
      "Epoch 4/10\n",
      "\u001b[1m5/7\u001b[0m \u001b[32m━━━━━━━━━━━━━━\u001b[0m\u001b[37m━━━━━━\u001b[0m \u001b[1m54s\u001b[0m 27s/step - accuracy: 0.5320 - auc_2: 0.0185 - loss: 0.7037     "
     ]
    }
   ],
   "source": [
    "# Compile\n",
    "model_under.compile(\n",
    "    optimizer=\"adam\",\n",
    "    loss=\"binary_crossentropy\",\n",
    "    metrics=[\"accuracy\", tf.keras.metrics.AUC()],\n",
    ")\n",
    "\n",
    "# Train\n",
    "history = model_under.fit(train_under_ds, validation_data=val_under_ds, epochs=10)"
   ]
  },
  {
   "cell_type": "code",
   "execution_count": null,
   "metadata": {},
   "outputs": [],
   "source": [
    "# Get True and Predicted results\n",
    "y_true = np.concatenate([y.numpy() for x, y in val_under_ds], axis=0)\n",
    "y_pred_probs = model.predict(val_under_ds)\n",
    "y_pred = np.argmax(y_pred_probs, axis=1)\n",
    "\n",
    "# Generate Classification report\n",
    "print(classification_report(y_true, y_pred, target_names=CLASS_NAMES, digits=4))"
   ]
  }
 ],
 "metadata": {
  "colab": {
   "authorship_tag": "ABX9TyO4OoMN++Nh9nIxqeDZntZA",
   "collapsed_sections": [
    "eK3uHf74hWLl",
    "p_G2mTz5CioW",
    "bzsjYGenL0Kx"
   ],
   "mount_file_id": "19khcDaf_Fh8A-_w8E3pfApFEgSMxrcmA",
   "provenance": []
  },
  "kernelspec": {
   "display_name": "venv",
   "language": "python",
   "name": "python3"
  },
  "language_info": {
   "codemirror_mode": {
    "name": "ipython",
    "version": 3
   },
   "file_extension": ".py",
   "mimetype": "text/x-python",
   "name": "python",
   "nbconvert_exporter": "python",
   "pygments_lexer": "ipython3",
   "version": "3.10.11"
  }
 },
 "nbformat": 4,
 "nbformat_minor": 0
}
