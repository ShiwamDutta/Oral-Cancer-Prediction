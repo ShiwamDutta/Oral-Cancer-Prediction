{
 "cells": [
  {
   "cell_type": "markdown",
   "metadata": {},
   "source": [
    "Testing traditional ML method - XGBoost\n"
   ]
  },
  {
   "cell_type": "markdown",
   "metadata": {
    "id": "f86Ax-pNXF9n"
   },
   "source": [
    "## Build Model\n"
   ]
  },
  {
   "cell_type": "code",
   "execution_count": null,
   "metadata": {
    "colab": {
     "base_uri": "https://localhost:8080/",
     "height": 757
    },
    "executionInfo": {
     "elapsed": 0,
     "status": "ok",
     "timestamp": 1751792169906,
     "user": {
      "displayName": "Shiwam Dutta",
      "userId": "11111948761228755611"
     },
     "user_tz": -330
    },
    "id": "PzwlW_WpfXj6",
    "outputId": "8ad15659-4b2d-4b6f-9881-d7b5eae42adb"
   },
   "outputs": [
    {
     "name": "stdout",
     "output_type": "stream",
     "text": [
      "\u001b[1m23/23\u001b[0m \u001b[32m━━━━━━━━━━━━━━━━━━━━\u001b[0m\u001b[37m\u001b[0m \u001b[1m13s\u001b[0m 357ms/step\n"
     ]
    },
    {
     "name": "stderr",
     "output_type": "stream",
     "text": [
      "/usr/local/lib/python3.11/dist-packages/xgboost/core.py:158: UserWarning: [08:55:48] WARNING: /workspace/src/learner.cc:740: \n",
      "Parameters: { \"use_label_encoder\" } are not used.\n",
      "\n",
      "  warnings.warn(smsg, UserWarning)\n"
     ]
    },
    {
     "name": "stdout",
     "output_type": "stream",
     "text": [
      "\n",
      "\n",
      "Acc: 0.910958904109589\n",
      "AUC: 0.9444575471698113\n",
      "{'cancer': 0, 'normal': 1}\n"
     ]
    },
    {
     "data": {
      "image/png": "[encoded data removed]",
      "text/plain": [
       "<Figure size 600x400 with 2 Axes>"
      ]
     },
     "metadata": {},
     "output_type": "display_data"
    },
    {
     "name": "stdout",
     "output_type": "stream",
     "text": [
      "Classification Report:\n",
      "              precision    recall  f1-score   support\n",
      "\n",
      "      cancer     0.9655    0.7000    0.8116        40\n",
      "      normal     0.8974    0.9906    0.9417       106\n",
      "\n",
      "    accuracy                         0.9110       146\n",
      "   macro avg     0.9315    0.8453    0.8766       146\n",
      "weighted avg     0.9161    0.9110    0.9061       146\n",
      "\n"
     ]
    }
   ],
   "source": [
    "import os\n",
    "import cv2\n",
    "import numpy as np\n",
    "from sklearn.model_selection import train_test_split\n",
    "import xgboost as xgb\n",
    "from tensorflow.keras.applications import EfficientNetB0\n",
    "from tensorflow.keras.applications.efficientnet import preprocess_input\n",
    "from tensorflow.keras.models import Model\n",
    "from sklearn.metrics import accuracy_score, roc_auc_score\n",
    "from sklearn.metrics import confusion_matrix, classification_report\n",
    "import matplotlib.pyplot as plt\n",
    "import seaborn as sns\n",
    "\n",
    "ROOT = \"Oral Cancer Prediction\"\n",
    "DATA_PATH = os.path.join(ROOT, \"assets\", \"dataset\")\n",
    "IMG_SIZE = (224, 224)\n",
    "BATCH_SIZE = 32\n",
    "\n",
    "classes = {\"cancer\": 0, \"normal\": 1}\n",
    "CLASS_NAMES = [\"cancer\", \"normal\"]\n",
    "\n",
    "\n",
    "# Load images and labels\n",
    "def load_images_and_labels(base_path, img_size=IMG_SIZE):\n",
    "    images, labels = [], []\n",
    "    for label_name in CLASS_NAMES:\n",
    "        class_dir = os.path.join(base_path, label_name)\n",
    "        label = classes[label_name]\n",
    "        for img_name in os.listdir(class_dir):\n",
    "            img_path = os.path.join(class_dir, img_name)\n",
    "            img = cv2.imread(img_path)\n",
    "            if img is None:\n",
    "                continue\n",
    "            img = cv2.resize(img, img_size)\n",
    "            images.append(img)\n",
    "            labels.append(label)\n",
    "    return np.array(images), np.array(labels)\n",
    "\n",
    "\n",
    "# Step 1: Load images\n",
    "X_images, y = load_images_and_labels(DATA_PATH)\n",
    "\n",
    "# Step 2: Extract features using EfficientNetB0\n",
    "base_model = EfficientNetB0(include_top=False, weights=\"imagenet\", pooling=\"avg\")\n",
    "X_images = preprocess_input(X_images.astype(\"float32\"))\n",
    "features = base_model.predict(X_images, batch_size=BATCH_SIZE)\n",
    "\n",
    "# Step 3: Train/test split\n",
    "X_train, X_test, y_train, y_test = train_test_split(\n",
    "    features, y, test_size=0.2, stratify=y, random_state=42\n",
    ")\n",
    "\n",
    "# Step 4: Train XGBoost classifier\n",
    "model_xgboost_1 = xgb.XGBClassifier(\n",
    "    n_estimators=100,\n",
    "    max_depth=5,\n",
    "    learning_rate=0.05,\n",
    "    use_label_encoder=False,\n",
    "    eval_metric=\"logloss\",\n",
    ")\n",
    "model_xgboost_1.fit(X_train, y_train)\n",
    "\n",
    "# Step 5: Evaluation\n",
    "y_pred = model_xgboost_1.predict(X_test)\n",
    "print(\"\\n\\nAcc:\", accuracy_score(y_test, y_pred))\n",
    "print(\"AUC:\", roc_auc_score(y_test, model_xgboost_1.predict_proba(X_test)[:, 1]))\n",
    "\n",
    "print(classes)\n",
    "# Confusion matrix\n",
    "cm = confusion_matrix(y_test, y_pred)\n",
    "plt.figure(figsize=(6, 4))\n",
    "sns.heatmap(cm, annot=True, fmt=\"d\", cmap=\"Blues\")\n",
    "plt.xlabel(\"Predicted\")\n",
    "plt.ylabel(\"Actual\")\n",
    "plt.title(\"Confusion Matrix - XGBoost\")\n",
    "plt.show()\n",
    "\n",
    "# Classification report\n",
    "print(\"Classification Report:\")\n",
    "print(classification_report(y_test, y_pred, target_names=CLASS_NAMES, digits=4))\n",
    "\n",
    "# Save model\n",
    "models_path = os.path.join(ROOT, \"models\")\n",
    "model_version = 1 + sum(md.startswith(\"XGboost\") for md in os.listdir(models_path))\n",
    "model_path = os.path.join(models_path, f\"XGboost_model_v{model_version}.json\")\n",
    "model_xgboost_1.save_model(model_path)\n",
    "print(f\"Saved: XGboost_model_v{model_version}.json\")"
   ]
  },
  {
   "cell_type": "code",
   "execution_count": null,
   "metadata": {
    "colab": {
     "base_uri": "https://localhost:8080/",
     "height": 757
    },
    "executionInfo": {
     "elapsed": 78825,
     "status": "ok",
     "timestamp": 1751792248638,
     "user": {
      "displayName": "Shiwam Dutta",
      "userId": "11111948761228755611"
     },
     "user_tz": -330
    },
    "id": "wzzqV6wVh3J1",
    "outputId": "1aab04d4-0d86-4698-eb68-218cb6ba8cdb"
   },
   "outputs": [
    {
     "name": "stdout",
     "output_type": "stream",
     "text": [
      "\u001b[1m76/76\u001b[0m \u001b[32m━━━━━━━━━━━━━━━━━━━━\u001b[0m\u001b[37m\u001b[0m \u001b[1m14s\u001b[0m 117ms/step\n"
     ]
    },
    {
     "name": "stderr",
     "output_type": "stream",
     "text": [
      "/usr/local/lib/python3.11/dist-packages/xgboost/core.py:158: UserWarning: [08:57:10] WARNING: /workspace/src/learner.cc:740: \n",
      "Parameters: { \"use_label_encoder\" } are not used.\n",
      "\n",
      "  warnings.warn(smsg, UserWarning)\n"
     ]
    },
    {
     "name": "stdout",
     "output_type": "stream",
     "text": [
      "\n",
      "\n",
      "Acc: 0.9565217391304348\n",
      "AUC: 0.901410835214447\n",
      "{'cancer': 0, 'normal': 1}\n"
     ]
    },
    {
     "data": {
      "image/png": "[encoded data removed]",
      "text/plain": [
       "<Figure size 600x400 with 2 Axes>"
      ]
     },
     "metadata": {},
     "output_type": "display_data"
    },
    {
     "name": "stdout",
     "output_type": "stream",
     "text": [
      "Classification Report:\n",
      "              precision    recall  f1-score   support\n",
      "\n",
      "      cancer     0.8519    0.5750    0.6866        40\n",
      "      normal     0.9627    0.9910    0.9766       443\n",
      "\n",
      "    accuracy                         0.9565       483\n",
      "   macro avg     0.9073    0.7830    0.8316       483\n",
      "weighted avg     0.9535    0.9565    0.9526       483\n",
      "\n"
     ]
    }
   ],
   "source": [
    "import os\n",
    "import cv2\n",
    "import numpy as np\n",
    "import xgboost as xgb\n",
    "from tensorflow.keras.applications import EfficientNetB0\n",
    "from tensorflow.keras.applications.efficientnet import preprocess_input\n",
    "from tensorflow.keras.models import Model\n",
    "from sklearn.model_selection import train_test_split\n",
    "from sklearn.metrics import accuracy_score, roc_auc_score\n",
    "from sklearn.metrics import confusion_matrix, classification_report\n",
    "import matplotlib.pyplot as plt\n",
    "import seaborn as sns\n",
    "\n",
    "ROOT = \"Oral Cancer Prediction\"\n",
    "DATA_PATH = os.path.join(ROOT, \"assets\", \"dataset_2\")\n",
    "IMG_SIZE = (224, 224)\n",
    "BATCH_SIZE = 32\n",
    "\n",
    "classes = {\"cancer\": 0, \"normal\": 1}\n",
    "CLASS_NAMES = [\"cancer\", \"normal\"]\n",
    "\n",
    "\n",
    "# Load images and labels\n",
    "def load_images_and_labels(base_path, img_size=IMG_SIZE):\n",
    "    images, labels = [], []\n",
    "    for label_name in classes.keys():\n",
    "        class_dir = os.path.join(base_path, label_name)\n",
    "        label = classes[label_name]  # 0 if label_name == 'normal' else 1\n",
    "        for img_name in os.listdir(class_dir):\n",
    "            img_path = os.path.join(class_dir, img_name)\n",
    "            img = cv2.imread(img_path)\n",
    "            if img is None:\n",
    "                continue\n",
    "            img = cv2.resize(img, img_size)\n",
    "            images.append(img)\n",
    "            labels.append(label)\n",
    "    return np.array(images), np.array(labels)\n",
    "\n",
    "\n",
    "# Step 1: Load images\n",
    "X_images, y = load_images_and_labels(DATA_PATH)\n",
    "\n",
    "# Step 2: Extract features using EfficientNetB0\n",
    "base_model = EfficientNetB0(include_top=False, weights=\"imagenet\", pooling=\"avg\")\n",
    "X_images = preprocess_input(X_images.astype(\"float32\"))\n",
    "features = base_model.predict(X_images, batch_size=BATCH_SIZE)\n",
    "\n",
    "# Step 3: Train/test split\n",
    "X_train, X_test, y_train, y_test = train_test_split(\n",
    "    features, y, test_size=0.2, stratify=y, random_state=42\n",
    ")\n",
    "\n",
    "# Step 4: Train XGBoost classifier\n",
    "model_xgboost_2 = xgb.XGBClassifier(\n",
    "    n_estimators=100,\n",
    "    max_depth=5,\n",
    "    learning_rate=0.05,\n",
    "    use_label_encoder=False,\n",
    "    eval_metric=\"logloss\",\n",
    ")\n",
    "model_xgboost_2.fit(X_train, y_train)\n",
    "\n",
    "# Step 5: Evaluation\n",
    "y_pred = model_xgboost_2.predict(X_test)\n",
    "print(\"\\n\\nAcc:\", accuracy_score(y_test, y_pred))\n",
    "print(\"AUC:\", roc_auc_score(y_test, model_xgboost_2.predict_proba(X_test)[:, 1]))\n",
    "\n",
    "print(classes)\n",
    "# Confusion matrix\n",
    "cm = confusion_matrix(y_test, y_pred)\n",
    "plt.figure(figsize=(6, 4))\n",
    "sns.heatmap(cm, annot=True, fmt=\"d\", cmap=\"Blues\")\n",
    "plt.xlabel(\"Predicted\")\n",
    "plt.ylabel(\"Actual\")\n",
    "plt.title(\"Confusion Matrix - XGBoost\")\n",
    "plt.show()\n",
    "\n",
    "# Classification report\n",
    "print(\"Classification Report:\")\n",
    "print(classification_report(y_test, y_pred, target_names=CLASS_NAMES, digits=4))\n",
    "\n",
    "# Save model\n",
    "models_path = os.path.join(ROOT, \"models\")\n",
    "model_version = 1 + sum(md.startswith(\"XGboost\") for md in os.listdir(models_path))\n",
    "model_path = os.path.join(models_path, f\"XGboost_model_v{model_version}.json\")\n",
    "model_xgboost_2.save_model(model_path)\n",
    "print(f\"Saved: XGboost_model_v{model_version}.json\")"
   ]
  },
  {
   "cell_type": "markdown",
   "metadata": {
    "id": "YFxBIkjyIQaq"
   },
   "source": [
    "## Check results\n"
   ]
  },
  {
   "cell_type": "code",
   "execution_count": null,
   "metadata": {
    "colab": {
     "base_uri": "https://localhost:8080/",
     "height": 705
    },
    "executionInfo": {
     "elapsed": 109543,
     "status": "ok",
     "timestamp": 1751796082920,
     "user": {
      "displayName": "Shiwam Dutta",
      "userId": "11111948761228755611"
     },
     "user_tz": -330
    },
    "id": "Jb2ZGfEJIV5u",
    "outputId": "9a20b19c-8573-45a7-b563-6bf9165a6d6d"
   },
   "outputs": [
    {
     "name": "stdout",
     "output_type": "stream",
     "text": [
      "\u001b[1m23/23\u001b[0m \u001b[32m━━━━━━━━━━━━━━━━━━━━\u001b[0m\u001b[37m\u001b[0m \u001b[1m62s\u001b[0m 3s/step\n",
      "XGboost model version: 1\n",
      "\n",
      "\n",
      "Acc: 0.8767123287671232\n",
      "AUC: 0.9216981132075472\n",
      "{'cancer': 1, 'normal': 0}\n"
     ]
    },
    {
     "data": {
      "image/png": "[encoded data removed]",
      "text/plain": [
       "<Figure size 600x400 with 2 Axes>"
      ]
     },
     "metadata": {},
     "output_type": "display_data"
    },
    {
     "name": "stdout",
     "output_type": "stream",
     "text": [
      "Classification Report:\n",
      "              precision    recall  f1-score   support\n",
      "\n",
      "           0     0.8860    0.9528    0.9182       106\n",
      "           1     0.8438    0.6750    0.7500        40\n",
      "\n",
      "    accuracy                         0.8767       146\n",
      "   macro avg     0.8649    0.8139    0.8341       146\n",
      "weighted avg     0.8744    0.8767    0.8721       146\n",
      "\n"
     ]
    }
   ],
   "source": [
    "import os\n",
    "import cv2\n",
    "import numpy as np\n",
    "import xgboost as xgb\n",
    "from tensorflow.keras.applications import EfficientNetB0\n",
    "from tensorflow.keras.applications.efficientnet import preprocess_input\n",
    "from tensorflow.keras.models import Model\n",
    "from sklearn.model_selection import train_test_split\n",
    "from sklearn.metrics import accuracy_score, roc_auc_score\n",
    "from sklearn.metrics import confusion_matrix, classification_report\n",
    "import matplotlib.pyplot as plt\n",
    "import seaborn as sns\n",
    "\n",
    "ROOT = \"Oral Cancer Prediction\"\n",
    "DATA_PATH = os.path.join(ROOT, \"assets\", \"dataset\")\n",
    "IMG_SIZE = (224, 224)\n",
    "BATCH_SIZE = 32\n",
    "\n",
    "model_name = \"XGboost\"\n",
    "model_version = 1\n",
    "model_path = os.path.join(ROOT, f\"models/{model_name}_model_v{model_version}.json\")\n",
    "# Load the model\n",
    "model_xgboost_1 = xgb.XGBClassifier()\n",
    "model_xgboost_1.load_model(model_path)\n",
    "\n",
    "# classes = {'cancer': 0, 'normal': 1}\n",
    "classes = {\"cancer\": 1, \"normal\": 0}\n",
    "CLASS_NAMES = [\"cancer\", \"normal\"].reverse()\n",
    "\n",
    "\n",
    "# Load images and labels\n",
    "def load_images_and_labels(base_path, img_size=IMG_SIZE):\n",
    "    images, labels = [], []\n",
    "    for label_name in classes.keys():\n",
    "        class_dir = os.path.join(base_path, label_name)\n",
    "        label = classes[label_name]  # 0 if label_name == 'normal' else 1\n",
    "        for img_name in os.listdir(class_dir):\n",
    "            img_path = os.path.join(class_dir, img_name)\n",
    "            img = cv2.imread(img_path)\n",
    "            if img is None:\n",
    "                continue\n",
    "            img = cv2.resize(img, img_size)\n",
    "            images.append(img)\n",
    "            labels.append(label)\n",
    "    return np.array(images), np.array(labels)\n",
    "\n",
    "\n",
    "# Step 1: Load images\n",
    "X_images, y = load_images_and_labels(DATA_PATH)\n",
    "\n",
    "# Step 2: Extract features using EfficientNetB0\n",
    "base_model = EfficientNetB0(include_top=False, weights=\"imagenet\", pooling=\"avg\")\n",
    "X_images = preprocess_input(X_images.astype(\"float32\"))\n",
    "features = base_model.predict(X_images, batch_size=BATCH_SIZE)\n",
    "\n",
    "# Step 3: Train/test split\n",
    "X_train, X_test, y_train, y_test = train_test_split(\n",
    "    features, y, test_size=0.2, stratify=y, random_state=42\n",
    ")\n",
    "\n",
    "print(f\"{model_name} model version: {model_version}\")\n",
    "# Step 5: Evaluation\n",
    "y_pred = model_xgboost_1.predict(X_test)\n",
    "print(\"\\n\\nAcc:\", accuracy_score(y_test, y_pred))\n",
    "print(\"AUC:\", roc_auc_score(y_test, model_xgboost_1.predict_proba(X_test)[:, 1]))\n",
    "\n",
    "print(classes)\n",
    "# Confusion matrix\n",
    "cm = confusion_matrix(y_test, y_pred)\n",
    "plt.figure(figsize=(6, 4))\n",
    "sns.heatmap(cm, annot=True, fmt=\"d\", cmap=\"Blues\")\n",
    "plt.xlabel(\"Predicted\")\n",
    "plt.ylabel(\"Actual\")\n",
    "plt.title(\"Confusion Matrix - XGBoost\")\n",
    "plt.show()\n",
    "\n",
    "# Classification report\n",
    "print(\"Classification Report:\")\n",
    "print(classification_report(y_test, y_pred, target_names=CLASS_NAMES, digits=4))"
   ]
  },
  {
   "cell_type": "code",
   "execution_count": null,
   "metadata": {
    "colab": {
     "base_uri": "https://localhost:8080/",
     "height": 761
    },
    "executionInfo": {
     "elapsed": 94372,
     "status": "ok",
     "timestamp": 1751899842236,
     "user": {
      "displayName": "Shiwam Dutta",
      "userId": "11111948761228755611"
     },
     "user_tz": -330
    },
    "id": "PTEotkdxGfq1",
    "outputId": "a72f4da7-3804-4138-e3cb-bc33553f987b"
   },
   "outputs": [
    {
     "name": "stdout",
     "output_type": "stream",
     "text": [
      "Downloading data from https://storage.googleapis.com/keras-applications/efficientnetb0_notop.h5\n",
      "\u001b[1m16705208/16705208\u001b[0m \u001b[32m━━━━━━━━━━━━━━━━━━━━\u001b[0m\u001b[37m\u001b[0m \u001b[1m0s\u001b[0m 0us/step\n",
      "\u001b[1m76/76\u001b[0m \u001b[32m━━━━━━━━━━━━━━━━━━━━\u001b[0m\u001b[37m\u001b[0m \u001b[1m15s\u001b[0m 125ms/step\n",
      "XGboost model version: 2\n",
      "\n",
      "\n",
      "Acc: 0.9565217391304348\n",
      "AUC: 0.9477144469525959\n",
      "{'cancer': 1, 'normal': 0}\n"
     ]
    },
    {
     "data": {
      "image/png": "[encoded data removed]",
      "text/plain": [
       "<Figure size 600x400 with 2 Axes>"
      ]
     },
     "metadata": {},
     "output_type": "display_data"
    },
    {
     "name": "stdout",
     "output_type": "stream",
     "text": [
      "Classification Report:\n",
      "              precision    recall  f1-score   support\n",
      "\n",
      "           0     0.9607    0.9932    0.9767       443\n",
      "           1     0.8800    0.5500    0.6769        40\n",
      "\n",
      "    accuracy                         0.9565       483\n",
      "   macro avg     0.9203    0.7716    0.8268       483\n",
      "weighted avg     0.9540    0.9565    0.9519       483\n",
      "\n"
     ]
    }
   ],
   "source": [
    "import os\n",
    "import cv2\n",
    "import numpy as np\n",
    "import xgboost as xgb\n",
    "from tensorflow.keras.applications import EfficientNetB0\n",
    "from tensorflow.keras.applications.efficientnet import preprocess_input\n",
    "from tensorflow.keras.models import Model\n",
    "from sklearn.model_selection import train_test_split\n",
    "from sklearn.metrics import accuracy_score, roc_auc_score\n",
    "from sklearn.metrics import confusion_matrix, classification_report\n",
    "import matplotlib.pyplot as plt\n",
    "import seaborn as sns\n",
    "\n",
    "ROOT = \"Oral Cancer Prediction\"\n",
    "DATA_PATH = os.path.join(ROOT, \"assets\", \"dataset\")\n",
    "IMG_SIZE = (224, 224)\n",
    "BATCH_SIZE = 32\n",
    "\n",
    "model_name = \"XGboost\"\n",
    "model_version = 2\n",
    "model_path = os.path.join(ROOT, f\"models/{model_name}_model_v{model_version}.json\")\n",
    "# Load the model\n",
    "model_xgboost_2 = xgb.XGBClassifier()\n",
    "model_xgboost_2.load_model(model_path)\n",
    "\n",
    "# classes = {'cancer': 0, 'normal': 1}\n",
    "classes = {\"cancer\": 1, \"normal\": 0}\n",
    "CLASS_NAMES = [\"cancer\", \"normal\"].reverse()\n",
    "\n",
    "\n",
    "# Load images and labels\n",
    "def load_images_and_labels(base_path, img_size=IMG_SIZE):\n",
    "    images, labels = [], []\n",
    "    for label_name in classes.keys():\n",
    "        class_dir = os.path.join(base_path, label_name)\n",
    "        label = classes[label_name]  # 0 if label_name == 'normal' else 1\n",
    "        for img_name in os.listdir(class_dir):\n",
    "            img_path = os.path.join(class_dir, img_name)\n",
    "            img = cv2.imread(img_path)\n",
    "            if img is None:\n",
    "                continue\n",
    "            img = cv2.resize(img, img_size)\n",
    "            images.append(img)\n",
    "            labels.append(label)\n",
    "    return np.array(images), np.array(labels)\n",
    "\n",
    "\n",
    "# Step 1: Load images\n",
    "X_images, y = load_images_and_labels(DATA_PATH)\n",
    "\n",
    "# Step 2: Extract features using EfficientNetB0\n",
    "base_model = EfficientNetB0(include_top=False, weights=\"imagenet\", pooling=\"avg\")\n",
    "X_images = preprocess_input(X_images.astype(\"float32\"))\n",
    "features = base_model.predict(X_images, batch_size=BATCH_SIZE)\n",
    "\n",
    "# Step 3: Train/test split\n",
    "X_train, X_test, y_train, y_test = train_test_split(\n",
    "    features, y, test_size=0.2, stratify=y, random_state=42\n",
    ")\n",
    "\n",
    "print(f\"{model_name} model version: {model_version}\")\n",
    "# Step 5: Evaluation\n",
    "y_pred = model_xgboost_2.predict(X_test)\n",
    "print(\"\\n\\nAcc:\", accuracy_score(y_test, y_pred))\n",
    "print(\"AUC:\", roc_auc_score(y_test, model_xgboost_2.predict_proba(X_test)[:, 1]))\n",
    "\n",
    "print(classes)\n",
    "# Confusion matrix\n",
    "cm = confusion_matrix(y_test, y_pred)\n",
    "plt.figure(figsize=(6, 4))\n",
    "sns.heatmap(cm, annot=True, fmt=\"d\", cmap=\"Blues\")\n",
    "plt.xlabel(\"Predicted\")\n",
    "plt.ylabel(\"Actual\")\n",
    "plt.title(\"Confusion Matrix - XGBoost\")\n",
    "plt.show()\n",
    "\n",
    "# Classification report\n",
    "print(\"Classification Report:\")\n",
    "print(classification_report(y_test, y_pred, target_names=CLASS_NAMES, digits=4))"
   ]
  }
 ],
 "metadata": {
  "accelerator": "GPU",
  "colab": {
   "authorship_tag": "ABX9TyMClUNrxCIZCDyjuzDnKN5O",
   "gpuType": "T4",
   "mount_file_id": "1u4tXgiU4cdWEy-PfMRJS6ZUC2qbaxwzl",
   "provenance": [],
   "toc_visible": true
  },
  "kernelspec": {
   "display_name": "Python 3",
   "name": "python3"
  },
  "language_info": {
   "name": "python"
  }
 },
 "nbformat": 4,
 "nbformat_minor": 0
}
