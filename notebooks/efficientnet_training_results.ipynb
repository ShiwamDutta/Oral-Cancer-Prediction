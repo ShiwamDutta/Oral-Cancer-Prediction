{
 "cells": [
  {
   "cell_type": "code",
   "execution_count": 1,
   "metadata": {
    "executionInfo": {
     "elapsed": 7409,
     "status": "ok",
     "timestamp": 1751903338319,
     "user": {
      "displayName": "Shiwam Dutta",
      "userId": "11111948761228755611"
     },
     "user_tz": -330
    },
    "id": "eiE9zQ3Vnyjb"
   },
   "outputs": [],
   "source": [
    "import os\n",
    "from math import ceil\n",
    "import numpy as np\n",
    "import tensorflow as tf\n",
    "from tensorflow.keras import models, layers\n",
    "from tensorflow.keras.applications import EfficientNetB0\n",
    "from tensorflow.keras.preprocessing import image_dataset_from_directory\n",
    "from tensorflow.keras.callbacks import EarlyStopping\n",
    "from sklearn.metrics import confusion_matrix, classification_report\n",
    "import matplotlib.pyplot as plt\n",
    "import seaborn as sns"
   ]
  },
  {
   "cell_type": "code",
   "execution_count": null,
   "metadata": {
    "executionInfo": {
     "elapsed": 15,
     "status": "ok",
     "timestamp": 1751903338322,
     "user": {
      "displayName": "Shiwam Dutta",
      "userId": "11111948761228755611"
     },
     "user_tz": -330
    },
    "id": "AEK8xsf7ohQi"
   },
   "outputs": [],
   "source": [
    "ROOT = \"Oral Cancer Prediction\"\n",
    "DATA_PATH = os.path.join(ROOT, \"assets\", \"dataset\")\n",
    "IMG_SIZE = (224, 224)\n",
    "BATCH_SIZE = 32"
   ]
  },
  {
   "cell_type": "code",
   "execution_count": null,
   "metadata": {
    "colab": {
     "base_uri": "https://localhost:8080/"
    },
    "executionInfo": {
     "elapsed": 2532,
     "status": "ok",
     "timestamp": 1751903340856,
     "user": {
      "displayName": "Shiwam Dutta",
      "userId": "11111948761228755611"
     },
     "user_tz": -330
    },
    "id": "kII2T4I-osV3",
    "outputId": "7782ee41-310d-4078-cc1d-de7e3334e486"
   },
   "outputs": [
    {
     "name": "stdout",
     "output_type": "stream",
     "text": [
      "Found 730 files belonging to 2 classes.\n"
     ]
    }
   ],
   "source": [
    "ds = image_dataset_from_directory(\n",
    "    DATA_PATH, image_size=IMG_SIZE, batch_size=BATCH_SIZE, shuffle=True, seed=123\n",
    ")"
   ]
  },
  {
   "cell_type": "code",
   "execution_count": null,
   "metadata": {
    "colab": {
     "base_uri": "https://localhost:8080/"
    },
    "executionInfo": {
     "elapsed": 44,
     "status": "ok",
     "timestamp": 1751903340912,
     "user": {
      "displayName": "Shiwam Dutta",
      "userId": "11111948761228755611"
     },
     "user_tz": -330
    },
    "id": "BimKqvEKouqx",
    "outputId": "1653f71c-47ab-453e-9650-c9efa04fab4f"
   },
   "outputs": [
    {
     "name": "stdout",
     "output_type": "stream",
     "text": [
      "['cancer', 'normal']\n",
      "{0: 199, 1: 531}\n"
     ]
    }
   ],
   "source": [
    "CLASS_NAMES = ds.class_names\n",
    "print(CLASS_NAMES)\n",
    "\n",
    "class_counts = {\n",
    "    0: os.listdir(os.path.join(DATA_PATH, CLASS_NAMES[0])).__len__(),\n",
    "    1: os.listdir(os.path.join(DATA_PATH, CLASS_NAMES[1])).__len__(),\n",
    "}\n",
    "print(class_counts)"
   ]
  },
  {
   "cell_type": "markdown",
   "metadata": {
    "id": "5lFJp1mZo79p"
   },
   "source": [
    "# Bulding the model\n"
   ]
  },
  {
   "cell_type": "code",
   "execution_count": null,
   "metadata": {
    "executionInfo": {
     "elapsed": 5,
     "status": "ok",
     "timestamp": 1751903340921,
     "user": {
      "displayName": "Shiwam Dutta",
      "userId": "11111948761228755611"
     },
     "user_tz": -330
    },
    "id": "zhDRnWlBo56g"
   },
   "outputs": [],
   "source": [
    "def report(model_name, report_on=\"val\"):\n",
    "    ds_map = {\"train\": train_ds, \"val\": val_ds, \"test\": test_ds}\n",
    "    selected_ds = ds_map[report_on]\n",
    "\n",
    "    # Evaluate model on training, validation, and testing datasets\n",
    "    train_eval = model_name.evaluate(train_ds)\n",
    "    val_eval = model_name.evaluate(val_ds)\n",
    "    test_eval = model_name.evaluate(test_ds)\n",
    "\n",
    "    print(\n",
    "        f\"[train] acc: {train_eval[1]:.4f} - auc: {train_eval[2]:.4f} - loss: {train_eval[0]:.4f}\"\n",
    "    )\n",
    "    print(\n",
    "        f\"[val]   acc: {val_eval[1]:.4f} - auc: {val_eval[2]:.4f} - loss: {val_eval[0]:.4f}\"\n",
    "    )\n",
    "    print(\n",
    "        f\"[test]  acc: {test_eval[1]:.4f} - auc: {test_eval[2]:.4f} - loss: {test_eval[0]:.4f}\\n\"\n",
    "    )\n",
    "\n",
    "    # Get True and Predicted results\n",
    "    y_true = np.concatenate([y.numpy() for x, y in selected_ds], axis=0)\n",
    "    y_pred_probs = model_name.predict(selected_ds)\n",
    "    y_pred = (y_pred_probs > 0.5).astype(\"int32\").flatten()\n",
    "\n",
    "    print(\"cancer: 0, normal: 1\")\n",
    "    # Confusion matrix\n",
    "    cm = confusion_matrix(y_true, y_pred)\n",
    "    plt.figure(figsize=(6, 4))\n",
    "    sns.heatmap(cm, annot=True, fmt=\"d\", cmap=\"Blues\")\n",
    "    plt.xlabel(\"Predicted\")\n",
    "    plt.ylabel(\"Actual\")\n",
    "    name_map = {\"train\": \"Training\", \"val\": \"Validation\", \"test\": \"Testing\"}\n",
    "    plt.title(f\"Confusion Matrix on {name_map[report_on]} dataset\")\n",
    "    plt.show()\n",
    "\n",
    "    # Generate Classification report\n",
    "    print(f\"Classifiation Report on {name_map[report_on]} dataset\")\n",
    "    print(classification_report(y_true, y_pred, target_names=CLASS_NAMES, digits=4))"
   ]
  },
  {
   "cell_type": "code",
   "execution_count": null,
   "metadata": {
    "executionInfo": {
     "elapsed": 6,
     "status": "ok",
     "timestamp": 1751903340934,
     "user": {
      "displayName": "Shiwam Dutta",
      "userId": "11111948761228755611"
     },
     "user_tz": -330
    },
    "id": "OeAKqT4oox6b"
   },
   "outputs": [],
   "source": [
    "def train(\n",
    "    model,\n",
    "    train_ds,\n",
    "    val_ds,\n",
    "    opti=\"adam\",\n",
    "    log_monitor=\"val_auc\",\n",
    "    md=\"max\",\n",
    "    patience=5,\n",
    "    batch_size=BATCH_SIZE,\n",
    "    epochs=100,\n",
    "):\n",
    "    tf.keras.backend.clear_session()\n",
    "    # Compile\n",
    "    model.compile(\n",
    "        optimizer=opti,\n",
    "        loss=\"binary_crossentropy\",\n",
    "        metrics=[\"accuracy\", tf.keras.metrics.AUC()],\n",
    "    )\n",
    "\n",
    "    early_stop = tf.keras.callbacks.EarlyStopping(\n",
    "        monitor=log_monitor, patience=patience, mode=md, restore_best_weights=True\n",
    "    )\n",
    "\n",
    "    # Train\n",
    "    history = model.fit(\n",
    "        train_ds,\n",
    "        validation_data=val_ds,\n",
    "        batch_size=batch_size,\n",
    "        epochs=epochs,\n",
    "        callbacks=[early_stop],\n",
    "    )"
   ]
  },
  {
   "cell_type": "markdown",
   "metadata": {
    "id": "5g8Hb_OgpAlQ"
   },
   "source": [
    "## Spliting dataset\n"
   ]
  },
  {
   "cell_type": "code",
   "execution_count": null,
   "metadata": {
    "executionInfo": {
     "elapsed": 39,
     "status": "ok",
     "timestamp": 1751903340979,
     "user": {
      "displayName": "Shiwam Dutta",
      "userId": "11111948761228755611"
     },
     "user_tz": -330
    },
    "id": "7O7h6cUEpD_m"
   },
   "outputs": [],
   "source": [
    "def dataset_partitions(\n",
    "    ds, train_split=0.8, val_split=0.1, shuffle=True, shuffle_size=1000\n",
    "):\n",
    "    if shuffle:\n",
    "        ds.shuffle(shuffle_size)\n",
    "\n",
    "    ds_size = len(ds)\n",
    "    train_size = int(ds_size * train_split)\n",
    "    val_size = ceil(ds_size * val_split)\n",
    "\n",
    "    train_ds = ds.take(train_size)\n",
    "    val_ds = ds.skip(train_size).take(val_size)\n",
    "    test_ds = ds.skip(train_size).skip(val_size)\n",
    "\n",
    "    print(f\"Number of batches  : {ds_size}\")\n",
    "    print(f\"Training batches   : {train_size}\")\n",
    "    print(f\"Validating batches : {val_size}\")\n",
    "    print(f\"Testing batches    : {ds_size - train_size - val_size}\")\n",
    "\n",
    "    return train_ds, val_ds, test_ds"
   ]
  },
  {
   "cell_type": "code",
   "execution_count": 8,
   "metadata": {
    "colab": {
     "base_uri": "https://localhost:8080/"
    },
    "executionInfo": {
     "elapsed": 15,
     "status": "ok",
     "timestamp": 1751903341000,
     "user": {
      "displayName": "Shiwam Dutta",
      "userId": "11111948761228755611"
     },
     "user_tz": -330
    },
    "id": "_fjDSsSjUV8j",
    "outputId": "5047b100-7a64-4053-ce11-4a57a7a4ea05"
   },
   "outputs": [
    {
     "name": "stdout",
     "output_type": "stream",
     "text": [
      "Number of batches  : 23\n",
      "Training batches   : 18\n",
      "Validating batches : 3\n",
      "Testing batches    : 2\n"
     ]
    }
   ],
   "source": [
    "train_ds, val_ds, test_ds = dataset_partitions(ds)"
   ]
  },
  {
   "cell_type": "code",
   "execution_count": 9,
   "metadata": {
    "executionInfo": {
     "elapsed": 8,
     "status": "ok",
     "timestamp": 1751903341021,
     "user": {
      "displayName": "Shiwam Dutta",
      "userId": "11111948761228755611"
     },
     "user_tz": -330
    },
    "id": "MLgJ9yOgpO34"
   },
   "outputs": [],
   "source": [
    "train_ds = train_ds.cache().prefetch(buffer_size=tf.data.AUTOTUNE)\n",
    "val_ds = val_ds.cache().prefetch(buffer_size=tf.data.AUTOTUNE)\n",
    "test_ds = test_ds.cache().prefetch(buffer_size=tf.data.AUTOTUNE)"
   ]
  },
  {
   "cell_type": "markdown",
   "metadata": {
    "id": "blDDxPBIpXKK"
   },
   "source": [
    "## Model design\n"
   ]
  },
  {
   "cell_type": "code",
   "execution_count": null,
   "metadata": {
    "executionInfo": {
     "elapsed": 33,
     "status": "ok",
     "timestamp": 1751897271294,
     "user": {
      "displayName": "Shiwam Dutta",
      "userId": "11111948761228755611"
     },
     "user_tz": -330
    },
    "id": "WS11PG-YpSad"
   },
   "outputs": [],
   "source": [
    "data_augmentation = tf.keras.Sequential(\n",
    "    [\n",
    "        layers.RandomFlip(\"horizontal\"),\n",
    "        layers.RandomRotation(0.2),\n",
    "        layers.RandomZoom(0.1),\n",
    "    ]\n",
    ")"
   ]
  },
  {
   "cell_type": "code",
   "execution_count": null,
   "metadata": {
    "colab": {
     "base_uri": "https://localhost:8080/",
     "height": 324
    },
    "executionInfo": {
     "elapsed": 2273,
     "status": "ok",
     "timestamp": 1751732241055,
     "user": {
      "displayName": "Shiwam Dutta",
      "userId": "11111948761228755611"
     },
     "user_tz": -330
    },
    "id": "UVeopi1lpZbI",
    "outputId": "fcae7329-adbd-4cde-f28c-2f7b3d9c86cb"
   },
   "outputs": [
    {
     "name": "stdout",
     "output_type": "stream",
     "text": [
      "Downloading data from https://storage.googleapis.com/keras-applications/efficientnetb0_notop.h5\n",
      "\u001b[1m16705208/16705208\u001b[0m \u001b[32m━━━━━━━━━━━━━━━━━━━━\u001b[0m\u001b[37m\u001b[0m \u001b[1m0s\u001b[0m 0us/step\n"
     ]
    },
    {
     "data": {
      "text/html": [
       "<pre style=\"white-space:pre;overflow-x:auto;line-height:normal;font-family:Menlo,'DejaVu Sans Mono',consolas,'Courier New',monospace\"><span style=\"font-weight: bold\">Model: \"functional_1\"</span>\n",
       "</pre>\n"
      ],
      "text/plain": [
       "\u001b[1mModel: \"functional_1\"\u001b[0m\n"
      ]
     },
     "metadata": {},
     "output_type": "display_data"
    },
    {
     "data": {
      "text/html": [
       "<pre style=\"white-space:pre;overflow-x:auto;line-height:normal;font-family:Menlo,'DejaVu Sans Mono',consolas,'Courier New',monospace\">┏━━━━━━━━━━━━━━━━━━━━━━━━━━━━━━━━━┳━━━━━━━━━━━━━━━━━━━━━━━━┳━━━━━━━━━━━━━━━┓\n",
       "┃<span style=\"font-weight: bold\"> Layer (type)                    </span>┃<span style=\"font-weight: bold\"> Output Shape           </span>┃<span style=\"font-weight: bold\">       Param # </span>┃\n",
       "┡━━━━━━━━━━━━━━━━━━━━━━━━━━━━━━━━━╇━━━━━━━━━━━━━━━━━━━━━━━━╇━━━━━━━━━━━━━━━┩\n",
       "│ input_layer_1 (<span style=\"color: #0087ff; text-decoration-color: #0087ff\">InputLayer</span>)      │ (<span style=\"color: #00d7ff; text-decoration-color: #00d7ff\">None</span>, <span style=\"color: #00af00; text-decoration-color: #00af00\">224</span>, <span style=\"color: #00af00; text-decoration-color: #00af00\">224</span>, <span style=\"color: #00af00; text-decoration-color: #00af00\">3</span>)    │             <span style=\"color: #00af00; text-decoration-color: #00af00\">0</span> │\n",
       "├─────────────────────────────────┼────────────────────────┼───────────────┤\n",
       "│ efficientnetb0 (<span style=\"color: #0087ff; text-decoration-color: #0087ff\">Functional</span>)     │ (<span style=\"color: #00d7ff; text-decoration-color: #00d7ff\">None</span>, <span style=\"color: #00af00; text-decoration-color: #00af00\">7</span>, <span style=\"color: #00af00; text-decoration-color: #00af00\">7</span>, <span style=\"color: #00af00; text-decoration-color: #00af00\">1280</span>)     │     <span style=\"color: #00af00; text-decoration-color: #00af00\">4,049,571</span> │\n",
       "├─────────────────────────────────┼────────────────────────┼───────────────┤\n",
       "│ global_average_pooling2d        │ (<span style=\"color: #00d7ff; text-decoration-color: #00d7ff\">None</span>, <span style=\"color: #00af00; text-decoration-color: #00af00\">1280</span>)           │             <span style=\"color: #00af00; text-decoration-color: #00af00\">0</span> │\n",
       "│ (<span style=\"color: #0087ff; text-decoration-color: #0087ff\">GlobalAveragePooling2D</span>)        │                        │               │\n",
       "├─────────────────────────────────┼────────────────────────┼───────────────┤\n",
       "│ dense (<span style=\"color: #0087ff; text-decoration-color: #0087ff\">Dense</span>)                   │ (<span style=\"color: #00d7ff; text-decoration-color: #00d7ff\">None</span>, <span style=\"color: #00af00; text-decoration-color: #00af00\">1</span>)              │         <span style=\"color: #00af00; text-decoration-color: #00af00\">1,281</span> │\n",
       "└─────────────────────────────────┴────────────────────────┴───────────────┘\n",
       "</pre>\n"
      ],
      "text/plain": [
       "┏━━━━━━━━━━━━━━━━━━━━━━━━━━━━━━━━━┳━━━━━━━━━━━━━━━━━━━━━━━━┳━━━━━━━━━━━━━━━┓\n",
       "┃\u001b[1m \u001b[0m\u001b[1mLayer (type)                   \u001b[0m\u001b[1m \u001b[0m┃\u001b[1m \u001b[0m\u001b[1mOutput Shape          \u001b[0m\u001b[1m \u001b[0m┃\u001b[1m \u001b[0m\u001b[1m      Param #\u001b[0m\u001b[1m \u001b[0m┃\n",
       "┡━━━━━━━━━━━━━━━━━━━━━━━━━━━━━━━━━╇━━━━━━━━━━━━━━━━━━━━━━━━╇━━━━━━━━━━━━━━━┩\n",
       "│ input_layer_1 (\u001b[38;5;33mInputLayer\u001b[0m)      │ (\u001b[38;5;45mNone\u001b[0m, \u001b[38;5;34m224\u001b[0m, \u001b[38;5;34m224\u001b[0m, \u001b[38;5;34m3\u001b[0m)    │             \u001b[38;5;34m0\u001b[0m │\n",
       "├─────────────────────────────────┼────────────────────────┼───────────────┤\n",
       "│ efficientnetb0 (\u001b[38;5;33mFunctional\u001b[0m)     │ (\u001b[38;5;45mNone\u001b[0m, \u001b[38;5;34m7\u001b[0m, \u001b[38;5;34m7\u001b[0m, \u001b[38;5;34m1280\u001b[0m)     │     \u001b[38;5;34m4,049,571\u001b[0m │\n",
       "├─────────────────────────────────┼────────────────────────┼───────────────┤\n",
       "│ global_average_pooling2d        │ (\u001b[38;5;45mNone\u001b[0m, \u001b[38;5;34m1280\u001b[0m)           │             \u001b[38;5;34m0\u001b[0m │\n",
       "│ (\u001b[38;5;33mGlobalAveragePooling2D\u001b[0m)        │                        │               │\n",
       "├─────────────────────────────────┼────────────────────────┼───────────────┤\n",
       "│ dense (\u001b[38;5;33mDense\u001b[0m)                   │ (\u001b[38;5;45mNone\u001b[0m, \u001b[38;5;34m1\u001b[0m)              │         \u001b[38;5;34m1,281\u001b[0m │\n",
       "└─────────────────────────────────┴────────────────────────┴───────────────┘\n"
      ]
     },
     "metadata": {},
     "output_type": "display_data"
    },
    {
     "data": {
      "text/html": [
       "<pre style=\"white-space:pre;overflow-x:auto;line-height:normal;font-family:Menlo,'DejaVu Sans Mono',consolas,'Courier New',monospace\"><span style=\"font-weight: bold\"> Total params: </span><span style=\"color: #00af00; text-decoration-color: #00af00\">4,050,852</span> (15.45 MB)\n",
       "</pre>\n"
      ],
      "text/plain": [
       "\u001b[1m Total params: \u001b[0m\u001b[38;5;34m4,050,852\u001b[0m (15.45 MB)\n"
      ]
     },
     "metadata": {},
     "output_type": "display_data"
    },
    {
     "data": {
      "text/html": [
       "<pre style=\"white-space:pre;overflow-x:auto;line-height:normal;font-family:Menlo,'DejaVu Sans Mono',consolas,'Courier New',monospace\"><span style=\"font-weight: bold\"> Trainable params: </span><span style=\"color: #00af00; text-decoration-color: #00af00\">1,281</span> (5.00 KB)\n",
       "</pre>\n"
      ],
      "text/plain": [
       "\u001b[1m Trainable params: \u001b[0m\u001b[38;5;34m1,281\u001b[0m (5.00 KB)\n"
      ]
     },
     "metadata": {},
     "output_type": "display_data"
    },
    {
     "data": {
      "text/html": [
       "<pre style=\"white-space:pre;overflow-x:auto;line-height:normal;font-family:Menlo,'DejaVu Sans Mono',consolas,'Courier New',monospace\"><span style=\"font-weight: bold\"> Non-trainable params: </span><span style=\"color: #00af00; text-decoration-color: #00af00\">4,049,571</span> (15.45 MB)\n",
       "</pre>\n"
      ],
      "text/plain": [
       "\u001b[1m Non-trainable params: \u001b[0m\u001b[38;5;34m4,049,571\u001b[0m (15.45 MB)\n"
      ]
     },
     "metadata": {},
     "output_type": "display_data"
    }
   ],
   "source": [
    "effnetB0_base_model = EfficientNetB0(weights=\"imagenet\", include_top=False)\n",
    "effnetB0_base_model.trainable = False\n",
    "\n",
    "inputs = tf.keras.Input(shape=(*IMG_SIZE, 3))\n",
    "x = data_augmentation(inputs)\n",
    "x = layers.Rescaling(1.0 / 255)(x)\n",
    "x = effnetB0_base_model(inputs, training=False)\n",
    "x = layers.GlobalAveragePooling2D()(x)\n",
    "outputs = layers.Dense(1, activation=\"sigmoid\")(x)\n",
    "model_effnetB0 = tf.keras.Model(inputs, outputs)\n",
    "\n",
    "model_effnetB0.summary()"
   ]
  },
  {
   "cell_type": "code",
   "execution_count": null,
   "metadata": {
    "colab": {
     "base_uri": "https://localhost:8080/"
    },
    "executionInfo": {
     "elapsed": 90606,
     "status": "ok",
     "timestamp": 1751727096219,
     "user": {
      "displayName": "Shiwam Dutta",
      "userId": "11111948761228755611"
     },
     "user_tz": -330
    },
    "id": "2C5Nyno5peK6",
    "outputId": "618dc5af-bced-4e52-a742-4a88e9319dad"
   },
   "outputs": [
    {
     "name": "stdout",
     "output_type": "stream",
     "text": [
      "Epoch 1/100\n",
      "\u001b[1m18/18\u001b[0m \u001b[32m━━━━━━━━━━━━━━━━━━━━\u001b[0m\u001b[37m\u001b[0m \u001b[1m30s\u001b[0m 491ms/step - accuracy: 0.9452 - auc: 0.9833 - loss: 0.1797 - val_accuracy: 0.9479 - val_auc: 0.9666 - val_loss: 0.1920\n",
      "Epoch 2/100\n",
      "\u001b[1m18/18\u001b[0m \u001b[32m━━━━━━━━━━━━━━━━━━━━\u001b[0m\u001b[37m\u001b[0m \u001b[1m1s\u001b[0m 42ms/step - accuracy: 0.9537 - auc: 0.9913 - loss: 0.1593 - val_accuracy: 0.9479 - val_auc: 0.9658 - val_loss: 0.1905\n",
      "Epoch 3/100\n",
      "\u001b[1m18/18\u001b[0m \u001b[32m━━━━━━━━━━━━━━━━━━━━\u001b[0m\u001b[37m\u001b[0m \u001b[1m1s\u001b[0m 45ms/step - accuracy: 0.9392 - auc: 0.9840 - loss: 0.1793 - val_accuracy: 0.9375 - val_auc: 0.9678 - val_loss: 0.1881\n",
      "Epoch 4/100\n",
      "\u001b[1m18/18\u001b[0m \u001b[32m━━━━━━━━━━━━━━━━━━━━\u001b[0m\u001b[37m\u001b[0m \u001b[1m1s\u001b[0m 47ms/step - accuracy: 0.9426 - auc: 0.9847 - loss: 0.1771 - val_accuracy: 0.9375 - val_auc: 0.9687 - val_loss: 0.1854\n",
      "Epoch 5/100\n",
      "\u001b[1m18/18\u001b[0m \u001b[32m━━━━━━━━━━━━━━━━━━━━\u001b[0m\u001b[37m\u001b[0m \u001b[1m1s\u001b[0m 45ms/step - accuracy: 0.9538 - auc: 0.9885 - loss: 0.1659 - val_accuracy: 0.9479 - val_auc: 0.9690 - val_loss: 0.1839\n",
      "Epoch 6/100\n",
      "\u001b[1m18/18\u001b[0m \u001b[32m━━━━━━━━━━━━━━━━━━━━\u001b[0m\u001b[37m\u001b[0m \u001b[1m1s\u001b[0m 45ms/step - accuracy: 0.9501 - auc: 0.9871 - loss: 0.1657 - val_accuracy: 0.9375 - val_auc: 0.9699 - val_loss: 0.1815\n",
      "Epoch 7/100\n",
      "\u001b[1m18/18\u001b[0m \u001b[32m━━━━━━━━━━━━━━━━━━━━\u001b[0m\u001b[37m\u001b[0m \u001b[1m1s\u001b[0m 41ms/step - accuracy: 0.9558 - auc: 0.9910 - loss: 0.1531 - val_accuracy: 0.9375 - val_auc: 0.9699 - val_loss: 0.1807\n",
      "Epoch 8/100\n",
      "\u001b[1m18/18\u001b[0m \u001b[32m━━━━━━━━━━━━━━━━━━━━\u001b[0m\u001b[37m\u001b[0m \u001b[1m1s\u001b[0m 45ms/step - accuracy: 0.9381 - auc: 0.9848 - loss: 0.1679 - val_accuracy: 0.9479 - val_auc: 0.9711 - val_loss: 0.1790\n",
      "Epoch 9/100\n",
      "\u001b[1m18/18\u001b[0m \u001b[32m━━━━━━━━━━━━━━━━━━━━\u001b[0m\u001b[37m\u001b[0m \u001b[1m1s\u001b[0m 45ms/step - accuracy: 0.9498 - auc: 0.9910 - loss: 0.1511 - val_accuracy: 0.9375 - val_auc: 0.9723 - val_loss: 0.1755\n",
      "Epoch 10/100\n",
      "\u001b[1m18/18\u001b[0m \u001b[32m━━━━━━━━━━━━━━━━━━━━\u001b[0m\u001b[37m\u001b[0m \u001b[1m1s\u001b[0m 45ms/step - accuracy: 0.9689 - auc: 0.9946 - loss: 0.1388 - val_accuracy: 0.9375 - val_auc: 0.9735 - val_loss: 0.1739\n",
      "Epoch 11/100\n",
      "\u001b[1m18/18\u001b[0m \u001b[32m━━━━━━━━━━━━━━━━━━━━\u001b[0m\u001b[37m\u001b[0m \u001b[1m1s\u001b[0m 38ms/step - accuracy: 0.9653 - auc: 0.9914 - loss: 0.1453 - val_accuracy: 0.9375 - val_auc: 0.9735 - val_loss: 0.1744\n",
      "Epoch 12/100\n",
      "\u001b[1m18/18\u001b[0m \u001b[32m━━━━━━━━━━━━━━━━━━━━\u001b[0m\u001b[37m\u001b[0m \u001b[1m1s\u001b[0m 41ms/step - accuracy: 0.9529 - auc: 0.9915 - loss: 0.1480 - val_accuracy: 0.9375 - val_auc: 0.9732 - val_loss: 0.1749\n",
      "Epoch 13/100\n",
      "\u001b[1m18/18\u001b[0m \u001b[32m━━━━━━━━━━━━━━━━━━━━\u001b[0m\u001b[37m\u001b[0m \u001b[1m1s\u001b[0m 43ms/step - accuracy: 0.9661 - auc: 0.9942 - loss: 0.1344 - val_accuracy: 0.9375 - val_auc: 0.9729 - val_loss: 0.1756\n",
      "Epoch 14/100\n",
      "\u001b[1m18/18\u001b[0m \u001b[32m━━━━━━━━━━━━━━━━━━━━\u001b[0m\u001b[37m\u001b[0m \u001b[1m1s\u001b[0m 44ms/step - accuracy: 0.9564 - auc: 0.9921 - loss: 0.1387 - val_accuracy: 0.9375 - val_auc: 0.9732 - val_loss: 0.1741\n",
      "Epoch 15/100\n",
      "\u001b[1m18/18\u001b[0m \u001b[32m━━━━━━━━━━━━━━━━━━━━\u001b[0m\u001b[37m\u001b[0m \u001b[1m1s\u001b[0m 48ms/step - accuracy: 0.9583 - auc: 0.9926 - loss: 0.1382 - val_accuracy: 0.9479 - val_auc: 0.9738 - val_loss: 0.1711\n",
      "Epoch 16/100\n",
      "\u001b[1m18/18\u001b[0m \u001b[32m━━━━━━━━━━━━━━━━━━━━\u001b[0m\u001b[37m\u001b[0m \u001b[1m1s\u001b[0m 46ms/step - accuracy: 0.9568 - auc: 0.9938 - loss: 0.1342 - val_accuracy: 0.9375 - val_auc: 0.9741 - val_loss: 0.1693\n",
      "Epoch 17/100\n",
      "\u001b[1m18/18\u001b[0m \u001b[32m━━━━━━━━━━━━━━━━━━━━\u001b[0m\u001b[37m\u001b[0m \u001b[1m1s\u001b[0m 48ms/step - accuracy: 0.9707 - auc: 0.9952 - loss: 0.1236 - val_accuracy: 0.9375 - val_auc: 0.9756 - val_loss: 0.1691\n",
      "Epoch 18/100\n",
      "\u001b[1m18/18\u001b[0m \u001b[32m━━━━━━━━━━━━━━━━━━━━\u001b[0m\u001b[37m\u001b[0m \u001b[1m1s\u001b[0m 48ms/step - accuracy: 0.9646 - auc: 0.9922 - loss: 0.1404 - val_accuracy: 0.9479 - val_auc: 0.9765 - val_loss: 0.1698\n",
      "Epoch 19/100\n",
      "\u001b[1m18/18\u001b[0m \u001b[32m━━━━━━━━━━━━━━━━━━━━\u001b[0m\u001b[37m\u001b[0m \u001b[1m1s\u001b[0m 39ms/step - accuracy: 0.9626 - auc: 0.9944 - loss: 0.1282 - val_accuracy: 0.9375 - val_auc: 0.9756 - val_loss: 0.1688\n",
      "Epoch 20/100\n",
      "\u001b[1m18/18\u001b[0m \u001b[32m━━━━━━━━━━━━━━━━━━━━\u001b[0m\u001b[37m\u001b[0m \u001b[1m1s\u001b[0m 39ms/step - accuracy: 0.9528 - auc: 0.9943 - loss: 0.1252 - val_accuracy: 0.9375 - val_auc: 0.9759 - val_loss: 0.1685\n",
      "Epoch 21/100\n",
      "\u001b[1m18/18\u001b[0m \u001b[32m━━━━━━━━━━━━━━━━━━━━\u001b[0m\u001b[37m\u001b[0m \u001b[1m1s\u001b[0m 45ms/step - accuracy: 0.9445 - auc: 0.9945 - loss: 0.1267 - val_accuracy: 0.9375 - val_auc: 0.9774 - val_loss: 0.1674\n",
      "Epoch 22/100\n",
      "\u001b[1m18/18\u001b[0m \u001b[32m━━━━━━━━━━━━━━━━━━━━\u001b[0m\u001b[37m\u001b[0m \u001b[1m1s\u001b[0m 45ms/step - accuracy: 0.9682 - auc: 0.9947 - loss: 0.1185 - val_accuracy: 0.9375 - val_auc: 0.9789 - val_loss: 0.1659\n",
      "Epoch 23/100\n",
      "\u001b[1m18/18\u001b[0m \u001b[32m━━━━━━━━━━━━━━━━━━━━\u001b[0m\u001b[37m\u001b[0m \u001b[1m1s\u001b[0m 46ms/step - accuracy: 0.9737 - auc: 0.9963 - loss: 0.1135 - val_accuracy: 0.9375 - val_auc: 0.9789 - val_loss: 0.1632\n",
      "Epoch 24/100\n",
      "\u001b[1m18/18\u001b[0m \u001b[32m━━━━━━━━━━━━━━━━━━━━\u001b[0m\u001b[37m\u001b[0m \u001b[1m1s\u001b[0m 48ms/step - accuracy: 0.9663 - auc: 0.9940 - loss: 0.1208 - val_accuracy: 0.9375 - val_auc: 0.9795 - val_loss: 0.1606\n",
      "Epoch 25/100\n",
      "\u001b[1m18/18\u001b[0m \u001b[32m━━━━━━━━━━━━━━━━━━━━\u001b[0m\u001b[37m\u001b[0m \u001b[1m1s\u001b[0m 49ms/step - accuracy: 0.9704 - auc: 0.9967 - loss: 0.1078 - val_accuracy: 0.9479 - val_auc: 0.9797 - val_loss: 0.1630\n",
      "Epoch 26/100\n",
      "\u001b[1m18/18\u001b[0m \u001b[32m━━━━━━━━━━━━━━━━━━━━\u001b[0m\u001b[37m\u001b[0m \u001b[1m1s\u001b[0m 42ms/step - accuracy: 0.9499 - auc: 0.9914 - loss: 0.1309 - val_accuracy: 0.9375 - val_auc: 0.9795 - val_loss: 0.1604\n",
      "Epoch 27/100\n",
      "\u001b[1m18/18\u001b[0m \u001b[32m━━━━━━━━━━━━━━━━━━━━\u001b[0m\u001b[37m\u001b[0m \u001b[1m1s\u001b[0m 43ms/step - accuracy: 0.9663 - auc: 0.9968 - loss: 0.1104 - val_accuracy: 0.9375 - val_auc: 0.9795 - val_loss: 0.1599\n",
      "Epoch 28/100\n",
      "\u001b[1m18/18\u001b[0m \u001b[32m━━━━━━━━━━━━━━━━━━━━\u001b[0m\u001b[37m\u001b[0m \u001b[1m1s\u001b[0m 52ms/step - accuracy: 0.9695 - auc: 0.9956 - loss: 0.1173 - val_accuracy: 0.9375 - val_auc: 0.9800 - val_loss: 0.1586\n",
      "Epoch 29/100\n",
      "\u001b[1m18/18\u001b[0m \u001b[32m━━━━━━━━━━━━━━━━━━━━\u001b[0m\u001b[37m\u001b[0m \u001b[1m1s\u001b[0m 48ms/step - accuracy: 0.9684 - auc: 0.9952 - loss: 0.1136 - val_accuracy: 0.9375 - val_auc: 0.9809 - val_loss: 0.1592\n",
      "Epoch 30/100\n",
      "\u001b[1m18/18\u001b[0m \u001b[32m━━━━━━━━━━━━━━━━━━━━\u001b[0m\u001b[37m\u001b[0m \u001b[1m1s\u001b[0m 45ms/step - accuracy: 0.9640 - auc: 0.9944 - loss: 0.1173 - val_accuracy: 0.9375 - val_auc: 0.9815 - val_loss: 0.1559\n",
      "Epoch 31/100\n",
      "\u001b[1m18/18\u001b[0m \u001b[32m━━━━━━━━━━━━━━━━━━━━\u001b[0m\u001b[37m\u001b[0m \u001b[1m1s\u001b[0m 38ms/step - accuracy: 0.9788 - auc: 0.9966 - loss: 0.1024 - val_accuracy: 0.9375 - val_auc: 0.9809 - val_loss: 0.1548\n",
      "Epoch 32/100\n",
      "\u001b[1m18/18\u001b[0m \u001b[32m━━━━━━━━━━━━━━━━━━━━\u001b[0m\u001b[37m\u001b[0m \u001b[1m1s\u001b[0m 42ms/step - accuracy: 0.9769 - auc: 0.9977 - loss: 0.1047 - val_accuracy: 0.9375 - val_auc: 0.9812 - val_loss: 0.1526\n",
      "Epoch 33/100\n",
      "\u001b[1m18/18\u001b[0m \u001b[32m━━━━━━━━━━━━━━━━━━━━\u001b[0m\u001b[37m\u001b[0m \u001b[1m1s\u001b[0m 48ms/step - accuracy: 0.9629 - auc: 0.9957 - loss: 0.1120 - val_accuracy: 0.9375 - val_auc: 0.9821 - val_loss: 0.1519\n",
      "Epoch 34/100\n",
      "\u001b[1m18/18\u001b[0m \u001b[32m━━━━━━━━━━━━━━━━━━━━\u001b[0m\u001b[37m\u001b[0m \u001b[1m1s\u001b[0m 45ms/step - accuracy: 0.9697 - auc: 0.9958 - loss: 0.1058 - val_accuracy: 0.9375 - val_auc: 0.9824 - val_loss: 0.1514\n",
      "Epoch 35/100\n",
      "\u001b[1m18/18\u001b[0m \u001b[32m━━━━━━━━━━━━━━━━━━━━\u001b[0m\u001b[37m\u001b[0m \u001b[1m1s\u001b[0m 48ms/step - accuracy: 0.9840 - auc: 0.9982 - loss: 0.0972 - val_accuracy: 0.9375 - val_auc: 0.9830 - val_loss: 0.1506\n",
      "Epoch 36/100\n",
      "\u001b[1m18/18\u001b[0m \u001b[32m━━━━━━━━━━━━━━━━━━━━\u001b[0m\u001b[37m\u001b[0m \u001b[1m1s\u001b[0m 45ms/step - accuracy: 0.9692 - auc: 0.9973 - loss: 0.1022 - val_accuracy: 0.9479 - val_auc: 0.9836 - val_loss: 0.1504\n",
      "Epoch 37/100\n",
      "\u001b[1m18/18\u001b[0m \u001b[32m━━━━━━━━━━━━━━━━━━━━\u001b[0m\u001b[37m\u001b[0m \u001b[1m1s\u001b[0m 39ms/step - accuracy: 0.9711 - auc: 0.9954 - loss: 0.1069 - val_accuracy: 0.9375 - val_auc: 0.9827 - val_loss: 0.1480\n",
      "Epoch 38/100\n",
      "\u001b[1m18/18\u001b[0m \u001b[32m━━━━━━━━━━━━━━━━━━━━\u001b[0m\u001b[37m\u001b[0m \u001b[1m1s\u001b[0m 41ms/step - accuracy: 0.9792 - auc: 0.9979 - loss: 0.0968 - val_accuracy: 0.9375 - val_auc: 0.9827 - val_loss: 0.1468\n",
      "Epoch 39/100\n",
      "\u001b[1m18/18\u001b[0m \u001b[32m━━━━━━━━━━━━━━━━━━━━\u001b[0m\u001b[37m\u001b[0m \u001b[1m1s\u001b[0m 45ms/step - accuracy: 0.9628 - auc: 0.9970 - loss: 0.0995 - val_accuracy: 0.9375 - val_auc: 0.9839 - val_loss: 0.1465\n",
      "Epoch 40/100\n",
      "\u001b[1m18/18\u001b[0m \u001b[32m━━━━━━━━━━━━━━━━━━━━\u001b[0m\u001b[37m\u001b[0m \u001b[1m1s\u001b[0m 52ms/step - accuracy: 0.9875 - auc: 0.9990 - loss: 0.0865 - val_accuracy: 0.9375 - val_auc: 0.9842 - val_loss: 0.1463\n",
      "Epoch 41/100\n",
      "\u001b[1m18/18\u001b[0m \u001b[32m━━━━━━━━━━━━━━━━━━━━\u001b[0m\u001b[37m\u001b[0m \u001b[1m1s\u001b[0m 43ms/step - accuracy: 0.9778 - auc: 0.9977 - loss: 0.0914 - val_accuracy: 0.9375 - val_auc: 0.9839 - val_loss: 0.1453\n",
      "Epoch 42/100\n",
      "\u001b[1m18/18\u001b[0m \u001b[32m━━━━━━━━━━━━━━━━━━━━\u001b[0m\u001b[37m\u001b[0m \u001b[1m1s\u001b[0m 41ms/step - accuracy: 0.9831 - auc: 0.9985 - loss: 0.0841 - val_accuracy: 0.9375 - val_auc: 0.9839 - val_loss: 0.1465\n",
      "Epoch 43/100\n",
      "\u001b[1m18/18\u001b[0m \u001b[32m━━━━━━━━━━━━━━━━━━━━\u001b[0m\u001b[37m\u001b[0m \u001b[1m1s\u001b[0m 45ms/step - accuracy: 0.9674 - auc: 0.9948 - loss: 0.1040 - val_accuracy: 0.9375 - val_auc: 0.9848 - val_loss: 0.1448\n",
      "Epoch 44/100\n",
      "\u001b[1m18/18\u001b[0m \u001b[32m━━━━━━━━━━━━━━━━━━━━\u001b[0m\u001b[37m\u001b[0m \u001b[1m1s\u001b[0m 41ms/step - accuracy: 0.9759 - auc: 0.9973 - loss: 0.0989 - val_accuracy: 0.9479 - val_auc: 0.9842 - val_loss: 0.1445\n",
      "Epoch 45/100\n",
      "\u001b[1m18/18\u001b[0m \u001b[32m━━━━━━━━━━━━━━━━━━━━\u001b[0m\u001b[37m\u001b[0m \u001b[1m1s\u001b[0m 38ms/step - accuracy: 0.9764 - auc: 0.9977 - loss: 0.0909 - val_accuracy: 0.9479 - val_auc: 0.9845 - val_loss: 0.1436\n",
      "Epoch 46/100\n",
      "\u001b[1m18/18\u001b[0m \u001b[32m━━━━━━━━━━━━━━━━━━━━\u001b[0m\u001b[37m\u001b[0m \u001b[1m1s\u001b[0m 41ms/step - accuracy: 0.9764 - auc: 0.9985 - loss: 0.0854 - val_accuracy: 0.9375 - val_auc: 0.9845 - val_loss: 0.1417\n",
      "Epoch 47/100\n",
      "\u001b[1m18/18\u001b[0m \u001b[32m━━━━━━━━━━━━━━━━━━━━\u001b[0m\u001b[37m\u001b[0m \u001b[1m1s\u001b[0m 38ms/step - accuracy: 0.9754 - auc: 0.9981 - loss: 0.0865 - val_accuracy: 0.9583 - val_auc: 0.9845 - val_loss: 0.1418\n",
      "Epoch 48/100\n",
      "\u001b[1m18/18\u001b[0m \u001b[32m━━━━━━━━━━━━━━━━━━━━\u001b[0m\u001b[37m\u001b[0m \u001b[1m1s\u001b[0m 45ms/step - accuracy: 0.9791 - auc: 0.9991 - loss: 0.0862 - val_accuracy: 0.9583 - val_auc: 0.9851 - val_loss: 0.1395\n",
      "Epoch 49/100\n",
      "\u001b[1m18/18\u001b[0m \u001b[32m━━━━━━━━━━━━━━━━━━━━\u001b[0m\u001b[37m\u001b[0m \u001b[1m1s\u001b[0m 47ms/step - accuracy: 0.9725 - auc: 0.9978 - loss: 0.0888 - val_accuracy: 0.9375 - val_auc: 0.9854 - val_loss: 0.1370\n",
      "Epoch 50/100\n",
      "\u001b[1m18/18\u001b[0m \u001b[32m━━━━━━━━━━━━━━━━━━━━\u001b[0m\u001b[37m\u001b[0m \u001b[1m1s\u001b[0m 47ms/step - accuracy: 0.9760 - auc: 0.9988 - loss: 0.0847 - val_accuracy: 0.9583 - val_auc: 0.9854 - val_loss: 0.1366\n",
      "Epoch 51/100\n",
      "\u001b[1m18/18\u001b[0m \u001b[32m━━━━━━━━━━━━━━━━━━━━\u001b[0m\u001b[37m\u001b[0m \u001b[1m1s\u001b[0m 41ms/step - accuracy: 0.9732 - auc: 0.9982 - loss: 0.0900 - val_accuracy: 0.9583 - val_auc: 0.9842 - val_loss: 0.1342\n",
      "Epoch 52/100\n",
      "\u001b[1m18/18\u001b[0m \u001b[32m━━━━━━━━━━━━━━━━━━━━\u001b[0m\u001b[37m\u001b[0m \u001b[1m1s\u001b[0m 39ms/step - accuracy: 0.9779 - auc: 0.9971 - loss: 0.0891 - val_accuracy: 0.9583 - val_auc: 0.9839 - val_loss: 0.1355\n",
      "Epoch 53/100\n",
      "\u001b[1m18/18\u001b[0m \u001b[32m━━━━━━━━━━━━━━━━━━━━\u001b[0m\u001b[37m\u001b[0m \u001b[1m1s\u001b[0m 43ms/step - accuracy: 0.9759 - auc: 0.9973 - loss: 0.0919 - val_accuracy: 0.9583 - val_auc: 0.9845 - val_loss: 0.1375\n",
      "Epoch 54/100\n",
      "\u001b[1m18/18\u001b[0m \u001b[32m━━━━━━━━━━━━━━━━━━━━\u001b[0m\u001b[37m\u001b[0m \u001b[1m1s\u001b[0m 47ms/step - accuracy: 0.9706 - auc: 0.9973 - loss: 0.0865 - val_accuracy: 0.9583 - val_auc: 0.9857 - val_loss: 0.1366\n",
      "Epoch 55/100\n",
      "\u001b[1m18/18\u001b[0m \u001b[32m━━━━━━━━━━━━━━━━━━━━\u001b[0m\u001b[37m\u001b[0m \u001b[1m1s\u001b[0m 38ms/step - accuracy: 0.9784 - auc: 0.9984 - loss: 0.0823 - val_accuracy: 0.9479 - val_auc: 0.9851 - val_loss: 0.1371\n",
      "Epoch 56/100\n",
      "\u001b[1m18/18\u001b[0m \u001b[32m━━━━━━━━━━━━━━━━━━━━\u001b[0m\u001b[37m\u001b[0m \u001b[1m1s\u001b[0m 38ms/step - accuracy: 0.9773 - auc: 0.9981 - loss: 0.0812 - val_accuracy: 0.9479 - val_auc: 0.9842 - val_loss: 0.1366\n",
      "Epoch 57/100\n",
      "\u001b[1m18/18\u001b[0m \u001b[32m━━━━━━━━━━━━━━━━━━━━\u001b[0m\u001b[37m\u001b[0m \u001b[1m1s\u001b[0m 38ms/step - accuracy: 0.9813 - auc: 0.9986 - loss: 0.0766 - val_accuracy: 0.9479 - val_auc: 0.9842 - val_loss: 0.1376\n",
      "Epoch 58/100\n",
      "\u001b[1m18/18\u001b[0m \u001b[32m━━━━━━━━━━━━━━━━━━━━\u001b[0m\u001b[37m\u001b[0m \u001b[1m1s\u001b[0m 41ms/step - accuracy: 0.9754 - auc: 0.9981 - loss: 0.0855 - val_accuracy: 0.9479 - val_auc: 0.9842 - val_loss: 0.1374\n",
      "Epoch 59/100\n",
      "\u001b[1m18/18\u001b[0m \u001b[32m━━━━━━━━━━━━━━━━━━━━\u001b[0m\u001b[37m\u001b[0m \u001b[1m1s\u001b[0m 41ms/step - accuracy: 0.9858 - auc: 0.9980 - loss: 0.0823 - val_accuracy: 0.9583 - val_auc: 0.9842 - val_loss: 0.1367\n",
      "Epoch 60/100\n",
      "\u001b[1m18/18\u001b[0m \u001b[32m━━━━━━━━━━━━━━━━━━━━\u001b[0m\u001b[37m\u001b[0m \u001b[1m1s\u001b[0m 38ms/step - accuracy: 0.9847 - auc: 0.9992 - loss: 0.0726 - val_accuracy: 0.9479 - val_auc: 0.9842 - val_loss: 0.1354\n",
      "Epoch 61/100\n",
      "\u001b[1m18/18\u001b[0m \u001b[32m━━━━━━━━━━━━━━━━━━━━\u001b[0m\u001b[37m\u001b[0m \u001b[1m1s\u001b[0m 38ms/step - accuracy: 0.9842 - auc: 0.9972 - loss: 0.0752 - val_accuracy: 0.9479 - val_auc: 0.9839 - val_loss: 0.1355\n",
      "Epoch 62/100\n",
      "\u001b[1m18/18\u001b[0m \u001b[32m━━━━━━━━━━━━━━━━━━━━\u001b[0m\u001b[37m\u001b[0m \u001b[1m1s\u001b[0m 38ms/step - accuracy: 0.9935 - auc: 0.9987 - loss: 0.0774 - val_accuracy: 0.9479 - val_auc: 0.9842 - val_loss: 0.1362\n",
      "Epoch 63/100\n",
      "\u001b[1m18/18\u001b[0m \u001b[32m━━━━━━━━━━━━━━━━━━━━\u001b[0m\u001b[37m\u001b[0m \u001b[1m1s\u001b[0m 41ms/step - accuracy: 0.9882 - auc: 0.9991 - loss: 0.0741 - val_accuracy: 0.9479 - val_auc: 0.9848 - val_loss: 0.1362\n",
      "Epoch 64/100\n",
      "\u001b[1m18/18\u001b[0m \u001b[32m━━━━━━━━━━━━━━━━━━━━\u001b[0m\u001b[37m\u001b[0m \u001b[1m1s\u001b[0m 41ms/step - accuracy: 0.9901 - auc: 0.9995 - loss: 0.0685 - val_accuracy: 0.9479 - val_auc: 0.9848 - val_loss: 0.1369\n"
     ]
    }
   ],
   "source": [
    "train(model_effnetB0, train_ds, val_ds, patience=10)"
   ]
  },
  {
   "cell_type": "code",
   "execution_count": null,
   "metadata": {
    "colab": {
     "base_uri": "https://localhost:8080/"
    },
    "executionInfo": {
     "elapsed": 28702,
     "status": "ok",
     "timestamp": 1751727153535,
     "user": {
      "displayName": "Shiwam Dutta",
      "userId": "11111948761228755611"
     },
     "user_tz": -330
    },
    "id": "8wsFASeOpgPW",
    "outputId": "dbb8869e-92ed-4a04-bc17-9a63330e1a19"
   },
   "outputs": [
    {
     "name": "stdout",
     "output_type": "stream",
     "text": [
      "\u001b[1m18/18\u001b[0m \u001b[32m━━━━━━━━━━━━━━━━━━━━\u001b[0m\u001b[37m\u001b[0m \u001b[1m1s\u001b[0m 35ms/step - accuracy: 0.9903 - auc: 0.9997 - loss: 0.0640\n",
      "\u001b[1m3/3\u001b[0m \u001b[32m━━━━━━━━━━━━━━━━━━━━\u001b[0m\u001b[37m\u001b[0m \u001b[1m0s\u001b[0m 37ms/step - accuracy: 0.9674 - auc: 0.9910 - loss: 0.1239\n",
      "\u001b[1m2/2\u001b[0m \u001b[32m━━━━━━━━━━━━━━━━━━━━\u001b[0m\u001b[37m\u001b[0m \u001b[1m20s\u001b[0m 6s/step - accuracy: 0.9666 - auc: 0.9801 - loss: 0.1383\n",
      "[train] acc: 0.9861 - auc: 0.9994 - loss: 0.0650\n",
      "[val]   acc: 0.9583 - auc: 0.9857 - loss: 0.1366\n",
      "[test]  acc: 0.9655 - auc: 0.9886 - loss: 0.1282\n",
      "\n",
      "\u001b[1m3/3\u001b[0m \u001b[32m━━━━━━━━━━━━━━━━━━━━\u001b[0m\u001b[37m\u001b[0m \u001b[1m8s\u001b[0m 43ms/step\n",
      "              precision    recall  f1-score   support\n",
      "\n",
      "      cancer     0.2396    1.0000    0.3866        23\n",
      "      normal     0.0000    0.0000    0.0000        73\n",
      "\n",
      "    accuracy                         0.2396        96\n",
      "   macro avg     0.1198    0.5000    0.1933        96\n",
      "weighted avg     0.0574    0.2396    0.0926        96\n",
      "\n"
     ]
    },
    {
     "name": "stderr",
     "output_type": "stream",
     "text": [
      "/usr/local/lib/python3.11/dist-packages/sklearn/metrics/_classification.py:1565: UndefinedMetricWarning: Precision is ill-defined and being set to 0.0 in labels with no predicted samples. Use `zero_division` parameter to control this behavior.\n",
      "  _warn_prf(average, modifier, f\"{metric.capitalize()} is\", len(result))\n",
      "/usr/local/lib/python3.11/dist-packages/sklearn/metrics/_classification.py:1565: UndefinedMetricWarning: Precision is ill-defined and being set to 0.0 in labels with no predicted samples. Use `zero_division` parameter to control this behavior.\n",
      "  _warn_prf(average, modifier, f\"{metric.capitalize()} is\", len(result))\n",
      "/usr/local/lib/python3.11/dist-packages/sklearn/metrics/_classification.py:1565: UndefinedMetricWarning: Precision is ill-defined and being set to 0.0 in labels with no predicted samples. Use `zero_division` parameter to control this behavior.\n",
      "  _warn_prf(average, modifier, f\"{metric.capitalize()} is\", len(result))\n"
     ]
    }
   ],
   "source": [
    "# Evaluate model on training, validation, and testing datasets\n",
    "train_eval = model_name.evaluate(train_ds)\n",
    "val_eval = model_name.evaluate(val_ds)\n",
    "test_eval = model_name.evaluate(test_ds)\n",
    "\n",
    "print(\n",
    "    f\"[train] acc: {train_eval[1]:.4f} - auc: {train_eval[2]:.4f} - loss: {train_eval[0]:.4f}\"\n",
    ")\n",
    "print(\n",
    "    f\"[val]   acc: {val_eval[1]:.4f} - auc: {val_eval[2]:.4f} - loss: {val_eval[0]:.4f}\"\n",
    ")\n",
    "print(\n",
    "    f\"[test]  acc: {test_eval[1]:.4f} - auc: {test_eval[2]:.4f} - loss: {test_eval[0]:.4f}\\n\"\n",
    ")\n",
    "\n",
    "# Get True and Predicted results\n",
    "y_true = np.concatenate([y.numpy() for x, y in val_ds], axis=0)\n",
    "y_pred_probs = model_name.predict(val_ds)\n",
    "y_pred = np.argmax(y_pred_probs, axis=1)\n",
    "\n",
    "# Generate Classification report\n",
    "print(classification_report(y_true, y_pred, target_names=CLASS_NAMES, digits=4))"
   ]
  },
  {
   "cell_type": "code",
   "execution_count": null,
   "metadata": {
    "colab": {
     "base_uri": "https://localhost:8080/"
    },
    "executionInfo": {
     "elapsed": 291197,
     "status": "ok",
     "timestamp": 1751732540765,
     "user": {
      "displayName": "Shiwam Dutta",
      "userId": "11111948761228755611"
     },
     "user_tz": -330
    },
    "id": "2Be1tM0kEr4i",
    "outputId": "7cb7e361-7ad4-43c7-b856-9ef890af640b"
   },
   "outputs": [
    {
     "name": "stdout",
     "output_type": "stream",
     "text": [
      "Epoch 1/100\n",
      "\u001b[1m60/60\u001b[0m \u001b[32m━━━━━━━━━━━━━━━━━━━━\u001b[0m\u001b[37m\u001b[0m \u001b[1m91s\u001b[0m 1s/step - accuracy: 0.8960 - auc: 0.6018 - loss: 0.3384 - val_accuracy: 0.9062 - val_auc: 0.7267 - val_loss: 0.2788\n",
      "Epoch 2/100\n",
      "\u001b[1m60/60\u001b[0m \u001b[32m━━━━━━━━━━━━━━━━━━━━\u001b[0m\u001b[37m\u001b[0m \u001b[1m2s\u001b[0m 40ms/step - accuracy: 0.9324 - auc: 0.8015 - loss: 0.2160 - val_accuracy: 0.9062 - val_auc: 0.8162 - val_loss: 0.2459\n",
      "Epoch 3/100\n",
      "\u001b[1m60/60\u001b[0m \u001b[32m━━━━━━━━━━━━━━━━━━━━\u001b[0m\u001b[37m\u001b[0m \u001b[1m2s\u001b[0m 37ms/step - accuracy: 0.9341 - auc: 0.8489 - loss: 0.1948 - val_accuracy: 0.9180 - val_auc: 0.8490 - val_loss: 0.2291\n",
      "Epoch 4/100\n",
      "\u001b[1m60/60\u001b[0m \u001b[32m━━━━━━━━━━━━━━━━━━━━\u001b[0m\u001b[37m\u001b[0m \u001b[1m2s\u001b[0m 35ms/step - accuracy: 0.9409 - auc: 0.8773 - loss: 0.1785 - val_accuracy: 0.9219 - val_auc: 0.8749 - val_loss: 0.2176\n",
      "Epoch 5/100\n",
      "\u001b[1m60/60\u001b[0m \u001b[32m━━━━━━━━━━━━━━━━━━━━\u001b[0m\u001b[37m\u001b[0m \u001b[1m3s\u001b[0m 36ms/step - accuracy: 0.9388 - auc: 0.8916 - loss: 0.1742 - val_accuracy: 0.9297 - val_auc: 0.8918 - val_loss: 0.2059\n",
      "Epoch 6/100\n",
      "\u001b[1m60/60\u001b[0m \u001b[32m━━━━━━━━━━━━━━━━━━━━\u001b[0m\u001b[37m\u001b[0m \u001b[1m2s\u001b[0m 37ms/step - accuracy: 0.9470 - auc: 0.9194 - loss: 0.1581 - val_accuracy: 0.9258 - val_auc: 0.9066 - val_loss: 0.1963\n",
      "Epoch 7/100\n",
      "\u001b[1m60/60\u001b[0m \u001b[32m━━━━━━━━━━━━━━━━━━━━\u001b[0m\u001b[37m\u001b[0m \u001b[1m2s\u001b[0m 39ms/step - accuracy: 0.9451 - auc: 0.9310 - loss: 0.1509 - val_accuracy: 0.9258 - val_auc: 0.9161 - val_loss: 0.1897\n",
      "Epoch 8/100\n",
      "\u001b[1m60/60\u001b[0m \u001b[32m━━━━━━━━━━━━━━━━━━━━\u001b[0m\u001b[37m\u001b[0m \u001b[1m2s\u001b[0m 37ms/step - accuracy: 0.9468 - auc: 0.9283 - loss: 0.1519 - val_accuracy: 0.9219 - val_auc: 0.9225 - val_loss: 0.1848\n",
      "Epoch 9/100\n",
      "\u001b[1m60/60\u001b[0m \u001b[32m━━━━━━━━━━━━━━━━━━━━\u001b[0m\u001b[37m\u001b[0m \u001b[1m2s\u001b[0m 37ms/step - accuracy: 0.9487 - auc: 0.9415 - loss: 0.1399 - val_accuracy: 0.9219 - val_auc: 0.9342 - val_loss: 0.1769\n",
      "Epoch 10/100\n",
      "\u001b[1m60/60\u001b[0m \u001b[32m━━━━━━━━━━━━━━━━━━━━\u001b[0m\u001b[37m\u001b[0m \u001b[1m2s\u001b[0m 36ms/step - accuracy: 0.9475 - auc: 0.9443 - loss: 0.1405 - val_accuracy: 0.9219 - val_auc: 0.9377 - val_loss: 0.1731\n",
      "Epoch 11/100\n",
      "\u001b[1m60/60\u001b[0m \u001b[32m━━━━━━━━━━━━━━━━━━━━\u001b[0m\u001b[37m\u001b[0m \u001b[1m2s\u001b[0m 37ms/step - accuracy: 0.9514 - auc: 0.9392 - loss: 0.1396 - val_accuracy: 0.9219 - val_auc: 0.9421 - val_loss: 0.1691\n",
      "Epoch 12/100\n",
      "\u001b[1m60/60\u001b[0m \u001b[32m━━━━━━━━━━━━━━━━━━━━\u001b[0m\u001b[37m\u001b[0m \u001b[1m2s\u001b[0m 36ms/step - accuracy: 0.9551 - auc: 0.9469 - loss: 0.1322 - val_accuracy: 0.9219 - val_auc: 0.9467 - val_loss: 0.1652\n",
      "Epoch 13/100\n",
      "\u001b[1m60/60\u001b[0m \u001b[32m━━━━━━━━━━━━━━━━━━━━\u001b[0m\u001b[37m\u001b[0m \u001b[1m3s\u001b[0m 40ms/step - accuracy: 0.9517 - auc: 0.9575 - loss: 0.1270 - val_accuracy: 0.9258 - val_auc: 0.9521 - val_loss: 0.1600\n",
      "Epoch 14/100\n",
      "\u001b[1m60/60\u001b[0m \u001b[32m━━━━━━━━━━━━━━━━━━━━\u001b[0m\u001b[37m\u001b[0m \u001b[1m2s\u001b[0m 38ms/step - accuracy: 0.9568 - auc: 0.9596 - loss: 0.1232 - val_accuracy: 0.9258 - val_auc: 0.9564 - val_loss: 0.1556\n",
      "Epoch 15/100\n",
      "\u001b[1m60/60\u001b[0m \u001b[32m━━━━━━━━━━━━━━━━━━━━\u001b[0m\u001b[37m\u001b[0m \u001b[1m2s\u001b[0m 37ms/step - accuracy: 0.9582 - auc: 0.9544 - loss: 0.1216 - val_accuracy: 0.9219 - val_auc: 0.9597 - val_loss: 0.1510\n",
      "Epoch 16/100\n",
      "\u001b[1m60/60\u001b[0m \u001b[32m━━━━━━━━━━━━━━━━━━━━\u001b[0m\u001b[37m\u001b[0m \u001b[1m2s\u001b[0m 37ms/step - accuracy: 0.9595 - auc: 0.9560 - loss: 0.1205 - val_accuracy: 0.9258 - val_auc: 0.9622 - val_loss: 0.1471\n",
      "Epoch 17/100\n",
      "\u001b[1m60/60\u001b[0m \u001b[32m━━━━━━━━━━━━━━━━━━━━\u001b[0m\u001b[37m\u001b[0m \u001b[1m2s\u001b[0m 38ms/step - accuracy: 0.9565 - auc: 0.9513 - loss: 0.1240 - val_accuracy: 0.9258 - val_auc: 0.9643 - val_loss: 0.1431\n",
      "Epoch 18/100\n",
      "\u001b[1m60/60\u001b[0m \u001b[32m━━━━━━━━━━━━━━━━━━━━\u001b[0m\u001b[37m\u001b[0m \u001b[1m2s\u001b[0m 38ms/step - accuracy: 0.9609 - auc: 0.9661 - loss: 0.1143 - val_accuracy: 0.9297 - val_auc: 0.9649 - val_loss: 0.1412\n",
      "Epoch 19/100\n",
      "\u001b[1m60/60\u001b[0m \u001b[32m━━━━━━━━━━━━━━━━━━━━\u001b[0m\u001b[37m\u001b[0m \u001b[1m2s\u001b[0m 38ms/step - accuracy: 0.9610 - auc: 0.9610 - loss: 0.1170 - val_accuracy: 0.9336 - val_auc: 0.9664 - val_loss: 0.1382\n",
      "Epoch 20/100\n",
      "\u001b[1m60/60\u001b[0m \u001b[32m━━━━━━━━━━━━━━━━━━━━\u001b[0m\u001b[37m\u001b[0m \u001b[1m3s\u001b[0m 38ms/step - accuracy: 0.9618 - auc: 0.9717 - loss: 0.1074 - val_accuracy: 0.9414 - val_auc: 0.9680 - val_loss: 0.1358\n",
      "Epoch 21/100\n",
      "\u001b[1m60/60\u001b[0m \u001b[32m━━━━━━━━━━━━━━━━━━━━\u001b[0m\u001b[37m\u001b[0m \u001b[1m2s\u001b[0m 36ms/step - accuracy: 0.9681 - auc: 0.9659 - loss: 0.1061 - val_accuracy: 0.9453 - val_auc: 0.9695 - val_loss: 0.1340\n",
      "Epoch 22/100\n",
      "\u001b[1m60/60\u001b[0m \u001b[32m━━━━━━━━━━━━━━━━━━━━\u001b[0m\u001b[37m\u001b[0m \u001b[1m2s\u001b[0m 34ms/step - accuracy: 0.9595 - auc: 0.9694 - loss: 0.1089 - val_accuracy: 0.9492 - val_auc: 0.9688 - val_loss: 0.1342\n",
      "Epoch 23/100\n",
      "\u001b[1m60/60\u001b[0m \u001b[32m━━━━━━━━━━━━━━━━━━━━\u001b[0m\u001b[37m\u001b[0m \u001b[1m3s\u001b[0m 36ms/step - accuracy: 0.9668 - auc: 0.9603 - loss: 0.1093 - val_accuracy: 0.9297 - val_auc: 0.9713 - val_loss: 0.1319\n",
      "Epoch 24/100\n",
      "\u001b[1m60/60\u001b[0m \u001b[32m━━━━━━━━━━━━━━━━━━━━\u001b[0m\u001b[37m\u001b[0m \u001b[1m2s\u001b[0m 40ms/step - accuracy: 0.9653 - auc: 0.9625 - loss: 0.1075 - val_accuracy: 0.9492 - val_auc: 0.9724 - val_loss: 0.1289\n",
      "Epoch 25/100\n",
      "\u001b[1m60/60\u001b[0m \u001b[32m━━━━━━━━━━━━━━━━━━━━\u001b[0m\u001b[37m\u001b[0m \u001b[1m2s\u001b[0m 38ms/step - accuracy: 0.9703 - auc: 0.9721 - loss: 0.0994 - val_accuracy: 0.9492 - val_auc: 0.9739 - val_loss: 0.1267\n",
      "Epoch 26/100\n",
      "\u001b[1m60/60\u001b[0m \u001b[32m━━━━━━━━━━━━━━━━━━━━\u001b[0m\u001b[37m\u001b[0m \u001b[1m2s\u001b[0m 34ms/step - accuracy: 0.9630 - auc: 0.9774 - loss: 0.0968 - val_accuracy: 0.9492 - val_auc: 0.9739 - val_loss: 0.1246\n",
      "Epoch 27/100\n",
      "\u001b[1m60/60\u001b[0m \u001b[32m━━━━━━━━━━━━━━━━━━━━\u001b[0m\u001b[37m\u001b[0m \u001b[1m2s\u001b[0m 38ms/step - accuracy: 0.9715 - auc: 0.9690 - loss: 0.1018 - val_accuracy: 0.9492 - val_auc: 0.9753 - val_loss: 0.1222\n",
      "Epoch 28/100\n",
      "\u001b[1m60/60\u001b[0m \u001b[32m━━━━━━━━━━━━━━━━━━━━\u001b[0m\u001b[37m\u001b[0m \u001b[1m2s\u001b[0m 37ms/step - accuracy: 0.9709 - auc: 0.9704 - loss: 0.0990 - val_accuracy: 0.9531 - val_auc: 0.9759 - val_loss: 0.1210\n",
      "Epoch 29/100\n",
      "\u001b[1m60/60\u001b[0m \u001b[32m━━━━━━━━━━━━━━━━━━━━\u001b[0m\u001b[37m\u001b[0m \u001b[1m3s\u001b[0m 39ms/step - accuracy: 0.9711 - auc: 0.9700 - loss: 0.0970 - val_accuracy: 0.9531 - val_auc: 0.9773 - val_loss: 0.1199\n",
      "Epoch 30/100\n",
      "\u001b[1m60/60\u001b[0m \u001b[32m━━━━━━━━━━━━━━━━━━━━\u001b[0m\u001b[37m\u001b[0m \u001b[1m2s\u001b[0m 38ms/step - accuracy: 0.9764 - auc: 0.9809 - loss: 0.0909 - val_accuracy: 0.9531 - val_auc: 0.9776 - val_loss: 0.1168\n",
      "Epoch 31/100\n",
      "\u001b[1m60/60\u001b[0m \u001b[32m━━━━━━━━━━━━━━━━━━━━\u001b[0m\u001b[37m\u001b[0m \u001b[1m2s\u001b[0m 38ms/step - accuracy: 0.9730 - auc: 0.9748 - loss: 0.0960 - val_accuracy: 0.9609 - val_auc: 0.9778 - val_loss: 0.1181\n",
      "Epoch 32/100\n",
      "\u001b[1m60/60\u001b[0m \u001b[32m━━━━━━━━━━━━━━━━━━━━\u001b[0m\u001b[37m\u001b[0m \u001b[1m2s\u001b[0m 36ms/step - accuracy: 0.9699 - auc: 0.9813 - loss: 0.0906 - val_accuracy: 0.9570 - val_auc: 0.9785 - val_loss: 0.1148\n",
      "Epoch 33/100\n",
      "\u001b[1m60/60\u001b[0m \u001b[32m━━━━━━━━━━━━━━━━━━━━\u001b[0m\u001b[37m\u001b[0m \u001b[1m2s\u001b[0m 38ms/step - accuracy: 0.9750 - auc: 0.9792 - loss: 0.0889 - val_accuracy: 0.9609 - val_auc: 0.9793 - val_loss: 0.1141\n",
      "Epoch 34/100\n",
      "\u001b[1m60/60\u001b[0m \u001b[32m━━━━━━━━━━━━━━━━━━━━\u001b[0m\u001b[37m\u001b[0m \u001b[1m2s\u001b[0m 37ms/step - accuracy: 0.9667 - auc: 0.9746 - loss: 0.0960 - val_accuracy: 0.9570 - val_auc: 0.9794 - val_loss: 0.1133\n",
      "Epoch 35/100\n",
      "\u001b[1m60/60\u001b[0m \u001b[32m━━━━━━━━━━━━━━━━━━━━\u001b[0m\u001b[37m\u001b[0m \u001b[1m2s\u001b[0m 36ms/step - accuracy: 0.9685 - auc: 0.9777 - loss: 0.0916 - val_accuracy: 0.9570 - val_auc: 0.9793 - val_loss: 0.1138\n",
      "Epoch 36/100\n",
      "\u001b[1m60/60\u001b[0m \u001b[32m━━━━━━━━━━━━━━━━━━━━\u001b[0m\u001b[37m\u001b[0m \u001b[1m2s\u001b[0m 35ms/step - accuracy: 0.9741 - auc: 0.9804 - loss: 0.0875 - val_accuracy: 0.9609 - val_auc: 0.9791 - val_loss: 0.1129\n",
      "Epoch 37/100\n",
      "\u001b[1m60/60\u001b[0m \u001b[32m━━━━━━━━━━━━━━━━━━━━\u001b[0m\u001b[37m\u001b[0m \u001b[1m3s\u001b[0m 37ms/step - accuracy: 0.9688 - auc: 0.9728 - loss: 0.0942 - val_accuracy: 0.9609 - val_auc: 0.9795 - val_loss: 0.1126\n",
      "Epoch 38/100\n",
      "\u001b[1m60/60\u001b[0m \u001b[32m━━━━━━━━━━━━━━━━━━━━\u001b[0m\u001b[37m\u001b[0m \u001b[1m2s\u001b[0m 36ms/step - accuracy: 0.9725 - auc: 0.9763 - loss: 0.0896 - val_accuracy: 0.9570 - val_auc: 0.9792 - val_loss: 0.1095\n",
      "Epoch 39/100\n",
      "\u001b[1m60/60\u001b[0m \u001b[32m━━━━━━━━━━━━━━━━━━━━\u001b[0m\u001b[37m\u001b[0m \u001b[1m2s\u001b[0m 37ms/step - accuracy: 0.9753 - auc: 0.9849 - loss: 0.0792 - val_accuracy: 0.9727 - val_auc: 0.9801 - val_loss: 0.1091\n",
      "Epoch 40/100\n",
      "\u001b[1m60/60\u001b[0m \u001b[32m━━━━━━━━━━━━━━━━━━━━\u001b[0m\u001b[37m\u001b[0m \u001b[1m2s\u001b[0m 38ms/step - accuracy: 0.9703 - auc: 0.9894 - loss: 0.0788 - val_accuracy: 0.9648 - val_auc: 0.9808 - val_loss: 0.1073\n",
      "Epoch 41/100\n",
      "\u001b[1m60/60\u001b[0m \u001b[32m━━━━━━━━━━━━━━━━━━━━\u001b[0m\u001b[37m\u001b[0m \u001b[1m2s\u001b[0m 36ms/step - accuracy: 0.9724 - auc: 0.9845 - loss: 0.0818 - val_accuracy: 0.9570 - val_auc: 0.9807 - val_loss: 0.1065\n",
      "Epoch 42/100\n",
      "\u001b[1m60/60\u001b[0m \u001b[32m━━━━━━━━━━━━━━━━━━━━\u001b[0m\u001b[37m\u001b[0m \u001b[1m2s\u001b[0m 36ms/step - accuracy: 0.9763 - auc: 0.9864 - loss: 0.0761 - val_accuracy: 0.9609 - val_auc: 0.9798 - val_loss: 0.1082\n",
      "Epoch 43/100\n",
      "\u001b[1m60/60\u001b[0m \u001b[32m━━━━━━━━━━━━━━━━━━━━\u001b[0m\u001b[37m\u001b[0m \u001b[1m3s\u001b[0m 36ms/step - accuracy: 0.9752 - auc: 0.9843 - loss: 0.0778 - val_accuracy: 0.9688 - val_auc: 0.9801 - val_loss: 0.1080\n",
      "Epoch 44/100\n",
      "\u001b[1m60/60\u001b[0m \u001b[32m━━━━━━━━━━━━━━━━━━━━\u001b[0m\u001b[37m\u001b[0m \u001b[1m2s\u001b[0m 35ms/step - accuracy: 0.9750 - auc: 0.9834 - loss: 0.0795 - val_accuracy: 0.9688 - val_auc: 0.9802 - val_loss: 0.1068\n",
      "Epoch 45/100\n",
      "\u001b[1m60/60\u001b[0m \u001b[32m━━━━━━━━━━━━━━━━━━━━\u001b[0m\u001b[37m\u001b[0m \u001b[1m2s\u001b[0m 37ms/step - accuracy: 0.9718 - auc: 0.9816 - loss: 0.0841 - val_accuracy: 0.9688 - val_auc: 0.9817 - val_loss: 0.1059\n",
      "Epoch 46/100\n",
      "\u001b[1m60/60\u001b[0m \u001b[32m━━━━━━━━━━━━━━━━━━━━\u001b[0m\u001b[37m\u001b[0m \u001b[1m2s\u001b[0m 38ms/step - accuracy: 0.9766 - auc: 0.9870 - loss: 0.0782 - val_accuracy: 0.9727 - val_auc: 0.9813 - val_loss: 0.1048\n",
      "Epoch 47/100\n",
      "\u001b[1m60/60\u001b[0m \u001b[32m━━━━━━━━━━━━━━━━━━━━\u001b[0m\u001b[37m\u001b[0m \u001b[1m2s\u001b[0m 35ms/step - accuracy: 0.9772 - auc: 0.9864 - loss: 0.0744 - val_accuracy: 0.9727 - val_auc: 0.9814 - val_loss: 0.1036\n",
      "Epoch 48/100\n",
      "\u001b[1m60/60\u001b[0m \u001b[32m━━━━━━━━━━━━━━━━━━━━\u001b[0m\u001b[37m\u001b[0m \u001b[1m2s\u001b[0m 35ms/step - accuracy: 0.9762 - auc: 0.9882 - loss: 0.0741 - val_accuracy: 0.9648 - val_auc: 0.9816 - val_loss: 0.1040\n",
      "Epoch 49/100\n",
      "\u001b[1m60/60\u001b[0m \u001b[32m━━━━━━━━━━━━━━━━━━━━\u001b[0m\u001b[37m\u001b[0m \u001b[1m2s\u001b[0m 36ms/step - accuracy: 0.9729 - auc: 0.9848 - loss: 0.0810 - val_accuracy: 0.9727 - val_auc: 0.9811 - val_loss: 0.1024\n",
      "Epoch 50/100\n",
      "\u001b[1m60/60\u001b[0m \u001b[32m━━━━━━━━━━━━━━━━━━━━\u001b[0m\u001b[37m\u001b[0m \u001b[1m2s\u001b[0m 35ms/step - accuracy: 0.9753 - auc: 0.9857 - loss: 0.0771 - val_accuracy: 0.9688 - val_auc: 0.9816 - val_loss: 0.1023\n",
      "Epoch 51/100\n",
      "\u001b[1m60/60\u001b[0m \u001b[32m━━━━━━━━━━━━━━━━━━━━\u001b[0m\u001b[37m\u001b[0m \u001b[1m3s\u001b[0m 35ms/step - accuracy: 0.9788 - auc: 0.9919 - loss: 0.0662 - val_accuracy: 0.9688 - val_auc: 0.9813 - val_loss: 0.1020\n",
      "Epoch 52/100\n",
      "\u001b[1m60/60\u001b[0m \u001b[32m━━━━━━━━━━━━━━━━━━━━\u001b[0m\u001b[37m\u001b[0m \u001b[1m2s\u001b[0m 38ms/step - accuracy: 0.9747 - auc: 0.9899 - loss: 0.0731 - val_accuracy: 0.9688 - val_auc: 0.9811 - val_loss: 0.1038\n",
      "Epoch 53/100\n",
      "\u001b[1m60/60\u001b[0m \u001b[32m━━━━━━━━━━━━━━━━━━━━\u001b[0m\u001b[37m\u001b[0m \u001b[1m2s\u001b[0m 37ms/step - accuracy: 0.9764 - auc: 0.9837 - loss: 0.0767 - val_accuracy: 0.9688 - val_auc: 0.9818 - val_loss: 0.1021\n",
      "Epoch 54/100\n",
      "\u001b[1m60/60\u001b[0m \u001b[32m━━━━━━━━━━━━━━━━━━━━\u001b[0m\u001b[37m\u001b[0m \u001b[1m2s\u001b[0m 36ms/step - accuracy: 0.9767 - auc: 0.9858 - loss: 0.0743 - val_accuracy: 0.9688 - val_auc: 0.9820 - val_loss: 0.1003\n",
      "Epoch 55/100\n",
      "\u001b[1m60/60\u001b[0m \u001b[32m━━━━━━━━━━━━━━━━━━━━\u001b[0m\u001b[37m\u001b[0m \u001b[1m3s\u001b[0m 37ms/step - accuracy: 0.9804 - auc: 0.9951 - loss: 0.0639 - val_accuracy: 0.9688 - val_auc: 0.9823 - val_loss: 0.1003\n",
      "Epoch 56/100\n",
      "\u001b[1m60/60\u001b[0m \u001b[32m━━━━━━━━━━━━━━━━━━━━\u001b[0m\u001b[37m\u001b[0m \u001b[1m2s\u001b[0m 36ms/step - accuracy: 0.9733 - auc: 0.9912 - loss: 0.0708 - val_accuracy: 0.9766 - val_auc: 0.9819 - val_loss: 0.0995\n",
      "Epoch 57/100\n",
      "\u001b[1m60/60\u001b[0m \u001b[32m━━━━━━━━━━━━━━━━━━━━\u001b[0m\u001b[37m\u001b[0m \u001b[1m3s\u001b[0m 37ms/step - accuracy: 0.9799 - auc: 0.9910 - loss: 0.0651 - val_accuracy: 0.9766 - val_auc: 0.9818 - val_loss: 0.0976\n",
      "Epoch 58/100\n",
      "\u001b[1m60/60\u001b[0m \u001b[32m━━━━━━━━━━━━━━━━━━━━\u001b[0m\u001b[37m\u001b[0m \u001b[1m2s\u001b[0m 36ms/step - accuracy: 0.9786 - auc: 0.9907 - loss: 0.0665 - val_accuracy: 0.9766 - val_auc: 0.9793 - val_loss: 0.0982\n",
      "Epoch 59/100\n",
      "\u001b[1m60/60\u001b[0m \u001b[32m━━━━━━━━━━━━━━━━━━━━\u001b[0m\u001b[37m\u001b[0m \u001b[1m2s\u001b[0m 35ms/step - accuracy: 0.9797 - auc: 0.9918 - loss: 0.0685 - val_accuracy: 0.9727 - val_auc: 0.9816 - val_loss: 0.0990\n",
      "Epoch 60/100\n",
      "\u001b[1m60/60\u001b[0m \u001b[32m━━━━━━━━━━━━━━━━━━━━\u001b[0m\u001b[37m\u001b[0m \u001b[1m3s\u001b[0m 35ms/step - accuracy: 0.9808 - auc: 0.9912 - loss: 0.0660 - val_accuracy: 0.9727 - val_auc: 0.9811 - val_loss: 0.0990\n",
      "Epoch 61/100\n",
      "\u001b[1m60/60\u001b[0m \u001b[32m━━━━━━━━━━━━━━━━━━━━\u001b[0m\u001b[37m\u001b[0m \u001b[1m2s\u001b[0m 36ms/step - accuracy: 0.9789 - auc: 0.9889 - loss: 0.0696 - val_accuracy: 0.9727 - val_auc: 0.9812 - val_loss: 0.0994\n",
      "Epoch 62/100\n",
      "\u001b[1m60/60\u001b[0m \u001b[32m━━━━━━━━━━━━━━━━━━━━\u001b[0m\u001b[37m\u001b[0m \u001b[1m3s\u001b[0m 36ms/step - accuracy: 0.9796 - auc: 0.9914 - loss: 0.0595 - val_accuracy: 0.9727 - val_auc: 0.9804 - val_loss: 0.0998\n",
      "Epoch 63/100\n",
      "\u001b[1m60/60\u001b[0m \u001b[32m━━━━━━━━━━━━━━━━━━━━\u001b[0m\u001b[37m\u001b[0m \u001b[1m3s\u001b[0m 37ms/step - accuracy: 0.9768 - auc: 0.9924 - loss: 0.0666 - val_accuracy: 0.9727 - val_auc: 0.9815 - val_loss: 0.0996\n",
      "Epoch 64/100\n",
      "\u001b[1m60/60\u001b[0m \u001b[32m━━━━━━━━━━━━━━━━━━━━\u001b[0m\u001b[37m\u001b[0m \u001b[1m2s\u001b[0m 35ms/step - accuracy: 0.9768 - auc: 0.9931 - loss: 0.0641 - val_accuracy: 0.9727 - val_auc: 0.9816 - val_loss: 0.0999\n",
      "Epoch 65/100\n",
      "\u001b[1m60/60\u001b[0m \u001b[32m━━━━━━━━━━━━━━━━━━━━\u001b[0m\u001b[37m\u001b[0m \u001b[1m2s\u001b[0m 36ms/step - accuracy: 0.9820 - auc: 0.9926 - loss: 0.0627 - val_accuracy: 0.9766 - val_auc: 0.9787 - val_loss: 0.0955\n",
      "\u001b[1m60/60\u001b[0m \u001b[32m━━━━━━━━━━━━━━━━━━━━\u001b[0m\u001b[37m\u001b[0m \u001b[1m2s\u001b[0m 31ms/step - accuracy: 0.9824 - auc: 0.9940 - loss: 0.0580\n",
      "\u001b[1m8/8\u001b[0m \u001b[32m━━━━━━━━━━━━━━━━━━━━\u001b[0m\u001b[37m\u001b[0m \u001b[1m0s\u001b[0m 31ms/step - accuracy: 0.9809 - auc: 0.9912 - loss: 0.0772\n",
      "\u001b[1m8/8\u001b[0m \u001b[32m━━━━━━━━━━━━━━━━━━━━\u001b[0m\u001b[37m\u001b[0m \u001b[1m35s\u001b[0m 1s/step - accuracy: 0.9220 - auc: 0.9220 - loss: 0.1968\n",
      "[train] acc: 0.9833 - auc: 0.9945 - loss: 0.0566\n",
      "[val]   acc: 0.9688 - auc: 0.9823 - loss: 0.1003\n",
      "[test]  acc: 0.9367 - auc: 0.9243 - loss: 0.1809\n",
      "\n",
      "\u001b[1m8/8\u001b[0m \u001b[32m━━━━━━━━━━━━━━━━━━━━\u001b[0m\u001b[37m\u001b[0m \u001b[1m7s\u001b[0m 40ms/step\n",
      "              precision    recall  f1-score   support\n",
      "\n",
      "      cancer     0.0938    1.0000    0.1714        24\n",
      "      normal     0.0000    0.0000    0.0000       232\n",
      "\n",
      "    accuracy                         0.0938       256\n",
      "   macro avg     0.0469    0.5000    0.0857       256\n",
      "weighted avg     0.0088    0.0938    0.0161       256\n",
      "\n"
     ]
    },
    {
     "name": "stderr",
     "output_type": "stream",
     "text": [
      "/usr/local/lib/python3.11/dist-packages/sklearn/metrics/_classification.py:1565: UndefinedMetricWarning: Precision is ill-defined and being set to 0.0 in labels with no predicted samples. Use `zero_division` parameter to control this behavior.\n",
      "  _warn_prf(average, modifier, f\"{metric.capitalize()} is\", len(result))\n",
      "/usr/local/lib/python3.11/dist-packages/sklearn/metrics/_classification.py:1565: UndefinedMetricWarning: Precision is ill-defined and being set to 0.0 in labels with no predicted samples. Use `zero_division` parameter to control this behavior.\n",
      "  _warn_prf(average, modifier, f\"{metric.capitalize()} is\", len(result))\n",
      "/usr/local/lib/python3.11/dist-packages/sklearn/metrics/_classification.py:1565: UndefinedMetricWarning: Precision is ill-defined and being set to 0.0 in labels with no predicted samples. Use `zero_division` parameter to control this behavior.\n",
      "  _warn_prf(average, modifier, f\"{metric.capitalize()} is\", len(result))\n"
     ]
    }
   ],
   "source": [
    "train(model_effnetB0, train_ds, val_ds, patience=10)\n",
    "\n",
    "# Evaluate model on training, validation, and testing datasets\n",
    "train_eval = model_name.evaluate(train_ds)\n",
    "val_eval = model_name.evaluate(val_ds)\n",
    "test_eval = model_name.evaluate(test_ds)\n",
    "\n",
    "print(\n",
    "    f\"[train] acc: {train_eval[1]:.4f} - auc: {train_eval[2]:.4f} - loss: {train_eval[0]:.4f}\"\n",
    ")\n",
    "print(\n",
    "    f\"[val]   acc: {val_eval[1]:.4f} - auc: {val_eval[2]:.4f} - loss: {val_eval[0]:.4f}\"\n",
    ")\n",
    "print(\n",
    "    f\"[test]  acc: {test_eval[1]:.4f} - auc: {test_eval[2]:.4f} - loss: {test_eval[0]:.4f}\\n\"\n",
    ")\n",
    "\n",
    "# Get True and Predicted results\n",
    "y_true = np.concatenate([y.numpy() for x, y in val_ds], axis=0)\n",
    "y_pred_probs = model_name.predict(val_ds)\n",
    "y_pred = np.argmax(y_pred_probs, axis=1)\n",
    "\n",
    "# Generate Classification report\n",
    "print(classification_report(y_true, y_pred, target_names=CLASS_NAMES, digits=4))"
   ]
  },
  {
   "cell_type": "code",
   "execution_count": null,
   "metadata": {
    "id": "GbvF002a5muv"
   },
   "outputs": [],
   "source": [
    "def save_model(model, model_name):\n",
    "    models_path = os.path.join(ROOT, \"models\")\n",
    "    model_version = 1 + sum(md.startswith(model_name) for md in os.listdir(models_path))\n",
    "    model_path = os.path.join(models_path, f\"{model_name}_model_v{model_version}.keras\")\n",
    "    model.save(model_path)\n",
    "\n",
    "\n",
    "# save_model(model_effnetB0, 'EffNetB0')"
   ]
  },
  {
   "cell_type": "markdown",
   "metadata": {
    "id": "chn9352INanW"
   },
   "source": [
    "## Evaluating Saved model\n"
   ]
  },
  {
   "cell_type": "code",
   "execution_count": null,
   "metadata": {
    "executionInfo": {
     "elapsed": 12285,
     "status": "ok",
     "timestamp": 1751903354826,
     "user": {
      "displayName": "Shiwam Dutta",
      "userId": "11111948761228755611"
     },
     "user_tz": -330
    },
    "id": "6YAfGuwmrDSP"
   },
   "outputs": [],
   "source": [
    "effnet_model_1 = models.load_model(os.path.join(ROOT, \"models/EffNetB0_model_v1.keras\"))\n",
    "effnet_model_2 = models.load_model(os.path.join(ROOT, \"models/EffNetB0_model_v2.keras\"))\n",
    "effnet_model_3 = models.load_model(os.path.join(ROOT, \"models/EffNetB0_model_v3.keras\"))"
   ]
  },
  {
   "cell_type": "code",
   "execution_count": 11,
   "metadata": {
    "colab": {
     "base_uri": "https://localhost:8080/",
     "height": 798
    },
    "executionInfo": {
     "elapsed": 311710,
     "status": "ok",
     "timestamp": 1751901746951,
     "user": {
      "displayName": "Shiwam Dutta",
      "userId": "11111948761228755611"
     },
     "user_tz": -330
    },
    "id": "kiX0XOMsXtZS",
    "outputId": "f70e325e-a3d3-44e1-fe3f-2b28abd87488"
   },
   "outputs": [
    {
     "name": "stdout",
     "output_type": "stream",
     "text": [
      "EfficientNetB0 model \n",
      "trained in 719 images(188 cancer + 531 normal)\n",
      "\u001b[1m18/18\u001b[0m \u001b[32m━━━━━━━━━━━━━━━━━━━━\u001b[0m\u001b[37m\u001b[0m \u001b[1m171s\u001b[0m 9s/step - accuracy: 0.9545 - auc: 0.9844 - loss: 0.1678\n",
      "\u001b[1m3/3\u001b[0m \u001b[32m━━━━━━━━━━━━━━━━━━━━\u001b[0m\u001b[37m\u001b[0m \u001b[1m43s\u001b[0m 3s/step - accuracy: 0.9583 - auc: 0.9866 - loss: 0.1704\n",
      "\u001b[1m2/2\u001b[0m \u001b[32m━━━━━━━━━━━━━━━━━━━━\u001b[0m\u001b[37m\u001b[0m \u001b[1m14s\u001b[0m 1s/step - accuracy: 0.9428 - auc: 0.9776 - loss: 0.1597\n",
      "[train] acc: 0.9462 - auc: 0.9798 - loss: 0.1703\n",
      "[val]   acc: 0.9479 - auc: 0.9893 - loss: 0.1615\n",
      "[test]  acc: 0.9298 - auc: 0.9665 - loss: 0.1873\n",
      "\n",
      "\u001b[1m3/3\u001b[0m \u001b[32m━━━━━━━━━━━━━━━━━━━━\u001b[0m\u001b[37m\u001b[0m \u001b[1m2s\u001b[0m 93ms/step\n",
      "cancer: 0, normal: 1\n"
     ]
    },
    {
     "data": {
      "image/png": "[encoded data removed]",
      "text/plain": [
       "<Figure size 600x400 with 2 Axes>"
      ]
     },
     "metadata": {},
     "output_type": "display_data"
    },
    {
     "name": "stdout",
     "output_type": "stream",
     "text": [
      "Classifiation Report on Validation dataset\n",
      "              precision    recall  f1-score   support\n",
      "\n",
      "      cancer     0.9231    0.8889    0.9057        27\n",
      "      normal     0.9571    0.9710    0.9640        69\n",
      "\n",
      "    accuracy                         0.9479        96\n",
      "   macro avg     0.9401    0.9300    0.9348        96\n",
      "weighted avg     0.9476    0.9479    0.9476        96\n",
      "\n"
     ]
    }
   ],
   "source": [
    "print(\"EfficientNetB0 model \\ntrained in 719 images(188 cancer + 531 normal)\")\n",
    "report(effnet_model_1)"
   ]
  },
  {
   "cell_type": "code",
   "execution_count": 11,
   "metadata": {
    "colab": {
     "base_uri": "https://localhost:8080/",
     "height": 798
    },
    "executionInfo": {
     "elapsed": 59513,
     "status": "ok",
     "timestamp": 1751903414331,
     "user": {
      "displayName": "Shiwam Dutta",
      "userId": "11111948761228755611"
     },
     "user_tz": -330
    },
    "id": "dKXVcINNwi3G",
    "outputId": "07b1c6f9-2bd2-457c-db19-e1eb4964f516"
   },
   "outputs": [
    {
     "name": "stdout",
     "output_type": "stream",
     "text": [
      "EfficientNetB0 model \n",
      "trained in 730 images(199 cancer + 531 normal)\n",
      "\u001b[1m18/18\u001b[0m \u001b[32m━━━━━━━━━━━━━━━━━━━━\u001b[0m\u001b[37m\u001b[0m \u001b[1m25s\u001b[0m 386ms/step - accuracy: 0.9765 - auc: 0.9962 - loss: 0.0822\n",
      "\u001b[1m3/3\u001b[0m \u001b[32m━━━━━━━━━━━━━━━━━━━━\u001b[0m\u001b[37m\u001b[0m \u001b[1m8s\u001b[0m 382ms/step - accuracy: 0.9375 - auc: 0.9536 - loss: 0.1939\n",
      "\u001b[1m2/2\u001b[0m \u001b[32m━━━━━━━━━━━━━━━━━━━━\u001b[0m\u001b[37m\u001b[0m \u001b[1m15s\u001b[0m 6s/step - accuracy: 0.9551 - auc: 0.9217 - loss: 0.2577\n",
      "[train] acc: 0.9740 - auc: 0.9961 - loss: 0.0874\n",
      "[val]   acc: 0.9375 - auc: 0.9511 - loss: 0.2037\n",
      "[test]  acc: 0.9483 - auc: 0.9091 - loss: 0.2769\n",
      "\n",
      "\u001b[1m3/3\u001b[0m \u001b[32m━━━━━━━━━━━━━━━━━━━━\u001b[0m\u001b[37m\u001b[0m \u001b[1m6s\u001b[0m 44ms/step\n",
      "cancer: 0, normal: 1\n"
     ]
    },
    {
     "data": {
      "image/png": "[encoded data removed]",
      "text/plain": [
       "<Figure size 600x400 with 2 Axes>"
      ]
     },
     "metadata": {},
     "output_type": "display_data"
    },
    {
     "name": "stdout",
     "output_type": "stream",
     "text": [
      "Classifiation Report on Validation dataset\n",
      "              precision    recall  f1-score   support\n",
      "\n",
      "      cancer     0.8261    0.9048    0.8636        21\n",
      "      normal     0.9726    0.9467    0.9595        75\n",
      "\n",
      "    accuracy                         0.9375        96\n",
      "   macro avg     0.8993    0.9257    0.9115        96\n",
      "weighted avg     0.9406    0.9375    0.9385        96\n",
      "\n"
     ]
    }
   ],
   "source": [
    "print(\"EfficientNetB0 model \\ntrained in 730 images(199 cancer + 531 normal)\")\n",
    "report(effnet_model_2)"
   ]
  },
  {
   "cell_type": "code",
   "execution_count": 18,
   "metadata": {
    "colab": {
     "base_uri": "https://localhost:8080/",
     "height": 798
    },
    "executionInfo": {
     "elapsed": 922334,
     "status": "ok",
     "timestamp": 1751902884052,
     "user": {
      "displayName": "Shiwam Dutta",
      "userId": "11111948761228755611"
     },
     "user_tz": -330
    },
    "id": "i4mTPFozucCR",
    "outputId": "285c09ba-a307-4a8b-d8c3-d6395a0b0f7d"
   },
   "outputs": [
    {
     "name": "stdout",
     "output_type": "stream",
     "text": [
      "EfficientNetB0 model \n",
      "trained in 2413 images(199 cancer + 2214 normal)\n",
      "\u001b[1m60/60\u001b[0m \u001b[32m━━━━━━━━━━━━━━━━━━━━\u001b[0m\u001b[37m\u001b[0m \u001b[1m631s\u001b[0m 10s/step - accuracy: 0.9846 - auc: 0.9943 - loss: 0.0575\n",
      "\u001b[1m8/8\u001b[0m \u001b[32m━━━━━━━━━━━━━━━━━━━━\u001b[0m\u001b[37m\u001b[0m \u001b[1m113s\u001b[0m 7s/step - accuracy: 0.9632 - auc: 0.9550 - loss: 0.1149\n",
      "\u001b[1m8/8\u001b[0m \u001b[32m━━━━━━━━━━━━━━━━━━━━\u001b[0m\u001b[37m\u001b[0m \u001b[1m92s\u001b[0m 5s/step - accuracy: 0.9178 - auc: 0.8890 - loss: 0.2045\n",
      "[train] acc: 0.9849 - auc: 0.9951 - loss: 0.0545\n",
      "[val]   acc: 0.9570 - auc: 0.9605 - loss: 0.1302\n",
      "[test]  acc: 0.9283 - auc: 0.9138 - loss: 0.1787\n",
      "\n",
      "\u001b[1m8/8\u001b[0m \u001b[32m━━━━━━━━━━━━━━━━━━━━\u001b[0m\u001b[37m\u001b[0m \u001b[1m7s\u001b[0m 38ms/step\n",
      "cancer: 0, normal: 1\n"
     ]
    },
    {
     "data": {
      "image/png": "[encoded data removed]",
      "text/plain": [
       "<Figure size 600x400 with 2 Axes>"
      ]
     },
     "metadata": {},
     "output_type": "display_data"
    },
    {
     "name": "stdout",
     "output_type": "stream",
     "text": [
      "Classifiation Report on Validation dataset\n",
      "              precision    recall  f1-score   support\n",
      "\n",
      "      cancer     0.7647    0.6500    0.7027        20\n",
      "      normal     0.9707    0.9831    0.9768       236\n",
      "\n",
      "    accuracy                         0.9570       256\n",
      "   macro avg     0.8677    0.8165    0.8398       256\n",
      "weighted avg     0.9546    0.9570    0.9554       256\n",
      "\n"
     ]
    }
   ],
   "source": [
    "print(\"EfficientNetB0 model \\ntrained in 2413 images(199 cancer + 2214 normal)\")\n",
    "report(effnet_model_3)"
   ]
  }
 ],
 "metadata": {
  "accelerator": "GPU",
  "colab": {
   "authorship_tag": "ABX9TyMClUNrxCIZCDyjuzDnKN5O",
   "gpuType": "T4",
   "mount_file_id": "1u4tXgiU4cdWEy-PfMRJS6ZUC2qbaxwzl",
   "provenance": [],
   "toc_visible": true
  },
  "kernelspec": {
   "display_name": "Python 3",
   "name": "python3"
  },
  "language_info": {
   "name": "python"
  }
 },
 "nbformat": 4,
 "nbformat_minor": 0
}
